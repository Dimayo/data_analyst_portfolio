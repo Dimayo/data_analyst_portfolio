{
 "cells": [
  {
   "cell_type": "markdown",
   "id": "9cc54f02",
   "metadata": {
    "id": "9cc54f02"
   },
   "source": [
    "### Imports"
   ]
  },
  {
   "cell_type": "code",
   "execution_count": 1,
   "id": "f56b016c",
   "metadata": {
    "id": "f56b016c"
   },
   "outputs": [],
   "source": [
    "import os\n",
    "import joblib\n",
    "import pandas as pd\n",
    "import tqdm\n",
    "import numpy as np\n",
    "import matplotlib.pyplot as plt\n",
    "\n",
    "from sklearn.model_selection import train_test_split, cross_val_score, RandomizedSearchCV, StratifiedKFold, GridSearchCV\n",
    "from sklearn.feature_selection import GenericUnivariateSelect, mutual_info_classif, chi2\n",
    "from sklearn.ensemble import RandomForestClassifier\n",
    "from sklearn.linear_model import LogisticRegression\n",
    "from sklearn.preprocessing import StandardScaler\n",
    "from sklearn.ensemble import GradientBoostingClassifier\n",
    "from sklearn.pipeline import Pipeline\n",
    "from sklearn.metrics import roc_auc_score\n",
    "from sklearn.metrics import roc_curve\n",
    "from sklearn.utils import resample"
   ]
  },
  {
   "cell_type": "markdown",
   "id": "6aaa2b33",
   "metadata": {
    "id": "6aaa2b33"
   },
   "source": [
    "### Data loading"
   ]
  },
  {
   "cell_type": "code",
   "execution_count": null,
   "id": "a9da9c7d",
   "metadata": {
    "id": "a9da9c7d"
   },
   "outputs": [],
   "source": [
    "path = 'train_data/'"
   ]
  },
  {
   "cell_type": "code",
   "execution_count": null,
   "id": "a932beb6",
   "metadata": {
    "id": "a932beb6"
   },
   "outputs": [],
   "source": [
    "# Загружаем parquet файлы\n",
    "\n",
    "def read_parquet_dataset_from_local(path_to_dataset: str, start_from: int = 0,\n",
    "                                     num_parts_to_read: int = 2, columns=None, verbose=False) -> pd.DataFrame:\n",
    "    res = []\n",
    "    dataset_paths = sorted([os.path.join(path_to_dataset, filename) for filename in os.listdir(path_to_dataset)\n",
    "                              if filename.startswith('train')])\n",
    "    print(dataset_paths)\n",
    "\n",
    "    start_from = max(0, start_from)\n",
    "    chunks = dataset_paths[start_from: start_from + num_parts_to_read]\n",
    "    if verbose:\n",
    "        print('Reading chunks:\\n')\n",
    "        for chunk in chunks:\n",
    "            print(chunk)\n",
    "    for chunk_path in tqdm.tqdm_notebook(chunks, desc=\"Reading dataset with pandas\"):\n",
    "        print('chunk_path', chunk_path)\n",
    "        chunk = pd.read_parquet(chunk_path,columns=columns)\n",
    "        res.append(chunk)\n",
    "\n",
    "    return pd.concat(res).reset_index(drop=True)"
   ]
  },
  {
   "cell_type": "code",
   "execution_count": null,
   "id": "82cc6d62",
   "metadata": {
    "id": "82cc6d62"
   },
   "outputs": [],
   "source": [
    "def prepare_transactions_dataset(path_to_dataset: str, num_parts_to_preprocess_at_once: int = 1, num_parts_total: int=50,\n",
    "                                 save_to_path=None, verbose: bool=False):\n",
    "    preprocessed_frames = []\n",
    "\n",
    "    columns = ['id',\n",
    "               'rn',\n",
    "               'pre_since_opened',\n",
    "               'pre_since_confirmed',\n",
    "               'pre_pterm',\n",
    "               'pre_fterm',\n",
    "               'pre_till_pclose',\n",
    "               'pre_till_fclose',\n",
    "               'pre_loans_credit_limit',\n",
    "               'pre_loans_next_pay_summ',\n",
    "               'pre_loans_outstanding',\n",
    "               'pre_loans_total_overdue',\n",
    "               'pre_loans_max_overdue_sum',\n",
    "               'pre_loans_credit_cost_rate',\n",
    "               'pre_loans5',\n",
    "               'pre_loans530',\n",
    "               'pre_loans3060',\n",
    "               'pre_loans6090',\n",
    "               'pre_loans90',\n",
    "               'is_zero_loans5',\n",
    "               'is_zero_loans530',\n",
    "               'is_zero_loans3060',\n",
    "               'is_zero_loans6090',\n",
    "               'is_zero_loans90',\n",
    "               'pre_util',\n",
    "               'pre_over2limit',\n",
    "               'pre_maxover2limit',\n",
    "               'is_zero_util',\n",
    "               'is_zero_over2limit',\n",
    "               'is_zero_maxover2limit',\n",
    "               'enc_paym_0',\n",
    "               'enc_paym_1',\n",
    "               'enc_paym_2',\n",
    "               'enc_paym_3',\n",
    "               'enc_paym_4',\n",
    "               'enc_paym_5',\n",
    "               'enc_paym_6',\n",
    "               'enc_paym_7',\n",
    "               'enc_paym_8',\n",
    "               'enc_paym_9',\n",
    "               'enc_paym_10',\n",
    "               'enc_paym_11',\n",
    "               'enc_paym_12',\n",
    "               'enc_paym_13',\n",
    "               'enc_paym_14',\n",
    "               'enc_paym_15',\n",
    "               'enc_paym_16',\n",
    "               'enc_paym_17',\n",
    "               'enc_paym_18',\n",
    "               'enc_paym_19',\n",
    "               'enc_paym_20',\n",
    "               'enc_paym_21',\n",
    "               'enc_paym_22',\n",
    "               'enc_paym_23',\n",
    "               'enc_paym_24',\n",
    "               'enc_loans_account_holder_type',\n",
    "               'enc_loans_credit_status',\n",
    "               'enc_loans_credit_type',\n",
    "               'enc_loans_account_cur',\n",
    "               'pclose_flag',\n",
    "               'fclose_flag']\n",
    "\n",
    "    for step in tqdm.tqdm_notebook(range(0, num_parts_total, num_parts_to_preprocess_at_once),\n",
    "                                   desc=\"Transforming transactions data\"):\n",
    "        transactions_frame = read_parquet_dataset_from_local(path_to_dataset, step, num_parts_to_preprocess_at_once,columns=columns,\n",
    "                                                             verbose=verbose)\n",
    "\n",
    "\n",
    "        if save_to_path:\n",
    "            block_as_str = str(step)\n",
    "            if len(block_as_str) == 1:\n",
    "                block_as_str = '00' + block_as_str\n",
    "            else:\n",
    "                block_as_str = '0' + block_as_str\n",
    "            transactions_frame.to_parquet(os.path.join(save_to_path, f'processed_chunk_{block_as_str}.parquet'))\n",
    "\n",
    "        preprocessed_frames.append(transactions_frame)\n",
    "    return pd.concat(preprocessed_frames)"
   ]
  },
  {
   "cell_type": "code",
   "execution_count": null,
   "id": "01dc0dc8",
   "metadata": {
    "colab": {
     "referenced_widgets": [
      "59806c9d0aa846678ddebd4fb8c771cc",
      "46fbd9fd236f473fb29f313a096a2e94",
      "706fd2d748e34460950cb3f192306601",
      "c83df695c9084295bf527d8389ce30ac",
      "0b42bfc8f97641e0a628c11545a2e5ea",
      "32d3ca87c1ed4553afd280cf06d2a060",
      "191c97adf4f34c5b893445c89447616b"
     ]
    },
    "id": "01dc0dc8",
    "outputId": "2463fd35-f95b-441c-da43-e22d55585892"
   },
   "outputs": [
    {
     "name": "stderr",
     "output_type": "stream",
     "text": [
      "C:\\Users\\mayor\\AppData\\Local\\Temp\\ipykernel_14184\\3596758758.py:38: TqdmDeprecationWarning: This function will be removed in tqdm==5.0.0\n",
      "Please use `tqdm.notebook.tqdm` instead of `tqdm.tqdm_notebook`\n",
      "  for step in tqdm.tqdm_notebook(range(0, num_parts_total, num_parts_to_preprocess_at_once),\n"
     ]
    },
    {
     "data": {
      "application/vnd.jupyter.widget-view+json": {
       "model_id": "59806c9d0aa846678ddebd4fb8c771cc",
       "version_major": 2,
       "version_minor": 0
      },
      "text/plain": [
       "Transforming transactions data:   0%|          | 0/6 [00:00<?, ?it/s]"
      ]
     },
     "metadata": {},
     "output_type": "display_data"
    },
    {
     "name": "stdout",
     "output_type": "stream",
     "text": [
      "['train_data/train_data_0.pq', 'train_data/train_data_1.pq', 'train_data/train_data_10.pq', 'train_data/train_data_11.pq', 'train_data/train_data_2.pq', 'train_data/train_data_3.pq', 'train_data/train_data_4.pq', 'train_data/train_data_5.pq', 'train_data/train_data_6.pq', 'train_data/train_data_7.pq', 'train_data/train_data_8.pq', 'train_data/train_data_9.pq']\n"
     ]
    },
    {
     "name": "stderr",
     "output_type": "stream",
     "text": [
      "C:\\Users\\mayor\\AppData\\Local\\Temp\\ipykernel_14184\\3570205359.py:14: TqdmDeprecationWarning: This function will be removed in tqdm==5.0.0\n",
      "Please use `tqdm.notebook.tqdm` instead of `tqdm.tqdm_notebook`\n",
      "  for chunk_path in tqdm.tqdm_notebook(chunks, desc=\"Reading dataset with pandas\"):\n"
     ]
    },
    {
     "data": {
      "application/vnd.jupyter.widget-view+json": {
       "model_id": "46fbd9fd236f473fb29f313a096a2e94",
       "version_major": 2,
       "version_minor": 0
      },
      "text/plain": [
       "Reading dataset with pandas:   0%|          | 0/2 [00:00<?, ?it/s]"
      ]
     },
     "metadata": {},
     "output_type": "display_data"
    },
    {
     "name": "stdout",
     "output_type": "stream",
     "text": [
      "chunk_path train_data/train_data_0.pq\n",
      "chunk_path train_data/train_data_1.pq\n",
      "['train_data/train_data_0.pq', 'train_data/train_data_1.pq', 'train_data/train_data_10.pq', 'train_data/train_data_11.pq', 'train_data/train_data_2.pq', 'train_data/train_data_3.pq', 'train_data/train_data_4.pq', 'train_data/train_data_5.pq', 'train_data/train_data_6.pq', 'train_data/train_data_7.pq', 'train_data/train_data_8.pq', 'train_data/train_data_9.pq']\n"
     ]
    },
    {
     "name": "stderr",
     "output_type": "stream",
     "text": [
      "C:\\Users\\mayor\\AppData\\Local\\Temp\\ipykernel_14184\\3570205359.py:14: TqdmDeprecationWarning: This function will be removed in tqdm==5.0.0\n",
      "Please use `tqdm.notebook.tqdm` instead of `tqdm.tqdm_notebook`\n",
      "  for chunk_path in tqdm.tqdm_notebook(chunks, desc=\"Reading dataset with pandas\"):\n"
     ]
    },
    {
     "data": {
      "application/vnd.jupyter.widget-view+json": {
       "model_id": "706fd2d748e34460950cb3f192306601",
       "version_major": 2,
       "version_minor": 0
      },
      "text/plain": [
       "Reading dataset with pandas:   0%|          | 0/2 [00:00<?, ?it/s]"
      ]
     },
     "metadata": {},
     "output_type": "display_data"
    },
    {
     "name": "stdout",
     "output_type": "stream",
     "text": [
      "chunk_path train_data/train_data_10.pq\n",
      "chunk_path train_data/train_data_11.pq\n",
      "['train_data/train_data_0.pq', 'train_data/train_data_1.pq', 'train_data/train_data_10.pq', 'train_data/train_data_11.pq', 'train_data/train_data_2.pq', 'train_data/train_data_3.pq', 'train_data/train_data_4.pq', 'train_data/train_data_5.pq', 'train_data/train_data_6.pq', 'train_data/train_data_7.pq', 'train_data/train_data_8.pq', 'train_data/train_data_9.pq']\n"
     ]
    },
    {
     "name": "stderr",
     "output_type": "stream",
     "text": [
      "C:\\Users\\mayor\\AppData\\Local\\Temp\\ipykernel_14184\\3570205359.py:14: TqdmDeprecationWarning: This function will be removed in tqdm==5.0.0\n",
      "Please use `tqdm.notebook.tqdm` instead of `tqdm.tqdm_notebook`\n",
      "  for chunk_path in tqdm.tqdm_notebook(chunks, desc=\"Reading dataset with pandas\"):\n"
     ]
    },
    {
     "data": {
      "application/vnd.jupyter.widget-view+json": {
       "model_id": "c83df695c9084295bf527d8389ce30ac",
       "version_major": 2,
       "version_minor": 0
      },
      "text/plain": [
       "Reading dataset with pandas:   0%|          | 0/2 [00:00<?, ?it/s]"
      ]
     },
     "metadata": {},
     "output_type": "display_data"
    },
    {
     "name": "stdout",
     "output_type": "stream",
     "text": [
      "chunk_path train_data/train_data_2.pq\n",
      "chunk_path train_data/train_data_3.pq\n",
      "['train_data/train_data_0.pq', 'train_data/train_data_1.pq', 'train_data/train_data_10.pq', 'train_data/train_data_11.pq', 'train_data/train_data_2.pq', 'train_data/train_data_3.pq', 'train_data/train_data_4.pq', 'train_data/train_data_5.pq', 'train_data/train_data_6.pq', 'train_data/train_data_7.pq', 'train_data/train_data_8.pq', 'train_data/train_data_9.pq']\n"
     ]
    },
    {
     "name": "stderr",
     "output_type": "stream",
     "text": [
      "C:\\Users\\mayor\\AppData\\Local\\Temp\\ipykernel_14184\\3570205359.py:14: TqdmDeprecationWarning: This function will be removed in tqdm==5.0.0\n",
      "Please use `tqdm.notebook.tqdm` instead of `tqdm.tqdm_notebook`\n",
      "  for chunk_path in tqdm.tqdm_notebook(chunks, desc=\"Reading dataset with pandas\"):\n"
     ]
    },
    {
     "data": {
      "application/vnd.jupyter.widget-view+json": {
       "model_id": "0b42bfc8f97641e0a628c11545a2e5ea",
       "version_major": 2,
       "version_minor": 0
      },
      "text/plain": [
       "Reading dataset with pandas:   0%|          | 0/2 [00:00<?, ?it/s]"
      ]
     },
     "metadata": {},
     "output_type": "display_data"
    },
    {
     "name": "stdout",
     "output_type": "stream",
     "text": [
      "chunk_path train_data/train_data_4.pq\n",
      "chunk_path train_data/train_data_5.pq\n",
      "['train_data/train_data_0.pq', 'train_data/train_data_1.pq', 'train_data/train_data_10.pq', 'train_data/train_data_11.pq', 'train_data/train_data_2.pq', 'train_data/train_data_3.pq', 'train_data/train_data_4.pq', 'train_data/train_data_5.pq', 'train_data/train_data_6.pq', 'train_data/train_data_7.pq', 'train_data/train_data_8.pq', 'train_data/train_data_9.pq']\n"
     ]
    },
    {
     "name": "stderr",
     "output_type": "stream",
     "text": [
      "C:\\Users\\mayor\\AppData\\Local\\Temp\\ipykernel_14184\\3570205359.py:14: TqdmDeprecationWarning: This function will be removed in tqdm==5.0.0\n",
      "Please use `tqdm.notebook.tqdm` instead of `tqdm.tqdm_notebook`\n",
      "  for chunk_path in tqdm.tqdm_notebook(chunks, desc=\"Reading dataset with pandas\"):\n"
     ]
    },
    {
     "data": {
      "application/vnd.jupyter.widget-view+json": {
       "model_id": "32d3ca87c1ed4553afd280cf06d2a060",
       "version_major": 2,
       "version_minor": 0
      },
      "text/plain": [
       "Reading dataset with pandas:   0%|          | 0/2 [00:00<?, ?it/s]"
      ]
     },
     "metadata": {},
     "output_type": "display_data"
    },
    {
     "name": "stdout",
     "output_type": "stream",
     "text": [
      "chunk_path train_data/train_data_6.pq\n",
      "chunk_path train_data/train_data_7.pq\n",
      "['train_data/train_data_0.pq', 'train_data/train_data_1.pq', 'train_data/train_data_10.pq', 'train_data/train_data_11.pq', 'train_data/train_data_2.pq', 'train_data/train_data_3.pq', 'train_data/train_data_4.pq', 'train_data/train_data_5.pq', 'train_data/train_data_6.pq', 'train_data/train_data_7.pq', 'train_data/train_data_8.pq', 'train_data/train_data_9.pq']\n"
     ]
    },
    {
     "name": "stderr",
     "output_type": "stream",
     "text": [
      "C:\\Users\\mayor\\AppData\\Local\\Temp\\ipykernel_14184\\3570205359.py:14: TqdmDeprecationWarning: This function will be removed in tqdm==5.0.0\n",
      "Please use `tqdm.notebook.tqdm` instead of `tqdm.tqdm_notebook`\n",
      "  for chunk_path in tqdm.tqdm_notebook(chunks, desc=\"Reading dataset with pandas\"):\n"
     ]
    },
    {
     "data": {
      "application/vnd.jupyter.widget-view+json": {
       "model_id": "191c97adf4f34c5b893445c89447616b",
       "version_major": 2,
       "version_minor": 0
      },
      "text/plain": [
       "Reading dataset with pandas:   0%|          | 0/2 [00:00<?, ?it/s]"
      ]
     },
     "metadata": {},
     "output_type": "display_data"
    },
    {
     "name": "stdout",
     "output_type": "stream",
     "text": [
      "chunk_path train_data/train_data_8.pq\n",
      "chunk_path train_data/train_data_9.pq\n"
     ]
    }
   ],
   "source": [
    "data = prepare_transactions_dataset(path, num_parts_to_preprocess_at_once=2, num_parts_total=12,\n",
    "                                    save_to_path='train_data/')"
   ]
  },
  {
   "cell_type": "code",
   "execution_count": null,
   "id": "268d4db4",
   "metadata": {
    "id": "268d4db4",
    "outputId": "5e1c152f-5e0e-424c-e2f4-6dd9d6a20284"
   },
   "outputs": [
    {
     "data": {
      "text/html": [
       "<div>\n",
       "<style scoped>\n",
       "    .dataframe tbody tr th:only-of-type {\n",
       "        vertical-align: middle;\n",
       "    }\n",
       "\n",
       "    .dataframe tbody tr th {\n",
       "        vertical-align: top;\n",
       "    }\n",
       "\n",
       "    .dataframe thead th {\n",
       "        text-align: right;\n",
       "    }\n",
       "</style>\n",
       "<table border=\"1\" class=\"dataframe\">\n",
       "  <thead>\n",
       "    <tr style=\"text-align: right;\">\n",
       "      <th></th>\n",
       "      <th>id</th>\n",
       "      <th>enc_paym_0</th>\n",
       "      <th>enc_paym_1</th>\n",
       "      <th>enc_paym_2</th>\n",
       "      <th>enc_paym_3</th>\n",
       "      <th>enc_paym_4</th>\n",
       "      <th>enc_paym_5</th>\n",
       "      <th>enc_paym_6</th>\n",
       "      <th>enc_paym_7</th>\n",
       "      <th>enc_paym_8</th>\n",
       "      <th>...</th>\n",
       "      <th>enc_paym_21</th>\n",
       "      <th>enc_paym_22</th>\n",
       "      <th>enc_paym_23</th>\n",
       "      <th>enc_paym_24</th>\n",
       "      <th>enc_loans_account_holder_type</th>\n",
       "      <th>enc_loans_credit_status</th>\n",
       "      <th>enc_loans_credit_type</th>\n",
       "      <th>enc_loans_account_cur</th>\n",
       "      <th>pclose_flag</th>\n",
       "      <th>fclose_flag</th>\n",
       "    </tr>\n",
       "  </thead>\n",
       "  <tbody>\n",
       "    <tr>\n",
       "      <th>0</th>\n",
       "      <td>0</td>\n",
       "      <td>0</td>\n",
       "      <td>0</td>\n",
       "      <td>3</td>\n",
       "      <td>3</td>\n",
       "      <td>3</td>\n",
       "      <td>3</td>\n",
       "      <td>3</td>\n",
       "      <td>3</td>\n",
       "      <td>3</td>\n",
       "      <td>...</td>\n",
       "      <td>3</td>\n",
       "      <td>3</td>\n",
       "      <td>3</td>\n",
       "      <td>4</td>\n",
       "      <td>1</td>\n",
       "      <td>3</td>\n",
       "      <td>4</td>\n",
       "      <td>1</td>\n",
       "      <td>0</td>\n",
       "      <td>0</td>\n",
       "    </tr>\n",
       "    <tr>\n",
       "      <th>1</th>\n",
       "      <td>0</td>\n",
       "      <td>0</td>\n",
       "      <td>0</td>\n",
       "      <td>0</td>\n",
       "      <td>0</td>\n",
       "      <td>0</td>\n",
       "      <td>0</td>\n",
       "      <td>0</td>\n",
       "      <td>0</td>\n",
       "      <td>0</td>\n",
       "      <td>...</td>\n",
       "      <td>0</td>\n",
       "      <td>0</td>\n",
       "      <td>0</td>\n",
       "      <td>4</td>\n",
       "      <td>1</td>\n",
       "      <td>3</td>\n",
       "      <td>4</td>\n",
       "      <td>1</td>\n",
       "      <td>0</td>\n",
       "      <td>0</td>\n",
       "    </tr>\n",
       "    <tr>\n",
       "      <th>2</th>\n",
       "      <td>0</td>\n",
       "      <td>0</td>\n",
       "      <td>0</td>\n",
       "      <td>0</td>\n",
       "      <td>0</td>\n",
       "      <td>0</td>\n",
       "      <td>0</td>\n",
       "      <td>0</td>\n",
       "      <td>0</td>\n",
       "      <td>0</td>\n",
       "      <td>...</td>\n",
       "      <td>0</td>\n",
       "      <td>0</td>\n",
       "      <td>0</td>\n",
       "      <td>4</td>\n",
       "      <td>1</td>\n",
       "      <td>2</td>\n",
       "      <td>3</td>\n",
       "      <td>1</td>\n",
       "      <td>1</td>\n",
       "      <td>1</td>\n",
       "    </tr>\n",
       "    <tr>\n",
       "      <th>3</th>\n",
       "      <td>0</td>\n",
       "      <td>1</td>\n",
       "      <td>0</td>\n",
       "      <td>0</td>\n",
       "      <td>0</td>\n",
       "      <td>0</td>\n",
       "      <td>0</td>\n",
       "      <td>0</td>\n",
       "      <td>0</td>\n",
       "      <td>0</td>\n",
       "      <td>...</td>\n",
       "      <td>3</td>\n",
       "      <td>3</td>\n",
       "      <td>3</td>\n",
       "      <td>4</td>\n",
       "      <td>1</td>\n",
       "      <td>3</td>\n",
       "      <td>1</td>\n",
       "      <td>1</td>\n",
       "      <td>0</td>\n",
       "      <td>0</td>\n",
       "    </tr>\n",
       "    <tr>\n",
       "      <th>4</th>\n",
       "      <td>0</td>\n",
       "      <td>0</td>\n",
       "      <td>0</td>\n",
       "      <td>0</td>\n",
       "      <td>0</td>\n",
       "      <td>0</td>\n",
       "      <td>0</td>\n",
       "      <td>0</td>\n",
       "      <td>3</td>\n",
       "      <td>3</td>\n",
       "      <td>...</td>\n",
       "      <td>3</td>\n",
       "      <td>3</td>\n",
       "      <td>3</td>\n",
       "      <td>4</td>\n",
       "      <td>1</td>\n",
       "      <td>3</td>\n",
       "      <td>4</td>\n",
       "      <td>1</td>\n",
       "      <td>0</td>\n",
       "      <td>0</td>\n",
       "    </tr>\n",
       "  </tbody>\n",
       "</table>\n",
       "<p>5 rows × 32 columns</p>\n",
       "</div>"
      ],
      "text/plain": [
       "   id  enc_paym_0  enc_paym_1  enc_paym_2  enc_paym_3  enc_paym_4  enc_paym_5  \\\n",
       "0   0           0           0           3           3           3           3   \n",
       "1   0           0           0           0           0           0           0   \n",
       "2   0           0           0           0           0           0           0   \n",
       "3   0           1           0           0           0           0           0   \n",
       "4   0           0           0           0           0           0           0   \n",
       "\n",
       "   enc_paym_6  enc_paym_7  enc_paym_8  ...  enc_paym_21  enc_paym_22  \\\n",
       "0           3           3           3  ...            3            3   \n",
       "1           0           0           0  ...            0            0   \n",
       "2           0           0           0  ...            0            0   \n",
       "3           0           0           0  ...            3            3   \n",
       "4           0           3           3  ...            3            3   \n",
       "\n",
       "   enc_paym_23  enc_paym_24  enc_loans_account_holder_type  \\\n",
       "0            3            4                              1   \n",
       "1            0            4                              1   \n",
       "2            0            4                              1   \n",
       "3            3            4                              1   \n",
       "4            3            4                              1   \n",
       "\n",
       "   enc_loans_credit_status  enc_loans_credit_type  enc_loans_account_cur  \\\n",
       "0                        3                      4                      1   \n",
       "1                        3                      4                      1   \n",
       "2                        2                      3                      1   \n",
       "3                        3                      1                      1   \n",
       "4                        3                      4                      1   \n",
       "\n",
       "   pclose_flag  fclose_flag  \n",
       "0            0            0  \n",
       "1            0            0  \n",
       "2            1            1  \n",
       "3            0            0  \n",
       "4            0            0  \n",
       "\n",
       "[5 rows x 32 columns]"
      ]
     },
     "execution_count": 6,
     "metadata": {},
     "output_type": "execute_result"
    }
   ],
   "source": [
    "data.head()"
   ]
  },
  {
   "cell_type": "code",
   "execution_count": null,
   "id": "47e4e1f1",
   "metadata": {
    "id": "47e4e1f1"
   },
   "outputs": [],
   "source": [
    "# Объединяем данные по id, выбираем моду в качестве значения\n",
    "data = data.groupby(['id'], as_index=False).agg(lambda x: pd.Series.mode(x)[0])"
   ]
  },
  {
   "cell_type": "code",
   "execution_count": null,
   "id": "63296f8b",
   "metadata": {
    "id": "63296f8b"
   },
   "outputs": [],
   "source": [
    "data.to_csv('data.csv')"
   ]
  },
  {
   "cell_type": "markdown",
   "id": "602d49aa",
   "metadata": {
    "id": "602d49aa"
   },
   "source": [
    "### Data preparation"
   ]
  },
  {
   "cell_type": "code",
   "execution_count": 2,
   "id": "481844de",
   "metadata": {
    "id": "481844de"
   },
   "outputs": [],
   "source": [
    "\n",
    "data = pd.read_csv('data/data.csv', index_col=0, dtype=int)"
   ]
  },
  {
   "cell_type": "code",
   "execution_count": 3,
   "id": "fksTGkq2EeOr",
   "metadata": {
    "colab": {
     "base_uri": "https://localhost:8080/"
    },
    "id": "fksTGkq2EeOr",
    "outputId": "907459c3-69c0-4e76-8092-07685628a977"
   },
   "outputs": [
    {
     "data": {
      "text/plain": [
       "(3000000, 61)"
      ]
     },
     "execution_count": 3,
     "metadata": {},
     "output_type": "execute_result"
    }
   ],
   "source": [
    "data.shape"
   ]
  },
  {
   "cell_type": "code",
   "execution_count": 4,
   "id": "ac25cf79",
   "metadata": {
    "id": "ac25cf79"
   },
   "outputs": [],
   "source": [
    "# Создаем новые признаки на основе исходных\n",
    "\n",
    "data['is_zero_loans'] = np.where((data['is_zero_loans5'] == 1) & (data['is_zero_loans530'] == 1) & (data['is_zero_loans3060'] == 1)\n",
    "& (data['is_zero_loans6090'] == 1) & (data['is_zero_loans90'] == 1), 1, 0)\n",
    "\n",
    "data['is_zero_overlimit'] = np.where((data['is_zero_over2limit'] == 1) & (data['is_zero_maxover2limit'] == 1), 1, 0)"
   ]
  },
  {
   "cell_type": "code",
   "execution_count": 5,
   "id": "7e9c99a7",
   "metadata": {
    "id": "7e9c99a7"
   },
   "outputs": [],
   "source": [
    "# Загружаем файл с целевым признаком\n",
    "\n",
    "train_target = pd.read_csv('data/train_target.csv', dtype=int)"
   ]
  },
  {
   "cell_type": "code",
   "execution_count": 6,
   "id": "ffec0dc1",
   "metadata": {
    "colab": {
     "base_uri": "https://localhost:8080/",
     "height": 206
    },
    "id": "ffec0dc1",
    "outputId": "049f00a3-e457-4251-d95d-aeb4847571b9"
   },
   "outputs": [
    {
     "data": {
      "text/html": [
       "<div>\n",
       "<style scoped>\n",
       "    .dataframe tbody tr th:only-of-type {\n",
       "        vertical-align: middle;\n",
       "    }\n",
       "\n",
       "    .dataframe tbody tr th {\n",
       "        vertical-align: top;\n",
       "    }\n",
       "\n",
       "    .dataframe thead th {\n",
       "        text-align: right;\n",
       "    }\n",
       "</style>\n",
       "<table border=\"1\" class=\"dataframe\">\n",
       "  <thead>\n",
       "    <tr style=\"text-align: right;\">\n",
       "      <th></th>\n",
       "      <th>id</th>\n",
       "      <th>flag</th>\n",
       "    </tr>\n",
       "  </thead>\n",
       "  <tbody>\n",
       "    <tr>\n",
       "      <th>0</th>\n",
       "      <td>0</td>\n",
       "      <td>0</td>\n",
       "    </tr>\n",
       "    <tr>\n",
       "      <th>1</th>\n",
       "      <td>1</td>\n",
       "      <td>0</td>\n",
       "    </tr>\n",
       "    <tr>\n",
       "      <th>2</th>\n",
       "      <td>2</td>\n",
       "      <td>0</td>\n",
       "    </tr>\n",
       "    <tr>\n",
       "      <th>3</th>\n",
       "      <td>3</td>\n",
       "      <td>0</td>\n",
       "    </tr>\n",
       "    <tr>\n",
       "      <th>4</th>\n",
       "      <td>4</td>\n",
       "      <td>0</td>\n",
       "    </tr>\n",
       "  </tbody>\n",
       "</table>\n",
       "</div>"
      ],
      "text/plain": [
       "   id  flag\n",
       "0   0     0\n",
       "1   1     0\n",
       "2   2     0\n",
       "3   3     0\n",
       "4   4     0"
      ]
     },
     "execution_count": 6,
     "metadata": {},
     "output_type": "execute_result"
    }
   ],
   "source": [
    "\n",
    "train_target.head()"
   ]
  },
  {
   "cell_type": "code",
   "execution_count": 7,
   "id": "e712682c",
   "metadata": {
    "id": "e712682c"
   },
   "outputs": [],
   "source": [
    "# Объединяем датасеты\n",
    "\n",
    "data = pd.merge(left=data,right=train_target, how='inner', on='id')"
   ]
  },
  {
   "cell_type": "code",
   "execution_count": 8,
   "id": "6dbe2b34",
   "metadata": {
    "colab": {
     "base_uri": "https://localhost:8080/",
     "height": 300
    },
    "id": "6dbe2b34",
    "outputId": "fd4220c3-d8f2-495c-e75a-c8d0ddd1e96b"
   },
   "outputs": [
    {
     "data": {
      "text/html": [
       "<div>\n",
       "<style scoped>\n",
       "    .dataframe tbody tr th:only-of-type {\n",
       "        vertical-align: middle;\n",
       "    }\n",
       "\n",
       "    .dataframe tbody tr th {\n",
       "        vertical-align: top;\n",
       "    }\n",
       "\n",
       "    .dataframe thead th {\n",
       "        text-align: right;\n",
       "    }\n",
       "</style>\n",
       "<table border=\"1\" class=\"dataframe\">\n",
       "  <thead>\n",
       "    <tr style=\"text-align: right;\">\n",
       "      <th></th>\n",
       "      <th>id</th>\n",
       "      <th>rn</th>\n",
       "      <th>pre_since_opened</th>\n",
       "      <th>pre_since_confirmed</th>\n",
       "      <th>pre_pterm</th>\n",
       "      <th>pre_fterm</th>\n",
       "      <th>pre_till_pclose</th>\n",
       "      <th>pre_till_fclose</th>\n",
       "      <th>pre_loans_credit_limit</th>\n",
       "      <th>pre_loans_next_pay_summ</th>\n",
       "      <th>...</th>\n",
       "      <th>enc_paym_24</th>\n",
       "      <th>enc_loans_account_holder_type</th>\n",
       "      <th>enc_loans_credit_status</th>\n",
       "      <th>enc_loans_credit_type</th>\n",
       "      <th>enc_loans_account_cur</th>\n",
       "      <th>pclose_flag</th>\n",
       "      <th>fclose_flag</th>\n",
       "      <th>is_zero_loans</th>\n",
       "      <th>is_zero_overlimit</th>\n",
       "      <th>flag</th>\n",
       "    </tr>\n",
       "  </thead>\n",
       "  <tbody>\n",
       "    <tr>\n",
       "      <th>0</th>\n",
       "      <td>0</td>\n",
       "      <td>1</td>\n",
       "      <td>18</td>\n",
       "      <td>9</td>\n",
       "      <td>2</td>\n",
       "      <td>2</td>\n",
       "      <td>12</td>\n",
       "      <td>8</td>\n",
       "      <td>11</td>\n",
       "      <td>2</td>\n",
       "      <td>...</td>\n",
       "      <td>4</td>\n",
       "      <td>1</td>\n",
       "      <td>3</td>\n",
       "      <td>4</td>\n",
       "      <td>1</td>\n",
       "      <td>0</td>\n",
       "      <td>0</td>\n",
       "      <td>1</td>\n",
       "      <td>1</td>\n",
       "      <td>0</td>\n",
       "    </tr>\n",
       "    <tr>\n",
       "      <th>1</th>\n",
       "      <td>1</td>\n",
       "      <td>1</td>\n",
       "      <td>14</td>\n",
       "      <td>7</td>\n",
       "      <td>1</td>\n",
       "      <td>6</td>\n",
       "      <td>9</td>\n",
       "      <td>1</td>\n",
       "      <td>6</td>\n",
       "      <td>2</td>\n",
       "      <td>...</td>\n",
       "      <td>4</td>\n",
       "      <td>1</td>\n",
       "      <td>3</td>\n",
       "      <td>4</td>\n",
       "      <td>1</td>\n",
       "      <td>0</td>\n",
       "      <td>0</td>\n",
       "      <td>1</td>\n",
       "      <td>1</td>\n",
       "      <td>0</td>\n",
       "    </tr>\n",
       "    <tr>\n",
       "      <th>2</th>\n",
       "      <td>2</td>\n",
       "      <td>1</td>\n",
       "      <td>0</td>\n",
       "      <td>9</td>\n",
       "      <td>4</td>\n",
       "      <td>8</td>\n",
       "      <td>1</td>\n",
       "      <td>11</td>\n",
       "      <td>1</td>\n",
       "      <td>1</td>\n",
       "      <td>...</td>\n",
       "      <td>4</td>\n",
       "      <td>1</td>\n",
       "      <td>2</td>\n",
       "      <td>3</td>\n",
       "      <td>1</td>\n",
       "      <td>1</td>\n",
       "      <td>1</td>\n",
       "      <td>1</td>\n",
       "      <td>1</td>\n",
       "      <td>0</td>\n",
       "    </tr>\n",
       "    <tr>\n",
       "      <th>3</th>\n",
       "      <td>3</td>\n",
       "      <td>1</td>\n",
       "      <td>1</td>\n",
       "      <td>9</td>\n",
       "      <td>4</td>\n",
       "      <td>8</td>\n",
       "      <td>1</td>\n",
       "      <td>11</td>\n",
       "      <td>11</td>\n",
       "      <td>2</td>\n",
       "      <td>...</td>\n",
       "      <td>4</td>\n",
       "      <td>1</td>\n",
       "      <td>3</td>\n",
       "      <td>4</td>\n",
       "      <td>1</td>\n",
       "      <td>0</td>\n",
       "      <td>0</td>\n",
       "      <td>1</td>\n",
       "      <td>1</td>\n",
       "      <td>0</td>\n",
       "    </tr>\n",
       "    <tr>\n",
       "      <th>4</th>\n",
       "      <td>4</td>\n",
       "      <td>1</td>\n",
       "      <td>12</td>\n",
       "      <td>9</td>\n",
       "      <td>4</td>\n",
       "      <td>8</td>\n",
       "      <td>1</td>\n",
       "      <td>11</td>\n",
       "      <td>12</td>\n",
       "      <td>1</td>\n",
       "      <td>...</td>\n",
       "      <td>4</td>\n",
       "      <td>1</td>\n",
       "      <td>2</td>\n",
       "      <td>3</td>\n",
       "      <td>1</td>\n",
       "      <td>1</td>\n",
       "      <td>1</td>\n",
       "      <td>1</td>\n",
       "      <td>1</td>\n",
       "      <td>0</td>\n",
       "    </tr>\n",
       "  </tbody>\n",
       "</table>\n",
       "<p>5 rows × 64 columns</p>\n",
       "</div>"
      ],
      "text/plain": [
       "   id  rn  pre_since_opened  pre_since_confirmed  pre_pterm  pre_fterm  \\\n",
       "0   0   1                18                    9          2          2   \n",
       "1   1   1                14                    7          1          6   \n",
       "2   2   1                 0                    9          4          8   \n",
       "3   3   1                 1                    9          4          8   \n",
       "4   4   1                12                    9          4          8   \n",
       "\n",
       "   pre_till_pclose  pre_till_fclose  pre_loans_credit_limit  \\\n",
       "0               12                8                      11   \n",
       "1                9                1                       6   \n",
       "2                1               11                       1   \n",
       "3                1               11                      11   \n",
       "4                1               11                      12   \n",
       "\n",
       "   pre_loans_next_pay_summ  ...  enc_paym_24  enc_loans_account_holder_type  \\\n",
       "0                        2  ...            4                              1   \n",
       "1                        2  ...            4                              1   \n",
       "2                        1  ...            4                              1   \n",
       "3                        2  ...            4                              1   \n",
       "4                        1  ...            4                              1   \n",
       "\n",
       "   enc_loans_credit_status  enc_loans_credit_type  enc_loans_account_cur  \\\n",
       "0                        3                      4                      1   \n",
       "1                        3                      4                      1   \n",
       "2                        2                      3                      1   \n",
       "3                        3                      4                      1   \n",
       "4                        2                      3                      1   \n",
       "\n",
       "   pclose_flag  fclose_flag  is_zero_loans  is_zero_overlimit  flag  \n",
       "0            0            0              1                  1     0  \n",
       "1            0            0              1                  1     0  \n",
       "2            1            1              1                  1     0  \n",
       "3            0            0              1                  1     0  \n",
       "4            1            1              1                  1     0  \n",
       "\n",
       "[5 rows x 64 columns]"
      ]
     },
     "execution_count": 8,
     "metadata": {},
     "output_type": "execute_result"
    }
   ],
   "source": [
    "data.head()"
   ]
  },
  {
   "cell_type": "code",
   "execution_count": 9,
   "id": "c3fdb068",
   "metadata": {
    "colab": {
     "base_uri": "https://localhost:8080/"
    },
    "id": "c3fdb068",
    "outputId": "8f7b7695-915a-4c99-dda0-e5e5cdc18b1b"
   },
   "outputs": [
    {
     "data": {
      "text/plain": [
       "(3000000, 64)"
      ]
     },
     "execution_count": 9,
     "metadata": {},
     "output_type": "execute_result"
    }
   ],
   "source": [
    "data.shape"
   ]
  },
  {
   "cell_type": "code",
   "execution_count": 10,
   "id": "26d7faaa",
   "metadata": {
    "colab": {
     "base_uri": "https://localhost:8080/"
    },
    "id": "26d7faaa",
    "outputId": "722761f5-56bc-479a-8c1c-87cb938851d1"
   },
   "outputs": [
    {
     "name": "stdout",
     "output_type": "stream",
     "text": [
      "<class 'pandas.core.frame.DataFrame'>\n",
      "Int64Index: 3000000 entries, 0 to 2999999\n",
      "Data columns (total 64 columns):\n",
      " #   Column                         Dtype\n",
      "---  ------                         -----\n",
      " 0   id                             int32\n",
      " 1   rn                             int32\n",
      " 2   pre_since_opened               int32\n",
      " 3   pre_since_confirmed            int32\n",
      " 4   pre_pterm                      int32\n",
      " 5   pre_fterm                      int32\n",
      " 6   pre_till_pclose                int32\n",
      " 7   pre_till_fclose                int32\n",
      " 8   pre_loans_credit_limit         int32\n",
      " 9   pre_loans_next_pay_summ        int32\n",
      " 10  pre_loans_outstanding          int32\n",
      " 11  pre_loans_total_overdue        int32\n",
      " 12  pre_loans_max_overdue_sum      int32\n",
      " 13  pre_loans_credit_cost_rate     int32\n",
      " 14  pre_loans5                     int32\n",
      " 15  pre_loans530                   int32\n",
      " 16  pre_loans3060                  int32\n",
      " 17  pre_loans6090                  int32\n",
      " 18  pre_loans90                    int32\n",
      " 19  is_zero_loans5                 int32\n",
      " 20  is_zero_loans530               int32\n",
      " 21  is_zero_loans3060              int32\n",
      " 22  is_zero_loans6090              int32\n",
      " 23  is_zero_loans90                int32\n",
      " 24  pre_util                       int32\n",
      " 25  pre_over2limit                 int32\n",
      " 26  pre_maxover2limit              int32\n",
      " 27  is_zero_util                   int32\n",
      " 28  is_zero_over2limit             int32\n",
      " 29  is_zero_maxover2limit          int32\n",
      " 30  enc_paym_0                     int32\n",
      " 31  enc_paym_1                     int32\n",
      " 32  enc_paym_2                     int32\n",
      " 33  enc_paym_3                     int32\n",
      " 34  enc_paym_4                     int32\n",
      " 35  enc_paym_5                     int32\n",
      " 36  enc_paym_6                     int32\n",
      " 37  enc_paym_7                     int32\n",
      " 38  enc_paym_8                     int32\n",
      " 39  enc_paym_9                     int32\n",
      " 40  enc_paym_10                    int32\n",
      " 41  enc_paym_11                    int32\n",
      " 42  enc_paym_12                    int32\n",
      " 43  enc_paym_13                    int32\n",
      " 44  enc_paym_14                    int32\n",
      " 45  enc_paym_15                    int32\n",
      " 46  enc_paym_16                    int32\n",
      " 47  enc_paym_17                    int32\n",
      " 48  enc_paym_18                    int32\n",
      " 49  enc_paym_19                    int32\n",
      " 50  enc_paym_20                    int32\n",
      " 51  enc_paym_21                    int32\n",
      " 52  enc_paym_22                    int32\n",
      " 53  enc_paym_23                    int32\n",
      " 54  enc_paym_24                    int32\n",
      " 55  enc_loans_account_holder_type  int32\n",
      " 56  enc_loans_credit_status        int32\n",
      " 57  enc_loans_credit_type          int32\n",
      " 58  enc_loans_account_cur          int32\n",
      " 59  pclose_flag                    int32\n",
      " 60  fclose_flag                    int32\n",
      " 61  is_zero_loans                  int32\n",
      " 62  is_zero_overlimit              int32\n",
      " 63  flag                           int32\n",
      "dtypes: int32(64)\n",
      "memory usage: 755.3 MB\n"
     ]
    }
   ],
   "source": [
    "data.info()"
   ]
  },
  {
   "cell_type": "code",
   "execution_count": 11,
   "id": "f156d671",
   "metadata": {
    "colab": {
     "base_uri": "https://localhost:8080/",
     "height": 394
    },
    "id": "f156d671",
    "outputId": "74f91d0b-7420-4a7a-bded-4311f1b7f013"
   },
   "outputs": [
    {
     "data": {
      "text/html": [
       "<div>\n",
       "<style scoped>\n",
       "    .dataframe tbody tr th:only-of-type {\n",
       "        vertical-align: middle;\n",
       "    }\n",
       "\n",
       "    .dataframe tbody tr th {\n",
       "        vertical-align: top;\n",
       "    }\n",
       "\n",
       "    .dataframe thead th {\n",
       "        text-align: right;\n",
       "    }\n",
       "</style>\n",
       "<table border=\"1\" class=\"dataframe\">\n",
       "  <thead>\n",
       "    <tr style=\"text-align: right;\">\n",
       "      <th></th>\n",
       "      <th>id</th>\n",
       "      <th>rn</th>\n",
       "      <th>pre_since_opened</th>\n",
       "      <th>pre_since_confirmed</th>\n",
       "      <th>pre_pterm</th>\n",
       "      <th>pre_fterm</th>\n",
       "      <th>pre_till_pclose</th>\n",
       "      <th>pre_till_fclose</th>\n",
       "      <th>pre_loans_credit_limit</th>\n",
       "      <th>pre_loans_next_pay_summ</th>\n",
       "      <th>...</th>\n",
       "      <th>enc_paym_24</th>\n",
       "      <th>enc_loans_account_holder_type</th>\n",
       "      <th>enc_loans_credit_status</th>\n",
       "      <th>enc_loans_credit_type</th>\n",
       "      <th>enc_loans_account_cur</th>\n",
       "      <th>pclose_flag</th>\n",
       "      <th>fclose_flag</th>\n",
       "      <th>is_zero_loans</th>\n",
       "      <th>is_zero_overlimit</th>\n",
       "      <th>flag</th>\n",
       "    </tr>\n",
       "  </thead>\n",
       "  <tbody>\n",
       "    <tr>\n",
       "      <th>count</th>\n",
       "      <td>3.000000e+06</td>\n",
       "      <td>3000000.0</td>\n",
       "      <td>3.000000e+06</td>\n",
       "      <td>3.000000e+06</td>\n",
       "      <td>3.000000e+06</td>\n",
       "      <td>3.000000e+06</td>\n",
       "      <td>3.000000e+06</td>\n",
       "      <td>3.000000e+06</td>\n",
       "      <td>3.000000e+06</td>\n",
       "      <td>3.000000e+06</td>\n",
       "      <td>...</td>\n",
       "      <td>3.000000e+06</td>\n",
       "      <td>3.000000e+06</td>\n",
       "      <td>3.000000e+06</td>\n",
       "      <td>3.000000e+06</td>\n",
       "      <td>3.000000e+06</td>\n",
       "      <td>3.000000e+06</td>\n",
       "      <td>3.000000e+06</td>\n",
       "      <td>3.000000e+06</td>\n",
       "      <td>3.000000e+06</td>\n",
       "      <td>3.000000e+06</td>\n",
       "    </tr>\n",
       "    <tr>\n",
       "      <th>mean</th>\n",
       "      <td>1.500000e+06</td>\n",
       "      <td>1.0</td>\n",
       "      <td>7.272695e+00</td>\n",
       "      <td>6.923409e+00</td>\n",
       "      <td>6.139337e+00</td>\n",
       "      <td>6.855558e+00</td>\n",
       "      <td>4.070016e+00</td>\n",
       "      <td>8.208710e+00</td>\n",
       "      <td>7.415366e+00</td>\n",
       "      <td>2.044004e+00</td>\n",
       "      <td>...</td>\n",
       "      <td>3.813093e+00</td>\n",
       "      <td>1.007954e+00</td>\n",
       "      <td>2.651121e+00</td>\n",
       "      <td>3.537072e+00</td>\n",
       "      <td>1.000097e+00</td>\n",
       "      <td>5.444733e-02</td>\n",
       "      <td>1.182127e-01</td>\n",
       "      <td>8.744663e-01</td>\n",
       "      <td>9.363847e-01</td>\n",
       "      <td>3.548067e-02</td>\n",
       "    </tr>\n",
       "    <tr>\n",
       "      <th>std</th>\n",
       "      <td>8.660255e+05</td>\n",
       "      <td>0.0</td>\n",
       "      <td>5.701003e+00</td>\n",
       "      <td>4.174678e+00</td>\n",
       "      <td>4.918956e+00</td>\n",
       "      <td>3.814930e+00</td>\n",
       "      <td>4.550534e+00</td>\n",
       "      <td>3.997183e+00</td>\n",
       "      <td>5.844909e+00</td>\n",
       "      <td>8.676214e-01</td>\n",
       "      <td>...</td>\n",
       "      <td>7.223905e-01</td>\n",
       "      <td>1.433960e-01</td>\n",
       "      <td>4.823449e-01</td>\n",
       "      <td>8.625528e-01</td>\n",
       "      <td>1.809210e-02</td>\n",
       "      <td>2.268983e-01</td>\n",
       "      <td>3.228598e-01</td>\n",
       "      <td>3.313231e-01</td>\n",
       "      <td>2.440665e-01</td>\n",
       "      <td>1.849914e-01</td>\n",
       "    </tr>\n",
       "    <tr>\n",
       "      <th>min</th>\n",
       "      <td>0.000000e+00</td>\n",
       "      <td>1.0</td>\n",
       "      <td>0.000000e+00</td>\n",
       "      <td>0.000000e+00</td>\n",
       "      <td>0.000000e+00</td>\n",
       "      <td>0.000000e+00</td>\n",
       "      <td>0.000000e+00</td>\n",
       "      <td>0.000000e+00</td>\n",
       "      <td>0.000000e+00</td>\n",
       "      <td>0.000000e+00</td>\n",
       "      <td>...</td>\n",
       "      <td>1.000000e+00</td>\n",
       "      <td>0.000000e+00</td>\n",
       "      <td>0.000000e+00</td>\n",
       "      <td>0.000000e+00</td>\n",
       "      <td>0.000000e+00</td>\n",
       "      <td>0.000000e+00</td>\n",
       "      <td>0.000000e+00</td>\n",
       "      <td>0.000000e+00</td>\n",
       "      <td>0.000000e+00</td>\n",
       "      <td>0.000000e+00</td>\n",
       "    </tr>\n",
       "    <tr>\n",
       "      <th>25%</th>\n",
       "      <td>7.499998e+05</td>\n",
       "      <td>1.0</td>\n",
       "      <td>2.000000e+00</td>\n",
       "      <td>4.000000e+00</td>\n",
       "      <td>3.000000e+00</td>\n",
       "      <td>5.000000e+00</td>\n",
       "      <td>1.000000e+00</td>\n",
       "      <td>5.000000e+00</td>\n",
       "      <td>2.000000e+00</td>\n",
       "      <td>2.000000e+00</td>\n",
       "      <td>...</td>\n",
       "      <td>4.000000e+00</td>\n",
       "      <td>1.000000e+00</td>\n",
       "      <td>2.000000e+00</td>\n",
       "      <td>3.000000e+00</td>\n",
       "      <td>1.000000e+00</td>\n",
       "      <td>0.000000e+00</td>\n",
       "      <td>0.000000e+00</td>\n",
       "      <td>1.000000e+00</td>\n",
       "      <td>1.000000e+00</td>\n",
       "      <td>0.000000e+00</td>\n",
       "    </tr>\n",
       "    <tr>\n",
       "      <th>50%</th>\n",
       "      <td>1.500000e+06</td>\n",
       "      <td>1.0</td>\n",
       "      <td>6.000000e+00</td>\n",
       "      <td>7.000000e+00</td>\n",
       "      <td>4.000000e+00</td>\n",
       "      <td>8.000000e+00</td>\n",
       "      <td>1.000000e+00</td>\n",
       "      <td>1.100000e+01</td>\n",
       "      <td>6.000000e+00</td>\n",
       "      <td>2.000000e+00</td>\n",
       "      <td>...</td>\n",
       "      <td>4.000000e+00</td>\n",
       "      <td>1.000000e+00</td>\n",
       "      <td>3.000000e+00</td>\n",
       "      <td>4.000000e+00</td>\n",
       "      <td>1.000000e+00</td>\n",
       "      <td>0.000000e+00</td>\n",
       "      <td>0.000000e+00</td>\n",
       "      <td>1.000000e+00</td>\n",
       "      <td>1.000000e+00</td>\n",
       "      <td>0.000000e+00</td>\n",
       "    </tr>\n",
       "    <tr>\n",
       "      <th>75%</th>\n",
       "      <td>2.249999e+06</td>\n",
       "      <td>1.0</td>\n",
       "      <td>1.200000e+01</td>\n",
       "      <td>9.000000e+00</td>\n",
       "      <td>9.000000e+00</td>\n",
       "      <td>8.000000e+00</td>\n",
       "      <td>7.000000e+00</td>\n",
       "      <td>1.100000e+01</td>\n",
       "      <td>1.300000e+01</td>\n",
       "      <td>2.000000e+00</td>\n",
       "      <td>...</td>\n",
       "      <td>4.000000e+00</td>\n",
       "      <td>1.000000e+00</td>\n",
       "      <td>3.000000e+00</td>\n",
       "      <td>4.000000e+00</td>\n",
       "      <td>1.000000e+00</td>\n",
       "      <td>0.000000e+00</td>\n",
       "      <td>0.000000e+00</td>\n",
       "      <td>1.000000e+00</td>\n",
       "      <td>1.000000e+00</td>\n",
       "      <td>0.000000e+00</td>\n",
       "    </tr>\n",
       "    <tr>\n",
       "      <th>max</th>\n",
       "      <td>2.999999e+06</td>\n",
       "      <td>1.0</td>\n",
       "      <td>1.900000e+01</td>\n",
       "      <td>1.700000e+01</td>\n",
       "      <td>1.700000e+01</td>\n",
       "      <td>1.600000e+01</td>\n",
       "      <td>1.600000e+01</td>\n",
       "      <td>1.500000e+01</td>\n",
       "      <td>1.900000e+01</td>\n",
       "      <td>6.000000e+00</td>\n",
       "      <td>...</td>\n",
       "      <td>4.000000e+00</td>\n",
       "      <td>6.000000e+00</td>\n",
       "      <td>6.000000e+00</td>\n",
       "      <td>7.000000e+00</td>\n",
       "      <td>3.000000e+00</td>\n",
       "      <td>1.000000e+00</td>\n",
       "      <td>1.000000e+00</td>\n",
       "      <td>1.000000e+00</td>\n",
       "      <td>1.000000e+00</td>\n",
       "      <td>1.000000e+00</td>\n",
       "    </tr>\n",
       "  </tbody>\n",
       "</table>\n",
       "<p>8 rows × 64 columns</p>\n",
       "</div>"
      ],
      "text/plain": [
       "                 id         rn  pre_since_opened  pre_since_confirmed  \\\n",
       "count  3.000000e+06  3000000.0      3.000000e+06         3.000000e+06   \n",
       "mean   1.500000e+06        1.0      7.272695e+00         6.923409e+00   \n",
       "std    8.660255e+05        0.0      5.701003e+00         4.174678e+00   \n",
       "min    0.000000e+00        1.0      0.000000e+00         0.000000e+00   \n",
       "25%    7.499998e+05        1.0      2.000000e+00         4.000000e+00   \n",
       "50%    1.500000e+06        1.0      6.000000e+00         7.000000e+00   \n",
       "75%    2.249999e+06        1.0      1.200000e+01         9.000000e+00   \n",
       "max    2.999999e+06        1.0      1.900000e+01         1.700000e+01   \n",
       "\n",
       "          pre_pterm     pre_fterm  pre_till_pclose  pre_till_fclose  \\\n",
       "count  3.000000e+06  3.000000e+06     3.000000e+06     3.000000e+06   \n",
       "mean   6.139337e+00  6.855558e+00     4.070016e+00     8.208710e+00   \n",
       "std    4.918956e+00  3.814930e+00     4.550534e+00     3.997183e+00   \n",
       "min    0.000000e+00  0.000000e+00     0.000000e+00     0.000000e+00   \n",
       "25%    3.000000e+00  5.000000e+00     1.000000e+00     5.000000e+00   \n",
       "50%    4.000000e+00  8.000000e+00     1.000000e+00     1.100000e+01   \n",
       "75%    9.000000e+00  8.000000e+00     7.000000e+00     1.100000e+01   \n",
       "max    1.700000e+01  1.600000e+01     1.600000e+01     1.500000e+01   \n",
       "\n",
       "       pre_loans_credit_limit  pre_loans_next_pay_summ  ...   enc_paym_24  \\\n",
       "count            3.000000e+06             3.000000e+06  ...  3.000000e+06   \n",
       "mean             7.415366e+00             2.044004e+00  ...  3.813093e+00   \n",
       "std              5.844909e+00             8.676214e-01  ...  7.223905e-01   \n",
       "min              0.000000e+00             0.000000e+00  ...  1.000000e+00   \n",
       "25%              2.000000e+00             2.000000e+00  ...  4.000000e+00   \n",
       "50%              6.000000e+00             2.000000e+00  ...  4.000000e+00   \n",
       "75%              1.300000e+01             2.000000e+00  ...  4.000000e+00   \n",
       "max              1.900000e+01             6.000000e+00  ...  4.000000e+00   \n",
       "\n",
       "       enc_loans_account_holder_type  enc_loans_credit_status  \\\n",
       "count                   3.000000e+06             3.000000e+06   \n",
       "mean                    1.007954e+00             2.651121e+00   \n",
       "std                     1.433960e-01             4.823449e-01   \n",
       "min                     0.000000e+00             0.000000e+00   \n",
       "25%                     1.000000e+00             2.000000e+00   \n",
       "50%                     1.000000e+00             3.000000e+00   \n",
       "75%                     1.000000e+00             3.000000e+00   \n",
       "max                     6.000000e+00             6.000000e+00   \n",
       "\n",
       "       enc_loans_credit_type  enc_loans_account_cur   pclose_flag  \\\n",
       "count           3.000000e+06           3.000000e+06  3.000000e+06   \n",
       "mean            3.537072e+00           1.000097e+00  5.444733e-02   \n",
       "std             8.625528e-01           1.809210e-02  2.268983e-01   \n",
       "min             0.000000e+00           0.000000e+00  0.000000e+00   \n",
       "25%             3.000000e+00           1.000000e+00  0.000000e+00   \n",
       "50%             4.000000e+00           1.000000e+00  0.000000e+00   \n",
       "75%             4.000000e+00           1.000000e+00  0.000000e+00   \n",
       "max             7.000000e+00           3.000000e+00  1.000000e+00   \n",
       "\n",
       "        fclose_flag  is_zero_loans  is_zero_overlimit          flag  \n",
       "count  3.000000e+06   3.000000e+06       3.000000e+06  3.000000e+06  \n",
       "mean   1.182127e-01   8.744663e-01       9.363847e-01  3.548067e-02  \n",
       "std    3.228598e-01   3.313231e-01       2.440665e-01  1.849914e-01  \n",
       "min    0.000000e+00   0.000000e+00       0.000000e+00  0.000000e+00  \n",
       "25%    0.000000e+00   1.000000e+00       1.000000e+00  0.000000e+00  \n",
       "50%    0.000000e+00   1.000000e+00       1.000000e+00  0.000000e+00  \n",
       "75%    0.000000e+00   1.000000e+00       1.000000e+00  0.000000e+00  \n",
       "max    1.000000e+00   1.000000e+00       1.000000e+00  1.000000e+00  \n",
       "\n",
       "[8 rows x 64 columns]"
      ]
     },
     "execution_count": 11,
     "metadata": {},
     "output_type": "execute_result"
    }
   ],
   "source": [
    "data.describe()"
   ]
  },
  {
   "cell_type": "code",
   "execution_count": 12,
   "id": "d91bce8b",
   "metadata": {
    "colab": {
     "base_uri": "https://localhost:8080/"
    },
    "id": "d91bce8b",
    "outputId": "7ec31472-d5ef-4d21-9221-bc15b3de566e"
   },
   "outputs": [
    {
     "data": {
      "text/plain": [
       "171161"
      ]
     },
     "execution_count": 12,
     "metadata": {},
     "output_type": "execute_result"
    }
   ],
   "source": [
    "data.drop(columns='id').duplicated().sum()"
   ]
  },
  {
   "cell_type": "code",
   "execution_count": 13,
   "id": "be9dbfbf",
   "metadata": {
    "id": "be9dbfbf"
   },
   "outputs": [],
   "source": [
    "# Удаляем дубликаты в данных где совпадают все строки кроме признака id\n",
    "\n",
    "data = data.drop_duplicates(subset=data.columns.difference(['id']))"
   ]
  },
  {
   "cell_type": "code",
   "execution_count": 14,
   "id": "e53d6f12",
   "metadata": {
    "colab": {
     "base_uri": "https://localhost:8080/"
    },
    "id": "e53d6f12",
    "outputId": "8c00d3b1-50e0-4716-8ddc-8ad4e734dfcb"
   },
   "outputs": [
    {
     "data": {
      "text/plain": [
       "id                     0\n",
       "rn                     0\n",
       "pre_since_opened       0\n",
       "pre_since_confirmed    0\n",
       "pre_pterm              0\n",
       "                      ..\n",
       "pclose_flag            0\n",
       "fclose_flag            0\n",
       "is_zero_loans          0\n",
       "is_zero_overlimit      0\n",
       "flag                   0\n",
       "Length: 64, dtype: int64"
      ]
     },
     "execution_count": 14,
     "metadata": {},
     "output_type": "execute_result"
    }
   ],
   "source": [
    "data.isna().sum()"
   ]
  },
  {
   "cell_type": "code",
   "execution_count": 15,
   "id": "8a5b987f",
   "metadata": {
    "colab": {
     "base_uri": "https://localhost:8080/"
    },
    "id": "8a5b987f",
    "outputId": "9486ea91-18e3-4d7a-f396-dd7ab5fe2489"
   },
   "outputs": [
    {
     "data": {
      "text/plain": [
       "0    2724314\n",
       "1     104525\n",
       "Name: flag, dtype: int64"
      ]
     },
     "execution_count": 15,
     "metadata": {},
     "output_type": "execute_result"
    }
   ],
   "source": [
    "data['flag'].value_counts()"
   ]
  },
  {
   "cell_type": "code",
   "execution_count": 16,
   "id": "4bf56a2f",
   "metadata": {
    "id": "4bf56a2f"
   },
   "outputs": [],
   "source": [
    "# Разделяем выборку с соблюдением баланса целевого признака\n",
    "\n",
    "df_train, df_test = train_test_split(data, stratify=data['flag'], test_size=0.3, random_state=42)"
   ]
  },
  {
   "cell_type": "code",
   "execution_count": 17,
   "id": "8f7aa8ce",
   "metadata": {
    "id": "8f7aa8ce"
   },
   "outputs": [],
   "source": [
    "df_min = df_train[df_train['flag'] == 1]\n",
    "df_maj = df_train[df_train['flag'] == 0]"
   ]
  },
  {
   "cell_type": "code",
   "execution_count": 18,
   "id": "82d75335",
   "metadata": {
    "colab": {
     "base_uri": "https://localhost:8080/"
    },
    "id": "82d75335",
    "outputId": "2f0286ba-dc06-4349-a347-eb16917f473a"
   },
   "outputs": [
    {
     "name": "stdout",
     "output_type": "stream",
     "text": [
      "(73167, 64)\n",
      "(73167, 64)\n"
     ]
    }
   ],
   "source": [
    "# Применяем метод downsampling к данным, чтобы сбалансировать классы\n",
    "\n",
    "df_maj_downsample = resample(df_maj, replace=False, n_samples=len(df_min), random_state=42)\n",
    "\n",
    "print(df_maj_downsample.shape)\n",
    "print(df_min.shape)"
   ]
  },
  {
   "cell_type": "code",
   "execution_count": 19,
   "id": "fa7acd0a",
   "metadata": {
    "id": "fa7acd0a"
   },
   "outputs": [],
   "source": [
    "df_train= pd.concat([df_maj_downsample, df_min], ignore_index=True).sample(frac=1.)"
   ]
  },
  {
   "cell_type": "markdown",
   "id": "2144727b",
   "metadata": {
    "id": "2144727b"
   },
   "source": [
    "### Feature selection"
   ]
  },
  {
   "cell_type": "code",
   "execution_count": 20,
   "id": "404b4777",
   "metadata": {
    "id": "404b4777"
   },
   "outputs": [],
   "source": [
    "x_train = df_train.drop(columns=['flag', 'id', 'rn'])\n",
    "y_train = df_train.flag\n",
    "\n",
    "x_test = df_test.drop(columns=['flag', 'id', 'rn'])\n",
    "y_test = df_test.flag"
   ]
  },
  {
   "cell_type": "code",
   "execution_count": 27,
   "id": "93fd36cf",
   "metadata": {
    "id": "93fd36cf"
   },
   "outputs": [
    {
     "name": "stdout",
     "output_type": "stream",
     "text": [
      "Best score: 0.6598348157087521\n",
      "Best parameters: {'selector__param': 59, 'selector__score_func': <function chi2 at 0x000001C98865ACA0>}\n"
     ]
    }
   ],
   "source": [
    "# Строим пайплайн для, того чтобы понять оптимальное число признаков и лучшую функцию оценки для модели случайного леса\n",
    "\n",
    "rf = Pipeline([\n",
    "    ('selector', GenericUnivariateSelect(mode='k_best')),\n",
    "    ('rf', RandomForestClassifier())\n",
    "     ])\n",
    "\n",
    "params = {'selector__param': np.arange(10,62),\n",
    "          'selector__score_func': (mutual_info_classif, chi2)}\n",
    "gs = GridSearchCV(rf, params, cv=5, scoring='roc_auc', n_jobs=-1)\n",
    "gs.fit(x_train, y_train)\n",
    "\n",
    "print(f'Best score: {gs.best_score_}')\n",
    "print(f'Best parameters: {gs.best_params_}')"
   ]
  },
  {
   "cell_type": "code",
   "execution_count": 21,
   "id": "bec0f303",
   "metadata": {
    "id": "bec0f303"
   },
   "outputs": [],
   "source": [
    "selector = GenericUnivariateSelect(mode='k_best', score_func=chi2, param=59)\n",
    "x_train_se = selector.fit_transform(x_train, y_train)\n",
    "x_test_se = selector.transform(x_test)\n"
   ]
  },
  {
   "cell_type": "code",
   "execution_count": 22,
   "id": "lXVZn3gq3Mb5",
   "metadata": {
    "id": "lXVZn3gq3Mb5"
   },
   "outputs": [],
   "source": [
    "scale = StandardScaler()\n",
    "x_train_sc = scale.fit_transform(x_train)\n",
    "x_test_sc = scale.transform(x_test)"
   ]
  },
  {
   "cell_type": "markdown",
   "id": "fb7f230e",
   "metadata": {
    "id": "fb7f230e"
   },
   "source": [
    "### Modeling"
   ]
  },
  {
   "cell_type": "code",
   "execution_count": 23,
   "id": "11087745",
   "metadata": {
    "id": "11087745"
   },
   "outputs": [],
   "source": [
    "kf = StratifiedKFold(n_splits=5, shuffle=True, random_state=42)\n",
    "\n",
    "rfc = RandomForestClassifier()\n",
    "lr = LogisticRegression()\n",
    "gbc = GradientBoostingClassifier()"
   ]
  },
  {
   "cell_type": "code",
   "execution_count": 31,
   "id": "eedded7d",
   "metadata": {
    "colab": {
     "base_uri": "https://localhost:8080/"
    },
    "id": "eedded7d",
    "outputId": "a658040d-5a24-4eef-a44a-8fa0f5e40c47"
   },
   "outputs": [
    {
     "name": "stdout",
     "output_type": "stream",
     "text": [
      "scores = [0.65679732 0.65879427 0.65769308 0.6643552  0.65807549] \n",
      "mean score = 0.6591 +/- 0.0027\n"
     ]
    }
   ],
   "source": [
    "# Строим модели с параметрами по умолчанию и проверям их с помощью кросс-валидации\n",
    "\n",
    "scores = cross_val_score(rfc, x_train_se, y_train, cv=kf, scoring='roc_auc', n_jobs=-1)\n",
    "print('scores = {} \\nmean score = {:.4f} +/- {:.4f}'.format(scores, scores.mean(), scores.std()))"
   ]
  },
  {
   "cell_type": "code",
   "execution_count": 27,
   "id": "2097d06c",
   "metadata": {},
   "outputs": [
    {
     "name": "stdout",
     "output_type": "stream",
     "text": [
      "scores = [0.6734118  0.68069472 0.68373319 0.67644947 0.67207972] \n",
      "mean score = 0.6773 +/- 0.0044\n"
     ]
    }
   ],
   "source": [
    "scores = cross_val_score(gbc, x_train_se, y_train, cv=kf, scoring='roc_auc', n_jobs=-1)\n",
    "print('scores = {} \\nmean score = {:.4f} +/- {:.4f}'.format(scores, scores.mean(), scores.std()))"
   ]
  },
  {
   "cell_type": "code",
   "execution_count": 32,
   "id": "50ce18f6",
   "metadata": {
    "colab": {
     "base_uri": "https://localhost:8080/"
    },
    "id": "50ce18f6",
    "outputId": "eeb7157d-986b-4d39-d608-1ad3bfb11163"
   },
   "outputs": [
    {
     "name": "stdout",
     "output_type": "stream",
     "text": [
      "scores = [0.65294286 0.66088641 0.65704553 0.65927759 0.65893818] \n",
      "mean score = 0.6578 +/- 0.0027\n"
     ]
    }
   ],
   "source": [
    "scores = cross_val_score(lr, x_train_sc, y_train, cv=kf, scoring='roc_auc', n_jobs=-1)\n",
    "print('scores = {} \\nmean score = {:.4f} +/- {:.4f}'.format(scores, scores.mean(), scores.std()))"
   ]
  },
  {
   "cell_type": "code",
   "execution_count": 46,
   "id": "e0645bcb",
   "metadata": {
    "id": "e0645bcb"
   },
   "outputs": [
    {
     "name": "stdout",
     "output_type": "stream",
     "text": [
      "Best params:  {'n_estimators': 300, 'min_samples_split': 16, 'min_samples_leaf': 3, 'max_depth': 50}\n",
      "Best score:  0.6797882562529096\n"
     ]
    }
   ],
   "source": [
    "# Осуществляем подбор гиперпараметров моделей\n",
    "\n",
    "params = {'n_estimators' : [300, 500, 700],\n",
    "          'max_depth': np.arange(10, 60, 4),\n",
    "          'min_samples_leaf': np.arange(1, 10, 1),\n",
    "          'min_samples_split': np.arange(2, 20, 2)}\n",
    "\n",
    "rs = RandomizedSearchCV(rfc, params, cv=kf, scoring='roc_auc', n_jobs=-1, error_score='raise')\n",
    "rs.fit(x_train_se, y_train)\n",
    "\n",
    "print('Best params: ', rs.best_params_)\n",
    "print('Best score: ', rs.best_score_)"
   ]
  },
  {
   "cell_type": "code",
   "execution_count": 28,
   "id": "53769e41",
   "metadata": {},
   "outputs": [
    {
     "name": "stdout",
     "output_type": "stream",
     "text": [
      "Лучшие параметры:  {'subsample': 0.30000000000000004, 'n_estimators': 100, 'min_samples_split': 14, 'min_samples_leaf': 7, 'max_features': 'log2', 'max_depth': 58, 'loss': 'log_loss', 'learning_rate': 0.01, 'criterion': 'squared_error'}\n",
      "Лучший результат:  0.6775320592391195\n"
     ]
    }
   ],
   "source": [
    "params = {\"loss\":[\"log_loss\", \"exponential\"],\n",
    "          \"learning_rate\": [0.01,0.1,1,10,100],\n",
    "          'max_depth': np.arange(2, 60, 4),\n",
    "          'max_features': ['sqrt', 'log2', None],\n",
    "          'min_samples_leaf': np.arange(1, 10, 1),\n",
    "          'min_samples_split': np.arange(2, 20, 2),\n",
    "          \"max_features\":[\"log2\",\"sqrt\"],\n",
    "          \"criterion\": [\"friedman_mse\",  \"squared_error\"],\n",
    "          \"subsample\":np.arange(0.1, 1, 0.1),\n",
    "          \"n_estimators\":[100, 300, 500]}\n",
    "\n",
    "gs = RandomizedSearchCV(gbc, params, cv=kf, scoring='roc_auc', n_jobs=-1)\n",
    "gs.fit(x_train_se, y_train)\n",
    "\n",
    "print('Лучшие параметры: ', gs.best_params_)\n",
    "print('Лучший результат: ', gs.best_score_)"
   ]
  },
  {
   "cell_type": "code",
   "execution_count": 47,
   "id": "9cd0b3d1",
   "metadata": {
    "id": "9cd0b3d1",
    "outputId": "87a21b25-8f2c-4eb0-db1c-2aef83e37525"
   },
   "outputs": [
    {
     "data": {
      "text/html": [
       "<style>#sk-container-id-2 {color: black;background-color: white;}#sk-container-id-2 pre{padding: 0;}#sk-container-id-2 div.sk-toggleable {background-color: white;}#sk-container-id-2 label.sk-toggleable__label {cursor: pointer;display: block;width: 100%;margin-bottom: 0;padding: 0.3em;box-sizing: border-box;text-align: center;}#sk-container-id-2 label.sk-toggleable__label-arrow:before {content: \"▸\";float: left;margin-right: 0.25em;color: #696969;}#sk-container-id-2 label.sk-toggleable__label-arrow:hover:before {color: black;}#sk-container-id-2 div.sk-estimator:hover label.sk-toggleable__label-arrow:before {color: black;}#sk-container-id-2 div.sk-toggleable__content {max-height: 0;max-width: 0;overflow: hidden;text-align: left;background-color: #f0f8ff;}#sk-container-id-2 div.sk-toggleable__content pre {margin: 0.2em;color: black;border-radius: 0.25em;background-color: #f0f8ff;}#sk-container-id-2 input.sk-toggleable__control:checked~div.sk-toggleable__content {max-height: 200px;max-width: 100%;overflow: auto;}#sk-container-id-2 input.sk-toggleable__control:checked~label.sk-toggleable__label-arrow:before {content: \"▾\";}#sk-container-id-2 div.sk-estimator input.sk-toggleable__control:checked~label.sk-toggleable__label {background-color: #d4ebff;}#sk-container-id-2 div.sk-label input.sk-toggleable__control:checked~label.sk-toggleable__label {background-color: #d4ebff;}#sk-container-id-2 input.sk-hidden--visually {border: 0;clip: rect(1px 1px 1px 1px);clip: rect(1px, 1px, 1px, 1px);height: 1px;margin: -1px;overflow: hidden;padding: 0;position: absolute;width: 1px;}#sk-container-id-2 div.sk-estimator {font-family: monospace;background-color: #f0f8ff;border: 1px dotted black;border-radius: 0.25em;box-sizing: border-box;margin-bottom: 0.5em;}#sk-container-id-2 div.sk-estimator:hover {background-color: #d4ebff;}#sk-container-id-2 div.sk-parallel-item::after {content: \"\";width: 100%;border-bottom: 1px solid gray;flex-grow: 1;}#sk-container-id-2 div.sk-label:hover label.sk-toggleable__label {background-color: #d4ebff;}#sk-container-id-2 div.sk-serial::before {content: \"\";position: absolute;border-left: 1px solid gray;box-sizing: border-box;top: 0;bottom: 0;left: 50%;z-index: 0;}#sk-container-id-2 div.sk-serial {display: flex;flex-direction: column;align-items: center;background-color: white;padding-right: 0.2em;padding-left: 0.2em;position: relative;}#sk-container-id-2 div.sk-item {position: relative;z-index: 1;}#sk-container-id-2 div.sk-parallel {display: flex;align-items: stretch;justify-content: center;background-color: white;position: relative;}#sk-container-id-2 div.sk-item::before, #sk-container-id-2 div.sk-parallel-item::before {content: \"\";position: absolute;border-left: 1px solid gray;box-sizing: border-box;top: 0;bottom: 0;left: 50%;z-index: -1;}#sk-container-id-2 div.sk-parallel-item {display: flex;flex-direction: column;z-index: 1;position: relative;background-color: white;}#sk-container-id-2 div.sk-parallel-item:first-child::after {align-self: flex-end;width: 50%;}#sk-container-id-2 div.sk-parallel-item:last-child::after {align-self: flex-start;width: 50%;}#sk-container-id-2 div.sk-parallel-item:only-child::after {width: 0;}#sk-container-id-2 div.sk-dashed-wrapped {border: 1px dashed gray;margin: 0 0.4em 0.5em 0.4em;box-sizing: border-box;padding-bottom: 0.4em;background-color: white;}#sk-container-id-2 div.sk-label label {font-family: monospace;font-weight: bold;display: inline-block;line-height: 1.2em;}#sk-container-id-2 div.sk-label-container {text-align: center;}#sk-container-id-2 div.sk-container {/* jupyter's `normalize.less` sets `[hidden] { display: none; }` but bootstrap.min.css set `[hidden] { display: none !important; }` so we also need the `!important` here to be able to override the default hidden behavior on the sphinx rendered scikit-learn.org. See: https://github.com/scikit-learn/scikit-learn/issues/21755 */display: inline-block !important;position: relative;}#sk-container-id-2 div.sk-text-repr-fallback {display: none;}</style><div id=\"sk-container-id-2\" class=\"sk-top-container\"><div class=\"sk-text-repr-fallback\"><pre>RandomForestClassifier(max_depth=50, min_samples_leaf=3, min_samples_split=16,\n",
       "                       n_estimators=300)</pre><b>In a Jupyter environment, please rerun this cell to show the HTML representation or trust the notebook. <br />On GitHub, the HTML representation is unable to render, please try loading this page with nbviewer.org.</b></div><div class=\"sk-container\" hidden><div class=\"sk-item\"><div class=\"sk-estimator sk-toggleable\"><input class=\"sk-toggleable__control sk-hidden--visually\" id=\"sk-estimator-id-2\" type=\"checkbox\" checked><label for=\"sk-estimator-id-2\" class=\"sk-toggleable__label sk-toggleable__label-arrow\">RandomForestClassifier</label><div class=\"sk-toggleable__content\"><pre>RandomForestClassifier(max_depth=50, min_samples_leaf=3, min_samples_split=16,\n",
       "                       n_estimators=300)</pre></div></div></div></div></div>"
      ],
      "text/plain": [
       "RandomForestClassifier(max_depth=50, min_samples_leaf=3, min_samples_split=16,\n",
       "                       n_estimators=300)"
      ]
     },
     "execution_count": 47,
     "metadata": {},
     "output_type": "execute_result"
    }
   ],
   "source": [
    "# Обучаем модель с лучшими результатами\n",
    "\n",
    "rfc = RandomForestClassifier(n_estimators=300, max_depth=50, max_features='sqrt', min_samples_split=16, min_samples_leaf=3)\n",
    "rfc.fit(x_train_se, y_train)"
   ]
  },
  {
   "cell_type": "code",
   "execution_count": 48,
   "id": "6c06f115",
   "metadata": {
    "id": "6c06f115",
    "outputId": "6a216ac7-33e8-4111-f83d-9d4f7f53555c"
   },
   "outputs": [
    {
     "name": "stdout",
     "output_type": "stream",
     "text": [
      "Random forrest roc-auc score is: 0.6794099484265277\n"
     ]
    }
   ],
   "source": [
    "rfc_pred = rfc.predict_proba(x_test_se)[:,1]\n",
    "rfc_auc = roc_auc_score(y_test, rfc_pred)\n",
    "print(f'Random forrest roc-auc score is: {rfc_auc}')"
   ]
  },
  {
   "cell_type": "code",
   "execution_count": 49,
   "id": "d58900e5",
   "metadata": {
    "id": "d58900e5",
    "outputId": "38c338e2-1c21-470e-a340-b0e2940005b0"
   },
   "outputs": [
    {
     "data": {
      "text/plain": [
       "Text(0, 0.5, 'tpr')"
      ]
     },
     "execution_count": 49,
     "metadata": {},
     "output_type": "execute_result"
    },
    {
     "data": {
      "image/png": "[encoded data removed]",
      "text/plain": [
       "<Figure size 640x480 with 1 Axes>"
      ]
     },
     "metadata": {},
     "output_type": "display_data"
    }
   ],
   "source": [
    "# Визуализируем кривую roc-auc\n",
    "\n",
    "fpr, tpr, _ = roc_curve(y_test, rfc_pred)\n",
    "plt.plot(fpr, tpr, '-')\n",
    "plt.xlabel('fpr')\n",
    "plt.ylabel('tpr')"
   ]
  },
  {
   "cell_type": "code",
   "execution_count": null,
   "id": "83f9cb3a",
   "metadata": {
    "id": "83f9cb3a"
   },
   "outputs": [],
   "source": [
    "df_submission = pd.DataFrame(data= {\n",
    "    'id': df_test['id'],\n",
    "    'flag': rfc_pred\n",
    "})\n",
    "df_submission.head()"
   ]
  },
  {
   "cell_type": "code",
   "execution_count": null,
   "id": "b2bd1d96",
   "metadata": {
    "id": "b2bd1d96"
   },
   "outputs": [],
   "source": [
    "df_submission.to_csv('submission.csv', index=False)"
   ]
  },
  {
   "cell_type": "markdown",
   "id": "a8238217",
   "metadata": {
    "id": "a8238217"
   },
   "source": [
    "### Pipeline"
   ]
  },
  {
   "cell_type": "code",
   "execution_count": null,
   "id": "beeea7de",
   "metadata": {
    "id": "beeea7de"
   },
   "outputs": [],
   "source": [
    "# Создаем пайплайн для обучения модели на всей выборке с предварительным отбором признаков и сохраням полученную модель в pickle файл\n",
    "\n",
    "df_min = data[data['flag'] == 1]\n",
    "df_maj = data[data['flag'] == 0]\n",
    "\n",
    "df_maj_downsample = resample(df_maj, replace=False, n_samples=len(df_min), random_state=42)\n",
    "\n",
    "print(df_maj_downsample.shape)\n",
    "print(df_min.shape)\n",
    "\n",
    "df = pd.concat([df_maj_downsample, df_min], ignore_index=True).sample(frac=1.)\n",
    "\n",
    "x = df.drop(columns=['flag', 'id', 'rn'])\n",
    "y = df.flag\n",
    "\n",
    "rfc = RandomForestClassifier(n_estimators=500, max_depth=26, max_features='sqrt', min_samples_split=16, min_samples_leaf=2)\n",
    "selector = GenericUnivariateSelect(mode='k_best', score_func=chi2, param=56)\n",
    "pipe = Pipeline([('selector', selector), ('classifier', rfc)])\n",
    "pipe.fit(x, y)\n",
    "\n",
    "joblib.dump(pipe, 'scoring_pipe.pkl')"
   ]
  }
 ],
 "metadata": {
  "colab": {
   "collapsed_sections": [
    "6aaa2b33"
   ],
   "provenance": []
  },
  "kernelspec": {
   "display_name": "Python 3 (ipykernel)",
   "language": "python",
   "name": "python3"
  },
  "language_info": {
   "codemirror_mode": {
    "name": "ipython",
    "version": 3
   },
   "file_extension": ".py",
   "mimetype": "text/x-python",
   "name": "python",
   "nbconvert_exporter": "python",
   "pygments_lexer": "ipython3",
   "version": "3.9.17"
  }
 },
 "nbformat": 4,
 "nbformat_minor": 5
}
