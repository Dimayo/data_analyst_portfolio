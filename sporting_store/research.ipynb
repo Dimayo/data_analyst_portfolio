{
 "cells": [
  {
   "cell_type": "markdown",
   "id": "f4aad115",
   "metadata": {},
   "source": [
    "# Оценка А/Б теста и кластеризация для магазина спортивных товаров"
   ]
  },
  {
   "cell_type": "markdown",
   "id": "fa480a37",
   "metadata": {},
   "source": [
    "## Импорты"
   ]
  },
  {
   "cell_type": "code",
   "execution_count": 8,
   "id": "a7b2fe20",
   "metadata": {},
   "outputs": [],
   "source": [
    "import pandas as pd\n",
    "import matplotlib.pyplot as plt\n",
    "import seaborn as sns\n",
    "import numpy as np\n",
    "import warnings\n",
    "import re\n",
    "\n",
    "from sqlalchemy import create_engine, text\n",
    "from scipy import stats\n",
    "from sklearn.preprocessing import LabelEncoder, StandardScaler\n",
    "from sklearn.ensemble import RandomForestClassifier, GradientBoostingClassifier\n",
    "from kmodes.kprototypes import KPrototypes\n",
    "from sklearn.model_selection import StratifiedKFold, RandomizedSearchCV\n",
    "from sklearn.manifold import TSNE"
   ]
  },
  {
   "attachments": {},
   "cell_type": "markdown",
   "id": "0613b392",
   "metadata": {},
   "source": [
    "## Заргузка данных"
   ]
  },
  {
   "cell_type": "code",
   "execution_count": 9,
   "id": "987a2bf0",
   "metadata": {},
   "outputs": [],
   "source": [
    "# Подключаемся к базе данных\n",
    "\n",
    "warnings.filterwarnings(\"ignore\")\n",
    "\n",
    "engine = create_engine('sqlite:///data/shop_database.db')\n",
    "conn = engine.connect()"
   ]
  },
  {
   "cell_type": "code",
   "execution_count": 10,
   "id": "40e97435",
   "metadata": {},
   "outputs": [],
   "source": [
    "# Загружаем таблицы \n",
    "\n",
    "df_pers = pd.read_sql(sql=text('SELECT * FROM personal_data'),con=conn)"
   ]
  },
  {
   "cell_type": "code",
   "execution_count": 11,
   "id": "599caf36",
   "metadata": {},
   "outputs": [
    {
     "data": {
      "text/html": [
       "<div>\n",
       "<style scoped>\n",
       "    .dataframe tbody tr th:only-of-type {\n",
       "        vertical-align: middle;\n",
       "    }\n",
       "\n",
       "    .dataframe tbody tr th {\n",
       "        vertical-align: top;\n",
       "    }\n",
       "\n",
       "    .dataframe thead th {\n",
       "        text-align: right;\n",
       "    }\n",
       "</style>\n",
       "<table border=\"1\" class=\"dataframe\">\n",
       "  <thead>\n",
       "    <tr style=\"text-align: right;\">\n",
       "      <th></th>\n",
       "      <th>id</th>\n",
       "      <th>gender</th>\n",
       "      <th>age</th>\n",
       "      <th>education</th>\n",
       "      <th>city</th>\n",
       "      <th>country</th>\n",
       "    </tr>\n",
       "  </thead>\n",
       "  <tbody>\n",
       "    <tr>\n",
       "      <th>0</th>\n",
       "      <td>0</td>\n",
       "      <td>0</td>\n",
       "      <td>36</td>\n",
       "      <td>среднее</td>\n",
       "      <td>1201</td>\n",
       "      <td>32</td>\n",
       "    </tr>\n",
       "    <tr>\n",
       "      <th>1</th>\n",
       "      <td>4</td>\n",
       "      <td>0</td>\n",
       "      <td>35</td>\n",
       "      <td>среднее</td>\n",
       "      <td>1134</td>\n",
       "      <td>32</td>\n",
       "    </tr>\n",
       "    <tr>\n",
       "      <th>2</th>\n",
       "      <td>6</td>\n",
       "      <td>1</td>\n",
       "      <td>52</td>\n",
       "      <td>среднее</td>\n",
       "      <td>1188</td>\n",
       "      <td>32</td>\n",
       "    </tr>\n",
       "    <tr>\n",
       "      <th>3</th>\n",
       "      <td>7</td>\n",
       "      <td>0</td>\n",
       "      <td>37</td>\n",
       "      <td>среднее</td>\n",
       "      <td>1198</td>\n",
       "      <td>32</td>\n",
       "    </tr>\n",
       "    <tr>\n",
       "      <th>4</th>\n",
       "      <td>9</td>\n",
       "      <td>0</td>\n",
       "      <td>48</td>\n",
       "      <td>среднее</td>\n",
       "      <td>1134</td>\n",
       "      <td>32</td>\n",
       "    </tr>\n",
       "  </tbody>\n",
       "</table>\n",
       "</div>"
      ],
      "text/plain": [
       "   id  gender  age education  city  country\n",
       "0   0       0   36   среднее  1201       32\n",
       "1   4       0   35   среднее  1134       32\n",
       "2   6       1   52   среднее  1188       32\n",
       "3   7       0   37   среднее  1198       32\n",
       "4   9       0   48   среднее  1134       32"
      ]
     },
     "execution_count": 11,
     "metadata": {},
     "output_type": "execute_result"
    }
   ],
   "source": [
    "df_pers.head()"
   ]
  },
  {
   "cell_type": "code",
   "execution_count": 12,
   "id": "ba92fc8e",
   "metadata": {},
   "outputs": [
    {
     "data": {
      "text/plain": [
       "(89241, 6)"
      ]
     },
     "execution_count": 12,
     "metadata": {},
     "output_type": "execute_result"
    }
   ],
   "source": [
    "df_pers.shape"
   ]
  },
  {
   "cell_type": "code",
   "execution_count": 13,
   "id": "92ca9592",
   "metadata": {},
   "outputs": [],
   "source": [
    "df_coef = pd.read_sql(sql=text('SELECT * FROM personal_data_coeffs'),con=conn)"
   ]
  },
  {
   "cell_type": "code",
   "execution_count": 14,
   "id": "64a3e7e5",
   "metadata": {},
   "outputs": [
    {
     "data": {
      "text/html": [
       "<div>\n",
       "<style scoped>\n",
       "    .dataframe tbody tr th:only-of-type {\n",
       "        vertical-align: middle;\n",
       "    }\n",
       "\n",
       "    .dataframe tbody tr th {\n",
       "        vertical-align: top;\n",
       "    }\n",
       "\n",
       "    .dataframe thead th {\n",
       "        text-align: right;\n",
       "    }\n",
       "</style>\n",
       "<table border=\"1\" class=\"dataframe\">\n",
       "  <thead>\n",
       "    <tr style=\"text-align: right;\">\n",
       "      <th></th>\n",
       "      <th>id</th>\n",
       "      <th>lbt_coef</th>\n",
       "      <th>ac_coef</th>\n",
       "      <th>sm_coef</th>\n",
       "      <th>personal_coef</th>\n",
       "    </tr>\n",
       "  </thead>\n",
       "  <tbody>\n",
       "    <tr>\n",
       "      <th>0</th>\n",
       "      <td>0</td>\n",
       "      <td>5.078678</td>\n",
       "      <td>-0.307147</td>\n",
       "      <td>0.959027</td>\n",
       "      <td>0.5072</td>\n",
       "    </tr>\n",
       "    <tr>\n",
       "      <th>1</th>\n",
       "      <td>3</td>\n",
       "      <td>7.764766</td>\n",
       "      <td>-0.030225</td>\n",
       "      <td>0.794720</td>\n",
       "      <td>0.4304</td>\n",
       "    </tr>\n",
       "    <tr>\n",
       "      <th>2</th>\n",
       "      <td>4</td>\n",
       "      <td>4.569378</td>\n",
       "      <td>0.063693</td>\n",
       "      <td>0.820892</td>\n",
       "      <td>0.5072</td>\n",
       "    </tr>\n",
       "    <tr>\n",
       "      <th>3</th>\n",
       "      <td>6</td>\n",
       "      <td>8.150379</td>\n",
       "      <td>0.075200</td>\n",
       "      <td>0.836140</td>\n",
       "      <td>0.4304</td>\n",
       "    </tr>\n",
       "    <tr>\n",
       "      <th>4</th>\n",
       "      <td>7</td>\n",
       "      <td>5.188231</td>\n",
       "      <td>-0.000134</td>\n",
       "      <td>0.944113</td>\n",
       "      <td>0.5072</td>\n",
       "    </tr>\n",
       "  </tbody>\n",
       "</table>\n",
       "</div>"
      ],
      "text/plain": [
       "   id  lbt_coef   ac_coef   sm_coef  personal_coef\n",
       "0   0  5.078678 -0.307147  0.959027         0.5072\n",
       "1   3  7.764766 -0.030225  0.794720         0.4304\n",
       "2   4  4.569378  0.063693  0.820892         0.5072\n",
       "3   6  8.150379  0.075200  0.836140         0.4304\n",
       "4   7  5.188231 -0.000134  0.944113         0.5072"
      ]
     },
     "execution_count": 14,
     "metadata": {},
     "output_type": "execute_result"
    }
   ],
   "source": [
    "df_coef.head()"
   ]
  },
  {
   "cell_type": "code",
   "execution_count": 15,
   "id": "e5b401c4",
   "metadata": {},
   "outputs": [
    {
     "data": {
      "text/plain": [
       "(104989, 5)"
      ]
     },
     "execution_count": 15,
     "metadata": {},
     "output_type": "execute_result"
    }
   ],
   "source": [
    "df_coef.shape"
   ]
  },
  {
   "cell_type": "code",
   "execution_count": 16,
   "id": "aa449f08",
   "metadata": {},
   "outputs": [],
   "source": [
    "df_purch = pd.read_sql(sql=text('SELECT * FROM purchases'),con=conn)"
   ]
  },
  {
   "cell_type": "code",
   "execution_count": 17,
   "id": "05656900",
   "metadata": {},
   "outputs": [
    {
     "data": {
      "text/html": [
       "<div>\n",
       "<style scoped>\n",
       "    .dataframe tbody tr th:only-of-type {\n",
       "        vertical-align: middle;\n",
       "    }\n",
       "\n",
       "    .dataframe tbody tr th {\n",
       "        vertical-align: top;\n",
       "    }\n",
       "\n",
       "    .dataframe thead th {\n",
       "        text-align: right;\n",
       "    }\n",
       "</style>\n",
       "<table border=\"1\" class=\"dataframe\">\n",
       "  <thead>\n",
       "    <tr style=\"text-align: right;\">\n",
       "      <th></th>\n",
       "      <th>id</th>\n",
       "      <th>product</th>\n",
       "      <th>colour</th>\n",
       "      <th>cost</th>\n",
       "      <th>product_sex</th>\n",
       "      <th>base_sale</th>\n",
       "      <th>dt</th>\n",
       "    </tr>\n",
       "  </thead>\n",
       "  <tbody>\n",
       "    <tr>\n",
       "      <th>0</th>\n",
       "      <td>0</td>\n",
       "      <td>Велосипед горный женский Stern Mira 2.0 26\"</td>\n",
       "      <td>белый/синий</td>\n",
       "      <td>13599</td>\n",
       "      <td>0.0</td>\n",
       "      <td>1</td>\n",
       "      <td>7</td>\n",
       "    </tr>\n",
       "    <tr>\n",
       "      <th>1</th>\n",
       "      <td>0</td>\n",
       "      <td>Стол Outventure</td>\n",
       "      <td>зелёный</td>\n",
       "      <td>1499</td>\n",
       "      <td>NaN</td>\n",
       "      <td>0</td>\n",
       "      <td>37</td>\n",
       "    </tr>\n",
       "    <tr>\n",
       "      <th>2</th>\n",
       "      <td>0</td>\n",
       "      <td>Набор Outventure: стол + 4 стула</td>\n",
       "      <td>бежевый</td>\n",
       "      <td>4799</td>\n",
       "      <td>NaN</td>\n",
       "      <td>0</td>\n",
       "      <td>37</td>\n",
       "    </tr>\n",
       "    <tr>\n",
       "      <th>3</th>\n",
       "      <td>3</td>\n",
       "      <td>Бутсы мужские GSD Astro</td>\n",
       "      <td>белый</td>\n",
       "      <td>1599</td>\n",
       "      <td>1.0</td>\n",
       "      <td>0</td>\n",
       "      <td>13</td>\n",
       "    </tr>\n",
       "    <tr>\n",
       "      <th>4</th>\n",
       "      <td>3</td>\n",
       "      <td>Мяч футбольный PUMA TEAMFINAL 21.2 FIFA QUALIT...</td>\n",
       "      <td>мультицвет</td>\n",
       "      <td>7199</td>\n",
       "      <td>NaN</td>\n",
       "      <td>0</td>\n",
       "      <td>27</td>\n",
       "    </tr>\n",
       "  </tbody>\n",
       "</table>\n",
       "</div>"
      ],
      "text/plain": [
       "   id                                            product       colour   cost  \\\n",
       "0   0        Велосипед горный женский Stern Mira 2.0 26\"  белый/синий  13599   \n",
       "1   0                                    Стол Outventure      зелёный   1499   \n",
       "2   0                   Набор Outventure: стол + 4 стула      бежевый   4799   \n",
       "3   3                            Бутсы мужские GSD Astro        белый   1599   \n",
       "4   3  Мяч футбольный PUMA TEAMFINAL 21.2 FIFA QUALIT...   мультицвет   7199   \n",
       "\n",
       "   product_sex  base_sale  dt  \n",
       "0          0.0          1   7  \n",
       "1          NaN          0  37  \n",
       "2          NaN          0  37  \n",
       "3          1.0          0  13  \n",
       "4          NaN          0  27  "
      ]
     },
     "execution_count": 17,
     "metadata": {},
     "output_type": "execute_result"
    }
   ],
   "source": [
    "df_purch.head()"
   ]
  },
  {
   "cell_type": "code",
   "execution_count": 18,
   "id": "46f9708d",
   "metadata": {},
   "outputs": [
    {
     "data": {
      "text/plain": [
       "(786260, 7)"
      ]
     },
     "execution_count": 18,
     "metadata": {},
     "output_type": "execute_result"
    }
   ],
   "source": [
    "df_purch.shape"
   ]
  },
  {
   "cell_type": "code",
   "execution_count": 19,
   "id": "651002d3",
   "metadata": {},
   "outputs": [],
   "source": [
    "# Загружаем утерянные данные\n",
    "\n",
    "df_lost = pd.read_csv('data\\personal_data.csv.gz', compression='gzip', header=0)"
   ]
  },
  {
   "cell_type": "code",
   "execution_count": 20,
   "id": "49beedd5",
   "metadata": {},
   "outputs": [
    {
     "data": {
      "text/html": [
       "<div>\n",
       "<style scoped>\n",
       "    .dataframe tbody tr th:only-of-type {\n",
       "        vertical-align: middle;\n",
       "    }\n",
       "\n",
       "    .dataframe tbody tr th {\n",
       "        vertical-align: top;\n",
       "    }\n",
       "\n",
       "    .dataframe thead th {\n",
       "        text-align: right;\n",
       "    }\n",
       "</style>\n",
       "<table border=\"1\" class=\"dataframe\">\n",
       "  <thead>\n",
       "    <tr style=\"text-align: right;\">\n",
       "      <th></th>\n",
       "      <th>id</th>\n",
       "      <th>age</th>\n",
       "      <th>education</th>\n",
       "      <th>city</th>\n",
       "      <th>country</th>\n",
       "    </tr>\n",
       "  </thead>\n",
       "  <tbody>\n",
       "    <tr>\n",
       "      <th>0</th>\n",
       "      <td>101492</td>\n",
       "      <td>32</td>\n",
       "      <td>среднее</td>\n",
       "      <td>1188</td>\n",
       "      <td>32</td>\n",
       "    </tr>\n",
       "    <tr>\n",
       "      <th>1</th>\n",
       "      <td>42690</td>\n",
       "      <td>20</td>\n",
       "      <td>высшее</td>\n",
       "      <td>1134</td>\n",
       "      <td>32</td>\n",
       "    </tr>\n",
       "    <tr>\n",
       "      <th>2</th>\n",
       "      <td>113001</td>\n",
       "      <td>27</td>\n",
       "      <td>среднее</td>\n",
       "      <td>1187</td>\n",
       "      <td>32</td>\n",
       "    </tr>\n",
       "    <tr>\n",
       "      <th>3</th>\n",
       "      <td>163654</td>\n",
       "      <td>49</td>\n",
       "      <td>высшее</td>\n",
       "      <td>1160</td>\n",
       "      <td>32</td>\n",
       "    </tr>\n",
       "    <tr>\n",
       "      <th>4</th>\n",
       "      <td>69523</td>\n",
       "      <td>44</td>\n",
       "      <td>среднее</td>\n",
       "      <td>1137</td>\n",
       "      <td>32</td>\n",
       "    </tr>\n",
       "  </tbody>\n",
       "</table>\n",
       "</div>"
      ],
      "text/plain": [
       "       id  age education  city  country\n",
       "0  101492   32   среднее  1188       32\n",
       "1   42690   20    высшее  1134       32\n",
       "2  113001   27   среднее  1187       32\n",
       "3  163654   49    высшее  1160       32\n",
       "4   69523   44   среднее  1137       32"
      ]
     },
     "execution_count": 20,
     "metadata": {},
     "output_type": "execute_result"
    }
   ],
   "source": [
    "df_lost.head()"
   ]
  },
  {
   "cell_type": "code",
   "execution_count": 21,
   "id": "048da8fb",
   "metadata": {},
   "outputs": [
    {
     "data": {
      "text/plain": [
       "(15748, 5)"
      ]
     },
     "execution_count": 21,
     "metadata": {},
     "output_type": "execute_result"
    }
   ],
   "source": [
    "df_lost.shape"
   ]
  },
  {
   "cell_type": "code",
   "execution_count": 22,
   "id": "4c7ee477",
   "metadata": {},
   "outputs": [],
   "source": [
    "# Объединяем данные о клиентах с утерянными данными\n",
    "\n",
    "df_clients = pd.concat([df_pers, df_lost])"
   ]
  },
  {
   "cell_type": "code",
   "execution_count": 23,
   "id": "51fa7122",
   "metadata": {},
   "outputs": [
    {
     "data": {
      "text/plain": [
       "(104989, 6)"
      ]
     },
     "execution_count": 23,
     "metadata": {},
     "output_type": "execute_result"
    }
   ],
   "source": [
    "df_clients.shape"
   ]
  },
  {
   "cell_type": "code",
   "execution_count": 24,
   "id": "09ca635c",
   "metadata": {},
   "outputs": [],
   "source": [
    "# Добавляем признак с коэффициентом клиента\n",
    "\n",
    "df_clients = df_clients.merge(df_coef[['id', 'personal_coef']], on='id', how='inner')"
   ]
  },
  {
   "cell_type": "code",
   "execution_count": 25,
   "id": "092eadc3",
   "metadata": {},
   "outputs": [
    {
     "data": {
      "text/html": [
       "<div>\n",
       "<style scoped>\n",
       "    .dataframe tbody tr th:only-of-type {\n",
       "        vertical-align: middle;\n",
       "    }\n",
       "\n",
       "    .dataframe tbody tr th {\n",
       "        vertical-align: top;\n",
       "    }\n",
       "\n",
       "    .dataframe thead th {\n",
       "        text-align: right;\n",
       "    }\n",
       "</style>\n",
       "<table border=\"1\" class=\"dataframe\">\n",
       "  <thead>\n",
       "    <tr style=\"text-align: right;\">\n",
       "      <th></th>\n",
       "      <th>id</th>\n",
       "      <th>gender</th>\n",
       "      <th>age</th>\n",
       "      <th>education</th>\n",
       "      <th>city</th>\n",
       "      <th>country</th>\n",
       "      <th>personal_coef</th>\n",
       "    </tr>\n",
       "  </thead>\n",
       "  <tbody>\n",
       "    <tr>\n",
       "      <th>0</th>\n",
       "      <td>0</td>\n",
       "      <td>0.0</td>\n",
       "      <td>36</td>\n",
       "      <td>среднее</td>\n",
       "      <td>1201</td>\n",
       "      <td>32</td>\n",
       "      <td>0.5072</td>\n",
       "    </tr>\n",
       "    <tr>\n",
       "      <th>1</th>\n",
       "      <td>4</td>\n",
       "      <td>0.0</td>\n",
       "      <td>35</td>\n",
       "      <td>среднее</td>\n",
       "      <td>1134</td>\n",
       "      <td>32</td>\n",
       "      <td>0.5072</td>\n",
       "    </tr>\n",
       "    <tr>\n",
       "      <th>2</th>\n",
       "      <td>6</td>\n",
       "      <td>1.0</td>\n",
       "      <td>52</td>\n",
       "      <td>среднее</td>\n",
       "      <td>1188</td>\n",
       "      <td>32</td>\n",
       "      <td>0.4304</td>\n",
       "    </tr>\n",
       "    <tr>\n",
       "      <th>3</th>\n",
       "      <td>7</td>\n",
       "      <td>0.0</td>\n",
       "      <td>37</td>\n",
       "      <td>среднее</td>\n",
       "      <td>1198</td>\n",
       "      <td>32</td>\n",
       "      <td>0.5072</td>\n",
       "    </tr>\n",
       "    <tr>\n",
       "      <th>4</th>\n",
       "      <td>9</td>\n",
       "      <td>0.0</td>\n",
       "      <td>48</td>\n",
       "      <td>среднее</td>\n",
       "      <td>1134</td>\n",
       "      <td>32</td>\n",
       "      <td>0.5072</td>\n",
       "    </tr>\n",
       "  </tbody>\n",
       "</table>\n",
       "</div>"
      ],
      "text/plain": [
       "   id  gender  age education  city  country  personal_coef\n",
       "0   0     0.0   36   среднее  1201       32         0.5072\n",
       "1   4     0.0   35   среднее  1134       32         0.5072\n",
       "2   6     1.0   52   среднее  1188       32         0.4304\n",
       "3   7     0.0   37   среднее  1198       32         0.5072\n",
       "4   9     0.0   48   среднее  1134       32         0.5072"
      ]
     },
     "execution_count": 25,
     "metadata": {},
     "output_type": "execute_result"
    }
   ],
   "source": [
    "df_clients.head()"
   ]
  },
  {
   "attachments": {},
   "cell_type": "markdown",
   "id": "03c98973",
   "metadata": {},
   "source": [
    "## Подготовка данных"
   ]
  },
  {
   "attachments": {},
   "cell_type": "markdown",
   "id": "5aeadbc5",
   "metadata": {},
   "source": [
    "### Данные о клиентах"
   ]
  },
  {
   "cell_type": "code",
   "execution_count": 26,
   "id": "495a25f7",
   "metadata": {},
   "outputs": [
    {
     "data": {
      "text/html": [
       "<div>\n",
       "<style scoped>\n",
       "    .dataframe tbody tr th:only-of-type {\n",
       "        vertical-align: middle;\n",
       "    }\n",
       "\n",
       "    .dataframe tbody tr th {\n",
       "        vertical-align: top;\n",
       "    }\n",
       "\n",
       "    .dataframe thead th {\n",
       "        text-align: right;\n",
       "    }\n",
       "</style>\n",
       "<table border=\"1\" class=\"dataframe\">\n",
       "  <thead>\n",
       "    <tr style=\"text-align: right;\">\n",
       "      <th></th>\n",
       "      <th>id</th>\n",
       "      <th>gender</th>\n",
       "      <th>age</th>\n",
       "      <th>city</th>\n",
       "      <th>country</th>\n",
       "      <th>personal_coef</th>\n",
       "    </tr>\n",
       "  </thead>\n",
       "  <tbody>\n",
       "    <tr>\n",
       "      <th>count</th>\n",
       "      <td>104989.000000</td>\n",
       "      <td>89241.000000</td>\n",
       "      <td>104989.000000</td>\n",
       "      <td>104989.000000</td>\n",
       "      <td>104989.000000</td>\n",
       "      <td>104989.000000</td>\n",
       "    </tr>\n",
       "    <tr>\n",
       "      <th>mean</th>\n",
       "      <td>89084.680967</td>\n",
       "      <td>0.572965</td>\n",
       "      <td>38.016707</td>\n",
       "      <td>1133.788492</td>\n",
       "      <td>31.989075</td>\n",
       "      <td>0.458363</td>\n",
       "    </tr>\n",
       "    <tr>\n",
       "      <th>std</th>\n",
       "      <td>51414.198487</td>\n",
       "      <td>0.494650</td>\n",
       "      <td>12.283166</td>\n",
       "      <td>179.309965</td>\n",
       "      <td>0.943848</td>\n",
       "      <td>0.062570</td>\n",
       "    </tr>\n",
       "    <tr>\n",
       "      <th>min</th>\n",
       "      <td>0.000000</td>\n",
       "      <td>0.000000</td>\n",
       "      <td>5.000000</td>\n",
       "      <td>0.000000</td>\n",
       "      <td>0.000000</td>\n",
       "      <td>0.233600</td>\n",
       "    </tr>\n",
       "    <tr>\n",
       "      <th>25%</th>\n",
       "      <td>44532.000000</td>\n",
       "      <td>0.000000</td>\n",
       "      <td>30.000000</td>\n",
       "      <td>1134.000000</td>\n",
       "      <td>32.000000</td>\n",
       "      <td>0.430400</td>\n",
       "    </tr>\n",
       "    <tr>\n",
       "      <th>50%</th>\n",
       "      <td>89158.000000</td>\n",
       "      <td>1.000000</td>\n",
       "      <td>38.000000</td>\n",
       "      <td>1167.000000</td>\n",
       "      <td>32.000000</td>\n",
       "      <td>0.468800</td>\n",
       "    </tr>\n",
       "    <tr>\n",
       "      <th>75%</th>\n",
       "      <td>133588.000000</td>\n",
       "      <td>1.000000</td>\n",
       "      <td>46.000000</td>\n",
       "      <td>1188.000000</td>\n",
       "      <td>32.000000</td>\n",
       "      <td>0.507200</td>\n",
       "    </tr>\n",
       "    <tr>\n",
       "      <th>max</th>\n",
       "      <td>178004.000000</td>\n",
       "      <td>1.000000</td>\n",
       "      <td>77.000000</td>\n",
       "      <td>1213.000000</td>\n",
       "      <td>51.000000</td>\n",
       "      <td>0.558400</td>\n",
       "    </tr>\n",
       "  </tbody>\n",
       "</table>\n",
       "</div>"
      ],
      "text/plain": [
       "                  id        gender            age           city  \\\n",
       "count  104989.000000  89241.000000  104989.000000  104989.000000   \n",
       "mean    89084.680967      0.572965      38.016707    1133.788492   \n",
       "std     51414.198487      0.494650      12.283166     179.309965   \n",
       "min         0.000000      0.000000       5.000000       0.000000   \n",
       "25%     44532.000000      0.000000      30.000000    1134.000000   \n",
       "50%     89158.000000      1.000000      38.000000    1167.000000   \n",
       "75%    133588.000000      1.000000      46.000000    1188.000000   \n",
       "max    178004.000000      1.000000      77.000000    1213.000000   \n",
       "\n",
       "             country  personal_coef  \n",
       "count  104989.000000  104989.000000  \n",
       "mean       31.989075       0.458363  \n",
       "std         0.943848       0.062570  \n",
       "min         0.000000       0.233600  \n",
       "25%        32.000000       0.430400  \n",
       "50%        32.000000       0.468800  \n",
       "75%        32.000000       0.507200  \n",
       "max        51.000000       0.558400  "
      ]
     },
     "execution_count": 26,
     "metadata": {},
     "output_type": "execute_result"
    }
   ],
   "source": [
    "df_clients.describe()"
   ]
  },
  {
   "cell_type": "code",
   "execution_count": 27,
   "id": "43f689ed",
   "metadata": {},
   "outputs": [
    {
     "name": "stdout",
     "output_type": "stream",
     "text": [
      "<class 'pandas.core.frame.DataFrame'>\n",
      "RangeIndex: 104989 entries, 0 to 104988\n",
      "Data columns (total 7 columns):\n",
      " #   Column         Non-Null Count   Dtype  \n",
      "---  ------         --------------   -----  \n",
      " 0   id             104989 non-null  int64  \n",
      " 1   gender         89241 non-null   float64\n",
      " 2   age            104989 non-null  int64  \n",
      " 3   education      104989 non-null  object \n",
      " 4   city           104989 non-null  int64  \n",
      " 5   country        104989 non-null  int64  \n",
      " 6   personal_coef  104989 non-null  float64\n",
      "dtypes: float64(2), int64(4), object(1)\n",
      "memory usage: 5.6+ MB\n"
     ]
    }
   ],
   "source": [
    "df_clients.info()"
   ]
  },
  {
   "cell_type": "code",
   "execution_count": 28,
   "id": "801f4d05",
   "metadata": {},
   "outputs": [
    {
     "data": {
      "text/plain": [
       "[Text(0.5, 0, 'Возраст'), Text(0, 0.5, 'Кол-во')]"
      ]
     },
     "execution_count": 28,
     "metadata": {},
     "output_type": "execute_result"
    },
    {
     "data": {
      "image/png": "[encoded data removed]",
      "text/plain": [
       "<Figure size 800x400 with 1 Axes>"
      ]
     },
     "metadata": {},
     "output_type": "display_data"
    }
   ],
   "source": [
    "# Визуализируем некоторые распределения\n",
    "\n",
    "sns.set_theme()\n",
    "plt.rcParams['figure.figsize'] = [8, 4]\n",
    "fig,ax = plt.subplots()\n",
    "sns.histplot(df_clients['age'], bins=73, color='#C92228')\n",
    "ax.set_title('Распределение возраста клиентов')\n",
    "ax.set(xlabel='Возраст', ylabel='Кол-во')"
   ]
  },
  {
   "cell_type": "code",
   "execution_count": 29,
   "id": "aeae1a13",
   "metadata": {},
   "outputs": [
    {
     "data": {
      "text/plain": [
       "<matplotlib.legend.Legend at 0x1d2394a9e50>"
      ]
     },
     "execution_count": 29,
     "metadata": {},
     "output_type": "execute_result"
    },
    {
     "data": {
      "image/png": "[encoded data removed]",
      "text/plain": [
       "<Figure size 800x400 with 1 Axes>"
      ]
     },
     "metadata": {},
     "output_type": "display_data"
    }
   ],
   "source": [
    "fig,ax = plt.subplots()\n",
    "sns.countplot(x = df_clients['gender'],palette=['#C92228',\"#005AAB\"], hue=df_clients['education'])\n",
    "ax.set_title('Распределение пола клиентов и их образования')\n",
    "ax.set(xlabel=None, ylabel='Кол-во')\n",
    "ax.set(xticklabels=['женский', 'мужской'])\n",
    "ax.legend(title=None, loc='upper left', labels=['высшее', 'среднее'])"
   ]
  },
  {
   "cell_type": "code",
   "execution_count": 30,
   "id": "e4511653",
   "metadata": {},
   "outputs": [
    {
     "data": {
      "text/plain": [
       "0"
      ]
     },
     "execution_count": 30,
     "metadata": {},
     "output_type": "execute_result"
    }
   ],
   "source": [
    "df_clients.duplicated().sum()"
   ]
  },
  {
   "cell_type": "code",
   "execution_count": 31,
   "id": "5d4a55eb",
   "metadata": {},
   "outputs": [
    {
     "data": {
      "text/plain": [
       "gender           14.999667\n",
       "id                0.000000\n",
       "age               0.000000\n",
       "education         0.000000\n",
       "city              0.000000\n",
       "country           0.000000\n",
       "personal_coef     0.000000\n",
       "dtype: float64"
      ]
     },
     "execution_count": 31,
     "metadata": {},
     "output_type": "execute_result"
    }
   ],
   "source": [
    "# Проверяем пропущенные значения\n",
    "\n",
    "((df_clients.isna().sum() / len(df_clients)) * 100).sort_values(ascending=False)"
   ]
  },
  {
   "cell_type": "code",
   "execution_count": 32,
   "id": "6a730c62",
   "metadata": {},
   "outputs": [
    {
     "name": "stdout",
     "output_type": "stream",
     "text": [
      "id\n",
      "[     0      4      6 ... 167019 116355  15885] \n",
      "\n",
      "gender\n",
      "[ 0.  1. nan] \n",
      "\n",
      "age\n",
      "[36 35 52 37 48 39 44 40 49 53 33 19 20 17 50 55 21 34 38 29 62 41 31 43\n",
      " 16 32 18 30 23 25 42 24 63 45 56 58 22 47 27 51 28 26 54 57 11 46 65 13\n",
      " 66 64 60 71  5 14 59 61 15 73  9  8 69 68 72 70  7 67 12 10 75  6 74 76\n",
      " 77] \n",
      "\n",
      "education\n",
      "['среднее' 'высшее'] \n",
      "\n",
      "city\n",
      "[1201 1134 1188 1198 1190 1155  574 1178 1157 1203 1137 1204 1187 1181\n",
      " 1172 1162 1185 1177 1168 1207 1166 1191 1202 1179  913 1154  338   74\n",
      " 1205 1167 1159 1141 1142 1180 1150 1160 1199  609 1186 1151    3 1165\n",
      " 1196 1194 1175 1161 1195 1173   33 1192 1152   48  501 1183 1156 1163\n",
      " 1197 1200  218 1212    9 1176    1   73    0 1182   12 1153 1189   66\n",
      " 1164   10 1170 1148 1211 1147 1158  875 1206 1171 1033 1169 1208 1174\n",
      "    2   34 1133 1184   70   45  204 1135 1145 1092 1098 1093 1017  104\n",
      "   62  580 1139   11  917  226 1144 1193  804  292   61   59  726   76\n",
      "  307  536    7  123  515  261  588  174  269 1140  129   84  541  615\n",
      "  990 1143  550  535  138  907  178  151  509  628   65  802 1136 1213\n",
      "  192   75 1209  514 1063   58 1138  454 1146  423 1055  205   35 1036\n",
      "  114    6  911  793  805  135  715  276  481  492   78 1088  185  193\n",
      "  296  654   85   97 1031  219  526 1087  529   42  237   16  505  171\n",
      "  569   93  967   80  589  479  417  856 1210 1012 1094  806  328   36\n",
      "  388  489  931   83   87  731  252  149  412  283  133  326  195  186\n",
      "  961  230  247  735  584 1095  150  461  121  607  881   60  656   67\n",
      "  291  246   63  690   14  645   30  774 1084  646   88   71  130  142\n",
      "  763  740  418  154  753  612  206  532 1039  530  595  301  611  327\n",
      " 1082  803  111  255  553  900   13  164  899  177   40  200  238  447\n",
      "  644  249  466 1081  877  243  739  954 1037  678  196  122  306  668\n",
      "  703  471  773  648   69  975  597  125  254 1016  267  182  842  811\n",
      "  191  920   92  598  639  259  575  712  980  795  169 1038 1054  216\n",
      "  152  329  212  349  188  799   41  943 1032  738 1047  360   56  180\n",
      "  797  520  415 1051  720  885  468   72  742  187  201  592  442  959\n",
      "  962  743  495  179  352 1075  184  183  730  796  234  946  353  785\n",
      "  463  394   49  531  591  144  285  421  982  127  979  527  521  340\n",
      "  175  119 1149  680  841  732  166  444  581  647  721   94  951  165\n",
      " 1045  221  563  974  984  596  320  590  224  840  908  493  137  779\n",
      "  778 1066  782  449  540   68  711  116  198  977  800 1042  293  573\n",
      " 1111  250  258  789  630  624  170  419  783  156  253  251  472 1103\n",
      "  369  299  120  729 1046  485  381 1123  754 1034   15  371  997  915\n",
      "  475  666  695  496  812  724  503  302  545  436  429  820   26  432\n",
      "  207  972  751  519  684  297  162  604 1070 1083  942  719  268 1086\n",
      "   54  383  270  109  309  236  211  118  457 1106  816  623  605   47\n",
      "  846  134  855  934  233  808  801  181  691  497  861  973  469  748\n",
      "  576  878  102  768   25  405  634  263  334  439  448   91  614 1125\n",
      " 1128  667  814 1065  679  333  414   64 1099  549  488  374  225   39\n",
      "  482  544  139  838 1089  577  273  718  294  995  633  372  189   31\n",
      "  397  746  653  486  606   57  384  905  220  557  160  839  582  945\n",
      "  699   18  565  548  758 1114  339  971  103  458  891  603  586  765\n",
      "  940  602  851 1126  248  232  594  755  744  970  745  701  141  771\n",
      "  567  714  504  880  266  571   50  257   81  552  836  286  281  572\n",
      "  298  991  909  968  641    5 1076 1014  969  453  930  347   82  289\n",
      "  313  420  848  274  108  777  759  413 1019  916  622  190  698 1110\n",
      "  872  986  480 1078  168  985  330  578  245  998  288   98 1067  733\n",
      "  373   90  876  558  747  105  868  829  214  564  491 1059  976  613\n",
      "  522  231  396 1108  332  955 1028  490  999 1004  411  794  523  391\n",
      "  437  525  438  456  555    4  826  935  323 1119  295  534  981  117\n",
      "  770  734  687  652  173  879  464  756  197  366 1120  947 1010  993\n",
      " 1124  483   38  408  705  539  781  978  278 1062  124  857  890 1130\n",
      "  110  659  608  106  707  610  513  702  112  350  923  631  351  460\n",
      "  767  356  635  896   77  892  600  365  843  533  672  587  537  821\n",
      "  627  889  459 1049  859 1056  484 1029  290  140  825 1060   55  921\n",
      "  874  888  827 1015  517  722  749 1113  709  473 1101 1079  416  815\n",
      "  194  837  364 1048  625   22 1080  217  556] \n",
      "\n",
      "country\n",
      "[32 38 35  5 37 33 31  0 39 36 51  6 48 28  8  7 26  2 14 21 41 40  3  1\n",
      " 18 16 49 50 43 11 17 22 15] \n",
      "\n",
      "personal_coef\n",
      "[0.5072 0.4304 0.5584 0.4688 0.2672 0.3792 0.2896 0.3344 0.2768 0.3152\n",
      " 0.2576 0.3536 0.2336 0.2448 0.2384] \n",
      "\n"
     ]
    }
   ],
   "source": [
    "for column in df_clients.columns:\n",
    "    print(column)\n",
    "    print(df_clients[column].unique(), '\\n')"
   ]
  },
  {
   "cell_type": "code",
   "execution_count": 33,
   "id": "87cfead6",
   "metadata": {},
   "outputs": [],
   "source": [
    "# Преобразуем категориальный признак с помощью Label Encoder\n",
    "\n",
    "le = LabelEncoder()\n",
    "df_clients['education'] = le.fit_transform(df_clients['education'])"
   ]
  },
  {
   "cell_type": "code",
   "execution_count": 34,
   "id": "858b6ab9",
   "metadata": {},
   "outputs": [
    {
     "name": "stdout",
     "output_type": "stream",
     "text": [
      "df_train shape: (89241, 7)\n",
      "df_test shape: (15748, 7)\n"
     ]
    }
   ],
   "source": [
    "# Разделяем выборку на обучающую и тестовую, для последущего заполнения признака о поле клиента.\n",
    "\n",
    "df_train = df_clients[~df_clients['gender'].isna()].dropna()\n",
    "print('df_train shape:',df_train.shape)\n",
    "\n",
    "df_test = df_clients[df_clients['gender'].isna()]\n",
    "print('df_test shape:',df_test.shape)"
   ]
  },
  {
   "cell_type": "code",
   "execution_count": 35,
   "id": "083acde1",
   "metadata": {},
   "outputs": [],
   "source": [
    "# В тестовой выборке признак пол не заполнен\n",
    "\n",
    "x_train = df_train.drop(columns=['gender','id'])\n",
    "y_train = df_train['gender']\n",
    "\n",
    "x_test = df_test.drop(columns=['gender','id'])\n",
    "y_test = df_test['gender']"
   ]
  },
  {
   "cell_type": "code",
   "execution_count": 36,
   "id": "c85bed0e",
   "metadata": {},
   "outputs": [],
   "source": [
    "kf = StratifiedKFold(n_splits=3, shuffle=True, random_state=42)\n",
    "\n",
    "rfc = RandomForestClassifier()\n",
    "gbc = GradientBoostingClassifier()"
   ]
  },
  {
   "cell_type": "code",
   "execution_count": 37,
   "id": "d73074be",
   "metadata": {},
   "outputs": [
    {
     "name": "stdout",
     "output_type": "stream",
     "text": [
      "Best params:  {'n_estimators': 700, 'min_samples_split': 6, 'min_samples_leaf': 4, 'max_depth': 50}\n",
      "Best score:  0.9999022333801678\n"
     ]
    }
   ],
   "source": [
    "# Осуществляем подбор гиперпараметров модели\n",
    "\n",
    "params = {'n_estimators' : [300, 500, 700],\n",
    "          'max_depth': np.arange(10, 60, 4),\n",
    "          'min_samples_leaf': np.arange(1, 10, 1),\n",
    "          'min_samples_split': np.arange(2, 20, 2)}\n",
    "\n",
    "rs = RandomizedSearchCV(rfc, params, cv=kf, scoring='f1', n_jobs=-1, error_score='raise')\n",
    "rs.fit(x_train, y_train)\n",
    "\n",
    "print('Best params: ', rs.best_params_)\n",
    "print('Best score: ', rs.best_score_)"
   ]
  },
  {
   "cell_type": "code",
   "execution_count": 38,
   "id": "f468de43",
   "metadata": {},
   "outputs": [
    {
     "name": "stdout",
     "output_type": "stream",
     "text": [
      "Best params:  {'subsample': 0.7000000000000001, 'n_estimators': 300, 'min_samples_split': 10, 'min_samples_leaf': 2, 'max_features': 'sqrt', 'max_depth': 18, 'loss': 'exponential', 'learning_rate': 1, 'criterion': 'squared_error'}\n",
      "Best score:  0.9999511141094457\n"
     ]
    }
   ],
   "source": [
    "params = {\"loss\":[\"log_loss\", \"exponential\"],\n",
    "          \"learning_rate\": [0.01,0.1,1,10,100],\n",
    "          'max_depth': np.arange(2, 60, 4),\n",
    "          'max_features': ['sqrt', 'log2', None],\n",
    "          'min_samples_leaf': np.arange(1, 10, 1),\n",
    "          'min_samples_split': np.arange(2, 20, 2),\n",
    "          \"max_features\":[\"log2\",\"sqrt\"],\n",
    "          \"criterion\": [\"friedman_mse\",  \"squared_error\"],\n",
    "          \"subsample\":np.arange(0.1, 1, 0.1),\n",
    "          \"n_estimators\":[100, 300, 500]}\n",
    "\n",
    "rs = RandomizedSearchCV(gbc, params, cv=kf, scoring='f1', n_jobs=-1, error_score='raise')\n",
    "rs.fit(x_train, y_train)\n",
    "\n",
    "print('Best params: ', rs.best_params_)\n",
    "print('Best score: ', rs.best_score_)"
   ]
  },
  {
   "cell_type": "code",
   "execution_count": 39,
   "id": "3b11e141",
   "metadata": {},
   "outputs": [],
   "source": [
    "# Обучаем модель с лучшей оценкой f1 и предсказываем пол клиента на тестовой выборке\n",
    "\n",
    "model = GradientBoostingClassifier(subsample=0.4, n_estimators=300, min_samples_split=16, min_samples_leaf=2, \n",
    "                                   max_features='sqrt', max_depth=34, loss= 'exponential', learning_rate=1,\n",
    "                                   criterion='squared_error').fit(x_train, y_train)\n",
    "df_test['gender'] = model.predict(x_test)"
   ]
  },
  {
   "cell_type": "code",
   "execution_count": 40,
   "id": "e1ae2dfe",
   "metadata": {},
   "outputs": [
    {
     "data": {
      "text/html": [
       "<div>\n",
       "<style scoped>\n",
       "    .dataframe tbody tr th:only-of-type {\n",
       "        vertical-align: middle;\n",
       "    }\n",
       "\n",
       "    .dataframe tbody tr th {\n",
       "        vertical-align: top;\n",
       "    }\n",
       "\n",
       "    .dataframe thead th {\n",
       "        text-align: right;\n",
       "    }\n",
       "</style>\n",
       "<table border=\"1\" class=\"dataframe\">\n",
       "  <thead>\n",
       "    <tr style=\"text-align: right;\">\n",
       "      <th></th>\n",
       "      <th>id</th>\n",
       "      <th>gender</th>\n",
       "      <th>age</th>\n",
       "      <th>education</th>\n",
       "      <th>city</th>\n",
       "      <th>country</th>\n",
       "      <th>personal_coef</th>\n",
       "    </tr>\n",
       "  </thead>\n",
       "  <tbody>\n",
       "    <tr>\n",
       "      <th>89241</th>\n",
       "      <td>101492</td>\n",
       "      <td>1.0</td>\n",
       "      <td>32</td>\n",
       "      <td>1</td>\n",
       "      <td>1188</td>\n",
       "      <td>32</td>\n",
       "      <td>0.4304</td>\n",
       "    </tr>\n",
       "    <tr>\n",
       "      <th>89242</th>\n",
       "      <td>42690</td>\n",
       "      <td>1.0</td>\n",
       "      <td>20</td>\n",
       "      <td>0</td>\n",
       "      <td>1134</td>\n",
       "      <td>32</td>\n",
       "      <td>0.4688</td>\n",
       "    </tr>\n",
       "    <tr>\n",
       "      <th>89243</th>\n",
       "      <td>113001</td>\n",
       "      <td>1.0</td>\n",
       "      <td>27</td>\n",
       "      <td>1</td>\n",
       "      <td>1187</td>\n",
       "      <td>32</td>\n",
       "      <td>0.4304</td>\n",
       "    </tr>\n",
       "    <tr>\n",
       "      <th>89244</th>\n",
       "      <td>163654</td>\n",
       "      <td>0.0</td>\n",
       "      <td>49</td>\n",
       "      <td>0</td>\n",
       "      <td>1160</td>\n",
       "      <td>32</td>\n",
       "      <td>0.5584</td>\n",
       "    </tr>\n",
       "    <tr>\n",
       "      <th>89245</th>\n",
       "      <td>69523</td>\n",
       "      <td>0.0</td>\n",
       "      <td>44</td>\n",
       "      <td>1</td>\n",
       "      <td>1137</td>\n",
       "      <td>32</td>\n",
       "      <td>0.5072</td>\n",
       "    </tr>\n",
       "  </tbody>\n",
       "</table>\n",
       "</div>"
      ],
      "text/plain": [
       "           id  gender  age  education  city  country  personal_coef\n",
       "89241  101492     1.0   32          1  1188       32         0.4304\n",
       "89242   42690     1.0   20          0  1134       32         0.4688\n",
       "89243  113001     1.0   27          1  1187       32         0.4304\n",
       "89244  163654     0.0   49          0  1160       32         0.5584\n",
       "89245   69523     0.0   44          1  1137       32         0.5072"
      ]
     },
     "execution_count": 40,
     "metadata": {},
     "output_type": "execute_result"
    }
   ],
   "source": [
    "df_test.head()"
   ]
  },
  {
   "cell_type": "code",
   "execution_count": 41,
   "id": "7b816ca2",
   "metadata": {},
   "outputs": [],
   "source": [
    "# Объединяем датафреймы\n",
    "\n",
    "df_clients = pd.concat([df_train, df_test])"
   ]
  },
  {
   "attachments": {},
   "cell_type": "markdown",
   "id": "46debf60",
   "metadata": {},
   "source": [
    "### Данные о покупках"
   ]
  },
  {
   "cell_type": "code",
   "execution_count": 42,
   "id": "d75612dd",
   "metadata": {},
   "outputs": [
    {
     "data": {
      "text/html": [
       "<div>\n",
       "<style scoped>\n",
       "    .dataframe tbody tr th:only-of-type {\n",
       "        vertical-align: middle;\n",
       "    }\n",
       "\n",
       "    .dataframe tbody tr th {\n",
       "        vertical-align: top;\n",
       "    }\n",
       "\n",
       "    .dataframe thead th {\n",
       "        text-align: right;\n",
       "    }\n",
       "</style>\n",
       "<table border=\"1\" class=\"dataframe\">\n",
       "  <thead>\n",
       "    <tr style=\"text-align: right;\">\n",
       "      <th></th>\n",
       "      <th>id</th>\n",
       "      <th>cost</th>\n",
       "      <th>product_sex</th>\n",
       "      <th>base_sale</th>\n",
       "      <th>dt</th>\n",
       "    </tr>\n",
       "  </thead>\n",
       "  <tbody>\n",
       "    <tr>\n",
       "      <th>count</th>\n",
       "      <td>786260.000000</td>\n",
       "      <td>786260.000000</td>\n",
       "      <td>471548.000000</td>\n",
       "      <td>786260.000000</td>\n",
       "      <td>786260.000000</td>\n",
       "    </tr>\n",
       "    <tr>\n",
       "      <th>mean</th>\n",
       "      <td>89064.105357</td>\n",
       "      <td>5406.566271</td>\n",
       "      <td>0.575621</td>\n",
       "      <td>0.356883</td>\n",
       "      <td>25.129113</td>\n",
       "    </tr>\n",
       "    <tr>\n",
       "      <th>std</th>\n",
       "      <td>51386.509635</td>\n",
       "      <td>10394.947580</td>\n",
       "      <td>0.494249</td>\n",
       "      <td>0.479080</td>\n",
       "      <td>17.296781</td>\n",
       "    </tr>\n",
       "    <tr>\n",
       "      <th>min</th>\n",
       "      <td>0.000000</td>\n",
       "      <td>-30.000000</td>\n",
       "      <td>0.000000</td>\n",
       "      <td>0.000000</td>\n",
       "      <td>0.000000</td>\n",
       "    </tr>\n",
       "    <tr>\n",
       "      <th>25%</th>\n",
       "      <td>44435.500000</td>\n",
       "      <td>1499.000000</td>\n",
       "      <td>0.000000</td>\n",
       "      <td>0.000000</td>\n",
       "      <td>10.000000</td>\n",
       "    </tr>\n",
       "    <tr>\n",
       "      <th>50%</th>\n",
       "      <td>89387.500000</td>\n",
       "      <td>2999.000000</td>\n",
       "      <td>1.000000</td>\n",
       "      <td>0.000000</td>\n",
       "      <td>22.000000</td>\n",
       "    </tr>\n",
       "    <tr>\n",
       "      <th>75%</th>\n",
       "      <td>133427.000000</td>\n",
       "      <td>5599.000000</td>\n",
       "      <td>1.000000</td>\n",
       "      <td>1.000000</td>\n",
       "      <td>40.000000</td>\n",
       "    </tr>\n",
       "    <tr>\n",
       "      <th>max</th>\n",
       "      <td>178004.000000</td>\n",
       "      <td>446420.000000</td>\n",
       "      <td>1.000000</td>\n",
       "      <td>1.000000</td>\n",
       "      <td>58.000000</td>\n",
       "    </tr>\n",
       "  </tbody>\n",
       "</table>\n",
       "</div>"
      ],
      "text/plain": [
       "                  id           cost    product_sex      base_sale  \\\n",
       "count  786260.000000  786260.000000  471548.000000  786260.000000   \n",
       "mean    89064.105357    5406.566271       0.575621       0.356883   \n",
       "std     51386.509635   10394.947580       0.494249       0.479080   \n",
       "min         0.000000     -30.000000       0.000000       0.000000   \n",
       "25%     44435.500000    1499.000000       0.000000       0.000000   \n",
       "50%     89387.500000    2999.000000       1.000000       0.000000   \n",
       "75%    133427.000000    5599.000000       1.000000       1.000000   \n",
       "max    178004.000000  446420.000000       1.000000       1.000000   \n",
       "\n",
       "                  dt  \n",
       "count  786260.000000  \n",
       "mean       25.129113  \n",
       "std        17.296781  \n",
       "min         0.000000  \n",
       "25%        10.000000  \n",
       "50%        22.000000  \n",
       "75%        40.000000  \n",
       "max        58.000000  "
      ]
     },
     "execution_count": 42,
     "metadata": {},
     "output_type": "execute_result"
    }
   ],
   "source": [
    "df_purch.describe()"
   ]
  },
  {
   "cell_type": "code",
   "execution_count": 43,
   "id": "53faf160",
   "metadata": {},
   "outputs": [
    {
     "name": "stdout",
     "output_type": "stream",
     "text": [
      "<class 'pandas.core.frame.DataFrame'>\n",
      "RangeIndex: 786260 entries, 0 to 786259\n",
      "Data columns (total 7 columns):\n",
      " #   Column       Non-Null Count   Dtype  \n",
      "---  ------       --------------   -----  \n",
      " 0   id           786260 non-null  int64  \n",
      " 1   product      786260 non-null  object \n",
      " 2   colour       666736 non-null  object \n",
      " 3   cost         786260 non-null  int64  \n",
      " 4   product_sex  471548 non-null  float64\n",
      " 5   base_sale    786260 non-null  int64  \n",
      " 6   dt           786260 non-null  int64  \n",
      "dtypes: float64(1), int64(4), object(2)\n",
      "memory usage: 42.0+ MB\n"
     ]
    }
   ],
   "source": [
    "df_purch.info()"
   ]
  },
  {
   "cell_type": "code",
   "execution_count": 44,
   "id": "5f0e6c60",
   "metadata": {},
   "outputs": [],
   "source": [
    "def get_outliers(data):\n",
    "    q25 = data.quantile(0.25)\n",
    "    q75 = data.quantile(0.75)\n",
    "    iqr = q75 - q25\n",
    "    boundaries = (q25 - 1.5 * iqr, q75 + 1.5 * iqr)\n",
    "    return boundaries"
   ]
  },
  {
   "cell_type": "code",
   "execution_count": 45,
   "id": "f0b11f08",
   "metadata": {},
   "outputs": [
    {
     "data": {
      "text/plain": [
       "(-4651.0, 11749.0)"
      ]
     },
     "execution_count": 45,
     "metadata": {},
     "output_type": "execute_result"
    }
   ],
   "source": [
    "get_outliers(df_purch['cost'])"
   ]
  },
  {
   "cell_type": "code",
   "execution_count": 46,
   "id": "b7189830",
   "metadata": {},
   "outputs": [
    {
     "data": {
      "text/plain": [
       "[Text(0.5, 0, 'Стоимость'), Text(0, 0.5, 'Кол-во')]"
      ]
     },
     "execution_count": 46,
     "metadata": {},
     "output_type": "execute_result"
    },
    {
     "data": {
      "image/png": "[encoded data removed]",
      "text/plain": [
       "<Figure size 800x400 with 1 Axes>"
      ]
     },
     "metadata": {},
     "output_type": "display_data"
    }
   ],
   "source": [
    "fig,ax = plt.subplots()\n",
    "ax.set_xlim(0,11749.0)\n",
    "sns.histplot(df_purch['cost'], bins=800, color='#C92228')\n",
    "ax.set_title('Распределение стоимости покупок клиентов')\n",
    "ax.set(xlabel='Стоимость', ylabel='Кол-во')"
   ]
  },
  {
   "cell_type": "code",
   "execution_count": 47,
   "id": "d03c5ec8",
   "metadata": {},
   "outputs": [
    {
     "data": {
      "text/plain": [
       "[[Text(0, 0, 'женcкий'), Text(1, 0, 'мужской')]]"
      ]
     },
     "execution_count": 47,
     "metadata": {},
     "output_type": "execute_result"
    },
    {
     "data": {
      "image/png": "[encoded data removed]",
      "text/plain": [
       "<Figure size 800x400 with 1 Axes>"
      ]
     },
     "metadata": {},
     "output_type": "display_data"
    }
   ],
   "source": [
    "fig,ax = plt.subplots()\n",
    "sns.countplot(x = df_purch['product_sex'],palette=['#C92228',\"#005AAB\"])\n",
    "ax.set_title('Распределение купленных продуктов по полу')\n",
    "ax.set(xlabel='Пол', ylabel='Кол-во')\n",
    "ax.set(xticklabels=['женcкий', 'мужской'])"
   ]
  },
  {
   "cell_type": "code",
   "execution_count": 48,
   "id": "1e07d82c",
   "metadata": {},
   "outputs": [
    {
     "data": {
      "text/plain": [
       "0"
      ]
     },
     "execution_count": 48,
     "metadata": {},
     "output_type": "execute_result"
    }
   ],
   "source": [
    "df_purch.duplicated().sum()"
   ]
  },
  {
   "cell_type": "code",
   "execution_count": 49,
   "id": "a60b3b71",
   "metadata": {},
   "outputs": [
    {
     "data": {
      "text/plain": [
       "product_sex    40.026454\n",
       "colour         15.201587\n",
       "id              0.000000\n",
       "product         0.000000\n",
       "cost            0.000000\n",
       "base_sale       0.000000\n",
       "dt              0.000000\n",
       "dtype: float64"
      ]
     },
     "execution_count": 49,
     "metadata": {},
     "output_type": "execute_result"
    }
   ],
   "source": [
    "# Проверяем пропущенные значения\n",
    "\n",
    "((df_purch.isna().sum() / len(df_purch)) * 100).sort_values(ascending=False)"
   ]
  },
  {
   "cell_type": "code",
   "execution_count": 50,
   "id": "bbf9677f",
   "metadata": {},
   "outputs": [
    {
     "name": "stdout",
     "output_type": "stream",
     "text": [
      "id\n",
      "[     0      3      4 ... 178001 178002 178004] \n",
      "\n",
      "product\n",
      "['Велосипед горный женский Stern Mira 2.0 26\"' 'Стол Outventure'\n",
      " 'Набор Outventure: стол + 4 стула' ...\n",
      " 'Клюшка детская Bauer Vapor 3X, Flex 55, P92'\n",
      " 'Футболка мужская Reebok United By Fitness'\n",
      " 'Бутсы мужские adidas Predator 19.3 TF'] \n",
      "\n",
      "colour\n",
      "['белый/синий' 'зелёный' 'бежевый' ... 'бордовый/прозрачный/голубой'\n",
      " 'синий/голубой/золотой/желтый' 'черный/циан'] \n",
      "\n",
      "cost\n",
      "[ 13599   1499   4799 ...   5700  49899 174999] \n",
      "\n",
      "product_sex\n",
      "[ 0. nan  1.] \n",
      "\n",
      "base_sale\n",
      "[1 0] \n",
      "\n",
      "dt\n",
      "[ 7 37 13 27 34  0  1  2 32  3  8 11 17 18 29 30  6 14 33 35 36 42 49 25\n",
      " 39 55 56  4 26 28 45 51  5 15 50 52 12 16 19 21 22 23 31  9 58 41 44 57\n",
      " 47 10 54 43 38 46 53 24 40 20 48] \n",
      "\n"
     ]
    }
   ],
   "source": [
    "# Проверяем уникальные значения признаков в датафрейме\n",
    "\n",
    "for column in df_purch.columns:\n",
    "    print(column)\n",
    "    print(df_purch[column].unique(), '\\n')"
   ]
  },
  {
   "cell_type": "code",
   "execution_count": 51,
   "id": "e159c238",
   "metadata": {},
   "outputs": [
    {
     "data": {
      "text/plain": [
       "['Стол Outventure',\n",
       " 'Набор Outventure: стол + 4 стула',\n",
       " 'Мяч футбольный PUMA TEAMFINAL 21.2 FIFA QUALITY PRO',\n",
       " 'Роликовые коньки детские Roces Orlando III',\n",
       " 'Шлем FILA NRK FUN',\n",
       " 'Роликовые коньки детские Roces Yuma TIF',\n",
       " 'Набор защиты из 3-х предметов детский Reaction Rainbow',\n",
       " 'Шлем для девочек Reaction Urban',\n",
       " 'Роликовые коньки детские раздвижные Reaction Rainbow',\n",
       " 'Куртка утепленная для девочек Outventure',\n",
       " 'Кроссовки для мальчиков Geox J Sprintye Boy',\n",
       " 'Бейсболка детская Nike Futura Mash Up',\n",
       " 'Носки детские Demix, 2 пары',\n",
       " 'Ботинки утепленные для мальчиков Reima Uskallus',\n",
       " 'Кроссовки утепленные для мальчиков Skechers Razor Flex',\n",
       " 'Бутсы для мальчиков PUMA ULTRA PLAY TT JR',\n",
       " 'Гетры Nike Academy Over-The-Calf Football Socks',\n",
       " 'Бутсы для мальчиков Nike Jr. Tiempo Legend 9 Academy TF',\n",
       " 'Футболка для мальчиков Nike Dri-FIT Kylian Mbappe',\n",
       " 'Бутсы для мальчиков PUMA Rapido III It Jr',\n",
       " 'Лестница координационная Demix',\n",
       " 'Дорожка координационная Demix',\n",
       " 'Электросамокат Ninebot KickScooter F20A, черный',\n",
       " 'Кроссовки для девочек GSD Hit V',\n",
       " 'Рюкзак детский Demix',\n",
       " 'Велосипед горный Stern Energy 2.0 27,5\"',\n",
       " 'Насос для мяча Demix',\n",
       " 'Мяч футбольный Nike Flight',\n",
       " 'Ворота футбольные Demix, 120 x 80 x 60 см',\n",
       " 'Палатка 2-местная Jack Wolfskin Lighthouse II RT',\n",
       " 'Спальный мешок Mountain Hardwear Phantom -12 левосторонний',\n",
       " 'Массажный мяч Demix',\n",
       " 'Велосипед горный Denton Storm 3.0 26\"',\n",
       " 'Ремонтный комплект Bestway',\n",
       " 'Лодка надувная Bestway Neva III',\n",
       " 'Сменный клапан для матраса Bestway',\n",
       " 'Палатка 2-местная Outventure Dome 2',\n",
       " 'Рюкзак FILA',\n",
       " 'Бутсы для мальчиков PUMA Ultra 3.4 TT JR',\n",
       " 'Фишки для разметки поля Demix, 10 шт.',\n",
       " 'Покрышка Stern Ctyre 5\\\\20 20 х 1.75',\n",
       " 'Шапка Columbia City Trek™ Heavyweight Beanie',\n",
       " 'Мяч баскетбольный Demix Triple Double 7',\n",
       " 'Панама Termit',\n",
       " 'Велосипед для девочек Stern Fantasy 14 14\", 2022',\n",
       " 'Набор крыльев Stern, 20-24\"',\n",
       " 'Велосипед горный Stern Energy 1.0 26\"',\n",
       " 'Подножка Stern CKS-1',\n",
       " 'Комплект: велосипед горный Stern Energy 1.0 26\" с аксессуарами',\n",
       " 'Кеды для девочек PUMA Cali Star Re:Collection PS',\n",
       " 'Кроссовки для девочек Demix Like',\n",
       " 'Спортивный костюм для девочек Demix',\n",
       " 'Кеды детские PUMA Courtflex V2 V PS',\n",
       " 'Велосипед городской унисекс для подростков KAMA 20\"',\n",
       " 'Мяч для отработки удара Everlast Powerlock Reflex Ball',\n",
       " 'Чехлы для лезвий коньков Nordway',\n",
       " 'Сандалии для девочек Northland Stern',\n",
       " 'Носки, 3 пары, Columbia Flat Knit Quarter',\n",
       " 'Носки Demix, 3 пары',\n",
       " 'Шорты для мальчиков Nike Kids Short Dri-FIT Laser V',\n",
       " 'Сабо Crocs Crocband',\n",
       " 'Палатка 3-местная Marmot Tungsten UL 3P',\n",
       " 'Палатка 3-местная Outventure Cadaques 3 Alternative',\n",
       " 'Куртка для мальчиков Outventure',\n",
       " 'Гель энергетический углеводный SIS Science In Sport \"Фруктовый салат\", 60 мл',\n",
       " 'Коврик надувной Northland, 180 см',\n",
       " 'Перчатки велосипедные Cyclotech PILOT',\n",
       " 'Сумка на пояс Demix',\n",
       " 'Теннисный стол всепогодный Torneo',\n",
       " 'Сандалии для девочек Northland Romb',\n",
       " 'Кроссовки для девочек Demix Sprint V',\n",
       " 'Кеды для мальчиков Demix Bank',\n",
       " 'Кроссовки для мальчиков Demix Flicker',\n",
       " 'Жилет утяжеленный Demix',\n",
       " 'Подшипник Reaction АВЕС 5',\n",
       " 'Скейтборд Element Magma Seal 8\"',\n",
       " 'Колеса для круизера Street Surfing, 4 шт., А83, 60 мм',\n",
       " 'Сумка для скейтборда Termit',\n",
       " 'Колесо для круизера Termit, 60 мм',\n",
       " 'Набор подшипников Element АВЕС 7, 8 шт.',\n",
       " 'Круизер Element Hatched Cruise 8.75\"',\n",
       " 'Носки, 2 пары, Columbia Invisible Columbia footbed logo',\n",
       " 'Носки FILA, 3 пары',\n",
       " 'Крепление на велосипед Topeak Versacage',\n",
       " 'Кроссовки для мальчиков Nike Air Max 90 Ltr Gs',\n",
       " 'Кроссовки для мальчиков Nike Flex Runner',\n",
       " 'Спортивный топ бра Kappa',\n",
       " 'Мешок для мокрых вещей Joss',\n",
       " 'Спортивный топ бра Demix',\n",
       " 'Мяч для большого тенниса Head 4B Tour',\n",
       " 'Кроссовки Mizuno Break Shot 2 Ac',\n",
       " 'Рюкзак Wilson RF TEAM',\n",
       " 'Брюки для мальчиков FILA',\n",
       " 'Грипсы Bontrager XR Trail Elite',\n",
       " 'Набор мячей для большого тенниса Babolat Team All Court X3',\n",
       " 'Бутсы для мальчиков adidas Copa Sense.3 FG J',\n",
       " 'Фонарь кемпинговый Outventure',\n",
       " 'Коврик самонадувающийся Northland, 195 см',\n",
       " 'Спиннинг телескопический стеклопластиковый к/с Fish 2 Fish Rapid (10-40) 1,8 м',\n",
       " 'Леска плетеная Pontoon21 Exteer New Generation',\n",
       " 'Матрас надувной Intex 184х67х17 см',\n",
       " 'Бутсы для мальчиков Demix Exponenta Enrblast JR FG',\n",
       " 'Матрас надувной Intex 193х127х24 см',\n",
       " 'Солнцезащитные очки Uvex Sportstyle 204',\n",
       " 'Толстовка для мальчиков Demix',\n",
       " 'Спальный мешок Outventure Comfort +20 правосторонний',\n",
       " 'Сандалии для девочек Crocs Crocband II Sandal PS',\n",
       " 'Сандалии для мальчиков Columbia Youth Techsun Vent',\n",
       " 'Нож Outventure',\n",
       " 'Рюкзак Outventure Creek 80',\n",
       " 'Носки Wilson, 2 пары',\n",
       " 'Рюкзак Northland Humper 90 л',\n",
       " 'Слипоны для девочек GSD Start',\n",
       " 'Кроссовки для девочек Demix Atom Jr G',\n",
       " 'Носки детские Wilson, 2 пары',\n",
       " 'Кеды для девочек adidas Advantage Frozen CF C',\n",
       " 'Слипоны для девочек Skechers Beautiful Planet',\n",
       " 'Рюкзак Demix',\n",
       " 'Бейсболка FILA',\n",
       " 'Сумка FILA',\n",
       " 'Панама Demix',\n",
       " 'Кеды для девочек FILA G1000 Strap',\n",
       " 'Сумка Demix',\n",
       " 'Бутсы для зала для мальчиков GSD Astro Jr',\n",
       " 'Борцовки для мальчиков Demix BUIVASSAR JR',\n",
       " 'Сандалии детские Merrell Kahuna Web',\n",
       " 'Кроссовки для мальчиков PUMA R78 Jr',\n",
       " 'Гейтор Northland',\n",
       " 'Теннисный стол для помещений START LINE Olympic',\n",
       " 'Палки треккинговые Outventure',\n",
       " 'Палатка 3-местная Outventure Tahoe 3 Camo',\n",
       " 'Тент Alexika TARP 5M X 4M',\n",
       " 'Палатка 6-местная Outventure Dalen 6',\n",
       " 'Полуботинки для мальчиков Outventure Breeze',\n",
       " 'Кеды для мальчиков FILA A-Low',\n",
       " 'Электросамокат Ninebot C20',\n",
       " 'Коврик Outventure',\n",
       " 'Тент Outventure',\n",
       " 'Кресло кемпинговое Outventure',\n",
       " 'Шорты для мальчиков Demix',\n",
       " 'Кроссовки для мальчиков FILA Forti',\n",
       " 'Футболка для мальчиков PUMA ESS Logo',\n",
       " 'Кеды для мальчиков FILA G1000 Strap',\n",
       " 'Мяч футбольный Demix',\n",
       " 'Игла для накачивания мячей (3 шт.) Demix',\n",
       " \"SUP Easy Rider WAVE 10'6 Haki\",\n",
       " 'Диск здоровья Demix',\n",
       " 'Балансировочная платформа KETTLER',\n",
       " 'Мини-степпер Torneo Twister S-211',\n",
       " 'Носки Termit, 2 пары',\n",
       " 'Бутсы для мальчиков Demix Quantum 3 JR TF',\n",
       " 'Повязка Head',\n",
       " 'Мяч футбольный Nike NK Pitch Team - SP21',\n",
       " 'Костюм для девочек adidas 3S',\n",
       " 'Сумка на велосипед Cyclotech CYC-22BL',\n",
       " 'Мультиключ Cyclotech, 10 функций CT-10',\n",
       " 'Флягодержатель Stern CBH-2',\n",
       " 'Звонок велосипедный Stern CR-1',\n",
       " 'Палатка 4-местная Outventure Ottawa 4',\n",
       " 'Подножка Stern CKS-2',\n",
       " 'Электросамокат HIPER Model A2 Black',\n",
       " 'Сандалии детские Crocs Crocband Sandal Kids',\n",
       " 'Сабо детские Crocs Ralen Clog K',\n",
       " 'Перчатки боксерские Green Hill Hamed',\n",
       " 'Перчатки боксерские детские Green Hill Hamed',\n",
       " 'Полуботинки для мальчиков Toread',\n",
       " 'Джемпер флисовый для мальчиков FILA',\n",
       " 'Мяч для пляжного волейбола Demix',\n",
       " 'Игра \"Йо-йо\"',\n",
       " 'Носки неопреновые Joss, 3 мм',\n",
       " 'Ботинки неопреновые Joss, 3 мм',\n",
       " 'Гермосумка Germostar, 3 л',\n",
       " 'Ракетка для большого тенниса Torneo 27\"',\n",
       " 'Ботинки утепленные для девочек Outventure Track Fur 2 G',\n",
       " 'Сапоги утепленные для девочек FILA Jaden Puff G',\n",
       " 'Трико для борьбы ASICS WRESTLING SUIT',\n",
       " 'Носки Wilson Crew, 2 пары',\n",
       " 'Спортивный топ бра Nike Swoosh UltraBreathe',\n",
       " 'Набор колес для роликов Reaction 80 мм, 82А, 4 шт',\n",
       " 'Роликовые коньки FILA Legacy Pro 80',\n",
       " 'Перчатки PUMA Field',\n",
       " 'Бутылка для воды Nike Accessories',\n",
       " 'Кроссовки детские Nike Jordan 11Cmft Low Gs',\n",
       " 'Электросамокат HIPER Slim VX561 Black',\n",
       " 'Дезодорант для обуви Feet-n-Fit',\n",
       " 'Самокат Reaction Stunt 5.0, 120 мм',\n",
       " 'Панама детская New Era Neon',\n",
       " 'Самокат Reaction Stunt 3.0, 110 мм',\n",
       " 'Солнцезащитные очки Kappa',\n",
       " 'Кроссовки для мальчиков Demix First',\n",
       " 'Велосипед городской Stern Q-stom Classic 28\", 2022',\n",
       " 'Носки Kappa, 1 пары',\n",
       " 'Украшение для обуви Crocs Jibbitz Moscow',\n",
       " 'Гантель наборная Torneo, 10 кг',\n",
       " 'Комплект наборных гантелей 20 кг Torneo',\n",
       " 'Дорожка для ходьбы KETTLER Smart W1',\n",
       " 'Беговая дорожка Torneo Massage T-151',\n",
       " 'Беговая дорожка Torneo Nota T-310',\n",
       " 'Кроссовки для девочек Skechers Retrospect',\n",
       " 'Слипоны для мальчиков Skechers Go Run Fast',\n",
       " 'Бейсболка детская Outventure',\n",
       " 'Бейсболка для мальчиков Demix',\n",
       " 'Бандана для девочек Outventure',\n",
       " 'Слипоны детские Skechers Bounder',\n",
       " 'Худи FILA',\n",
       " 'Кроссовки для мальчиков FILA Evan SL',\n",
       " 'Носки Skechers, 1 пара',\n",
       " 'Сумка Head Tour Team 6R Combi',\n",
       " 'Козырек CEP',\n",
       " 'Гермосумка Germostar, 2 л',\n",
       " 'Ракетка для большого тенниса Head Gravity Tour 2023 27\"',\n",
       " 'Рюкзак детский Babolat BP CLASSSIC JUNIOR BOY',\n",
       " 'Кроссовки для девочек GSD Simple G',\n",
       " 'Повязки Head Headband',\n",
       " 'Полотенце абсорбирующее Outventure, 120 х 60 см',\n",
       " 'Бейсболка Columbia Mesh Snap Back - High',\n",
       " 'Полотенце абсорбирующее Joss, 140 х 70 см',\n",
       " 'Шапочка для плавания Joss',\n",
       " 'Набор для Дартс Torneo (Мишень + 6 дротиков)',\n",
       " 'Бейсболка Columbia Tech Trail 110 Snap Back',\n",
       " 'Гермомешок Tatonka Dry Sack, 18 л',\n",
       " 'Бейсболка Outventure',\n",
       " 'Сумка Kappa',\n",
       " 'Велосипед горный Stern Energy 1.0 26\", 2022',\n",
       " 'Велосипед горный Denton Storm 29\"',\n",
       " 'Бейсболка Demix',\n",
       " 'Набор велосипедных крыльев Stern 24-26\"',\n",
       " 'Замок велосипедный кодовый Cyclotech CLK-3',\n",
       " 'Мячи для настольного тенниса Torneo, 6 шт.',\n",
       " 'Мультиключ Cyclotech CT-10',\n",
       " 'Магнезия Kinexib',\n",
       " 'Набор велосипедных крыльев Stern CMS-5',\n",
       " 'Сандалии для мальчиков Merrell Panther Sandal 2.0',\n",
       " 'Шапка Northland',\n",
       " 'Рюкзак Outventure Creek 45',\n",
       " 'Рюкзак Outventure Creek 65',\n",
       " 'Звонок велосипедный Stern CR-2',\n",
       " 'Мяч баскетбольный Demix Buzzer 5',\n",
       " 'Велосипед для мальчиков Stern Attack 1.0 24\", 2022',\n",
       " 'Тент Outventure Royal House',\n",
       " 'Ветровка для девочек Outventure',\n",
       " 'Туфли для девочек Demix Sweet',\n",
       " 'Набор посуды Northland',\n",
       " 'Коврик для фитнеса Demix',\n",
       " 'Термос для еды Outventure 500 мл',\n",
       " 'Палатка 2-местная Outventure Teslin 2',\n",
       " 'Суппорты Унисекс взрослые MEDI GENUMEDI E+motion',\n",
       " 'Набор колес для роликов Reaction 80 мм, 82А, 4 шт.',\n",
       " 'Солнцезащитные очки Uvex Sportstyle 114 серый/красный',\n",
       " 'Панама Columbia Pine Mountain Bucket Hat',\n",
       " 'Солнцезащитные очки Uvex Sportstyle 114',\n",
       " 'Солнцезащитные очки Uvex Sportstyle 215 белый',\n",
       " 'Велосипед горный Stern Energy 2.0 27.5\", 2021',\n",
       " 'Солнцезащитные очки Uvex Sportstyle 215',\n",
       " 'Ботинки Caterpillar Scout Mid',\n",
       " 'Велосипед горный Stern Energy 2.0 Sport 27,5\", 2022',\n",
       " 'Велосипед горный Trek Marlin 5 29\", 2021',\n",
       " 'Комплект: велосипед горный Stern Energy 2.0 27,5\" с аксессуарами',\n",
       " 'Флягодержатель Stern CBH-1',\n",
       " 'Подножка для велосипеда Stern CKS-3 20–26\"',\n",
       " 'Шлепанцы PUMA Shibui Cat',\n",
       " 'Маска Uvex Athletic FM',\n",
       " 'Кроссовки для мальчиков Safety Jogger Casual Athletic Sport',\n",
       " 'Бутсы для мальчиков Demix Quantum 3 Jr In',\n",
       " 'Кеды для мальчиков FILA Fil',\n",
       " 'Майка для беременных Demix',\n",
       " 'Спортивный топ бра Reebok United By Fitness',\n",
       " 'Сабо Crocs Classic All Terrain Camo Clog',\n",
       " 'Куртка для сплава Germostar Suho',\n",
       " 'Солнцезащитные очки Demix',\n",
       " 'Электросамокат Ninebot KICKSCOOTER A6',\n",
       " 'Коврик для йоги Demix',\n",
       " 'Полуботинки для мальчиков Northland Moose',\n",
       " 'Сумка для самоката Reaction (диаметр колес 100-170 мм.) 2019',\n",
       " 'Круизер Termit 33\" Cruiser',\n",
       " 'Рюкзак Northland Multi 27 л',\n",
       " 'Рюкзак Northland Vibe 30 л',\n",
       " 'Защита колена Demix',\n",
       " 'Носки Wilson Premium, 2 пары',\n",
       " 'Мини-круизер\\xa0Street Runner 22.5\"',\n",
       " 'Гольфы X-Socks, 1 пара',\n",
       " 'Фитнес-браслет Xiaomi Smart Band 7 Pro GL (Black) (BHR5970GL)',\n",
       " 'Кровать-раскладушка Outventure',\n",
       " 'Кресло кемпинговое Northland Nl New Chair 2',\n",
       " 'Спальный мешок Northland Hypnos +4 правосторонний',\n",
       " 'Кроссовки детские Nike Md Valiant (Gs)',\n",
       " 'Протеин cывороточный Rline Вей коктейль, пломбир, 1000 г',\n",
       " 'Ракетка для большого тенниса Wilson Blade Feel Team 103 TNS RKT 3 27\"',\n",
       " 'Палатка 2-местная Outventure Monodome 2',\n",
       " 'Чайник Fire-Maple Feast Xt1',\n",
       " 'Сумка для пикника Outventure на 4 человека',\n",
       " 'Газовый баллон Следопыт 230 гр.',\n",
       " 'Носки Demix, 1 пара',\n",
       " 'Спальный мешок Outventure Oregon T +15',\n",
       " 'Полуботинки для мальчиков Northland Stein B',\n",
       " 'Рюкзак-жилет Salomon Active Skin 4 Set',\n",
       " 'Матраc самонадувающийся VauDe Dream 10 L',\n",
       " 'Коврик надувной VauDe Perfomance Winter 7 M',\n",
       " 'Рюкзак Tatonka DUNN 70+10 л',\n",
       " 'Крепления для горных лыж Marker Griffon 13 ID; 120 mm',\n",
       " 'Спальный мешок Mountain Hardwear Lamina 15F/-9C левосторонний',\n",
       " 'Палатка 3-местная Northland Alpine 3',\n",
       " 'Ракетка для большого тенниса Head Speed TEAM 2022 27\"',\n",
       " 'Скамья для пресса Torneo G-130',\n",
       " 'Стойки для штанги к скамье Torneo Alta G-325',\n",
       " 'Тренажер универсальный Torneo Rabbit G-124',\n",
       " 'Носки Nike Multiplier, 2 пары',\n",
       " 'Спортивный бра FILA',\n",
       " 'Сандалии для девочек Northland Wanz',\n",
       " 'Сапоги утепленные для девочек Outventure Arctic',\n",
       " 'Пальто утепленное для девочек Reima Siemaus',\n",
       " 'Ботинки утепленные для мальчиков Reima Laplander',\n",
       " 'Кроссовки для девочек Demix First',\n",
       " 'Худи для девочек Demix',\n",
       " 'Куртка для девочек Outventure',\n",
       " 'Бутсы для мальчиков Demix Goal 2 JR FG',\n",
       " 'Солнцезащитные очки Invu',\n",
       " 'Футболка для мальчиков FILA',\n",
       " 'Шапка для девочек FILA',\n",
       " 'Полуботинки для мальчиков Outventure DuSTer Mesh B',\n",
       " 'Заднее колесо Stern 26\"',\n",
       " 'Втулка задняя Shimano Alivio FH-MC-18, 32 спицы',\n",
       " 'Втулка задняя Shimano Acera FH-RM308, 32 спицы',\n",
       " 'Миска Outventure 16 см',\n",
       " 'Втулка задняя Shimano Acera FH-RM308, 36 спиц',\n",
       " 'Комплект монтажек Stern CT-LEV1',\n",
       " 'Тормозные ручки Stern Power VBL-288P',\n",
       " 'Система шатунов Stern Prowheel MA-AC49',\n",
       " 'Втулка задняя Shimano Altus FH-RM608, 32 спицы',\n",
       " 'Крыло заднее Stern 20-29\"',\n",
       " 'Втулка задняя Shimano Acera FH-RM307, 36 спиц',\n",
       " 'Цепь велосипедная Stern 410-DTO, 1/2\"*1/8\" L 74 мм',\n",
       " 'Рюкзак CAMEL',\n",
       " 'Рюкзак Skechers',\n",
       " 'Гель для стирки пуховиков, курток из пуха и подушек Salton CleanTech, 250 мл',\n",
       " 'Кроссовки для девочек Nike MD Valiant BG',\n",
       " 'Полуботинки для девочек Merrell Hut Moc 2.0',\n",
       " 'Сабо детские Skechers Zaggle',\n",
       " 'Брюки для девочек Kappa',\n",
       " 'Шлепанцы детские Joss Garden Shoes 2',\n",
       " 'Кошелек Tatonka Neck Wallet',\n",
       " 'Костюм спортивный для мальчиков PUMA Baseball Poly',\n",
       " 'Бейсболка PUMA Ess',\n",
       " 'Перчатки Nike HyperWarm Academy',\n",
       " 'Сумка Nike Tech',\n",
       " 'Свитшот FILA',\n",
       " 'Шлепанцы для девочек Joss G-Sand',\n",
       " 'Купальник для девочек Joss',\n",
       " 'Сандалии для мальчиков Outventure Freeway',\n",
       " 'Шорты для мальчиков Demix Strike',\n",
       " 'Сандалии для мальчиков Merrell Hydro Quench',\n",
       " 'Щитки футбольные Demix',\n",
       " 'Перчатки вратарские Demix',\n",
       " 'Бутсы для мальчиков adidas Predator Freak .3 Fg J',\n",
       " 'Спальный мешок Northland Hypnos -4 правосторонний',\n",
       " 'Рюкзак Outventure Voyager 15',\n",
       " 'Ролик массажный Demix',\n",
       " 'Велосипед горный Denton Storm 2.0 26\"',\n",
       " 'Рюкзак Outventure',\n",
       " 'Брюки для мальчиков Outventure',\n",
       " 'Мяч футбольный Demix Street',\n",
       " 'Сандалии для мальчиков Camel',\n",
       " 'Кроссовки детские GSD One Jr',\n",
       " 'Велосипед для мальчиков Stern Force 20\"',\n",
       " 'Бриджи для мальчиков Outventure',\n",
       " 'Футболка для мальчиков Demix',\n",
       " 'Майка для мальчиков Demix',\n",
       " 'Перчатки неопреновые Joss, 2 мм',\n",
       " 'Влажные салфетки для обуви Reloa',\n",
       " 'Самокат детский Reaction, 145 мм',\n",
       " 'Велосипед Stark\\'23 Cobra 29.2 D, 29\"',\n",
       " 'Велосипед городской Stern Q-stom Sport 28\", 2022',\n",
       " 'Передний переключатель Shimano Deore FD-M511',\n",
       " 'Сумка на пояс Nike Heritage',\n",
       " 'Легинсы для девочек FILA',\n",
       " 'Шорты для мальчиков Kappa',\n",
       " 'Бутылка для воды KETTLER 0,7 л',\n",
       " 'Фляжка Outventure, 0,7 л, 2021',\n",
       " 'Эспандер кистевой Torneo, 65 кг',\n",
       " 'Термокружка Northland 400 мл',\n",
       " 'Бутылка для воды Stern CBOT-7, 500 мл',\n",
       " 'Фляжка Outventure, 0.5 л',\n",
       " 'Шорты для девочек Outventure',\n",
       " 'Сидушка пенная Outventure',\n",
       " 'Пряжка Outventure',\n",
       " 'Рюкзак Northland Humper 75 л',\n",
       " 'Спальный мешок Northland Down 0',\n",
       " 'Спальный мешок Northland Hypnos +10 правосторонний',\n",
       " 'Сороконожки Joma AGUILA',\n",
       " 'Коньки хоккейные Nordway NDW G100 SR',\n",
       " 'Напульсники Nike Swoosh',\n",
       " 'Спортивный топ бра Nike Dri-FIT Swoosh',\n",
       " 'Сумка Reebok',\n",
       " 'Сумка Ellesse',\n",
       " 'Сумка PUMA Academy Portable',\n",
       " 'Мяч баскетбольный Wilson JR NBA Authentic Indoor Outdoor',\n",
       " 'Мяч баскетбольный Li-Ning FIBA',\n",
       " 'Мяч баскетбольный Li-Ning',\n",
       " 'Велосипед горный Trek Marlin 6 29\", 2021',\n",
       " 'Джерси\\xa0Fischer',\n",
       " 'Рюкзак Kappa',\n",
       " 'Кроссовки для мальчиков Demix Magus 3.0 B',\n",
       " 'Кеды для девочек FILA Fil High',\n",
       " 'Кеды для девочек PUMA Smash v2 L V PS',\n",
       " 'Шорты для девочек Termit',\n",
       " 'Шлепанцы детские Joss Lagoon B',\n",
       " 'Сабо детские Crocs Classic Clog K',\n",
       " 'Футболка для девочек Nike',\n",
       " 'Сандалии детские Outventure Sunny',\n",
       " 'Бутсы для мальчиков PUMA Rapido III TT Jr',\n",
       " 'Велосипед для мальчиков Stern Action Alt 24\"',\n",
       " 'Палатка 4-местная Outventure Twin Sky 4',\n",
       " 'Гетры детские Demix',\n",
       " 'Носки Demix, 2 пары',\n",
       " 'Носки детские FILA, 2 пары',\n",
       " 'Солнцезащитные очки Uvex Sportstyle 218',\n",
       " 'Перчатки Columbia Spruce Grove Glove',\n",
       " 'Подушка кемпинговая Outventure',\n",
       " 'Коврик самонадувающийся Alexika TRAVEL 66',\n",
       " 'Рюкзак Tatonka Bison 75+10 л',\n",
       " 'Рюкзак Tatonka Bison 120+15 л',\n",
       " 'Станок Tatonka LASTENKRAXE',\n",
       " 'Сандалии для девочек Outventure Sunny 2',\n",
       " 'Тапочки коралловые Joss Aquamarine',\n",
       " 'Велосипед горный Stern Energy 2.0 Alt 27.5\", 2022',\n",
       " 'Велосипед горный Stern Motion 1.0 27,5\", 2022',\n",
       " 'Худи для мальчиков Demix',\n",
       " 'Футболка для мальчиков Termit',\n",
       " 'Брюки для мальчиков Demix',\n",
       " 'Сандалии для мальчиков Northland Wind',\n",
       " 'Балетки для девочек Demix Sweet 2',\n",
       " 'Сабо детские Crocs Crocband II Kids',\n",
       " 'Набор столовых приборов Northland',\n",
       " 'Вилка Пчёлка',\n",
       " 'Велосипед Stark\\'22 Tactic FS 29.5 HD, 29\"',\n",
       " 'Велосипед шоссейный Trek Emonda Alr 5 Disc 700C, 2021',\n",
       " 'Настенный крюк-держатель для велосипеда Cyclotech 03 CBWH-2',\n",
       " 'Ботинки утепленные Salomon Quest Winter TS CSWP',\n",
       " 'Велосипед шоссейный унисекс для взрослых FORMAT 2322 700C',\n",
       " 'Нож Morakniv Floating Serrated Knife, нержавеющая сталь, пробковая ручка,, 13131',\n",
       " 'Велосипед шоссейный Polygon Strattos S5 Disc 700С',\n",
       " 'Доска SUP надувная комплект 23 TAHE SUP-YAK BEACH PACK KAYAK 10’6x34х6 (с веслом, сиденьем, упором для ног)',\n",
       " 'Рюкзак Northland Multi 18 л',\n",
       " 'Шлепанцы для девочек Joss Garden Shoes',\n",
       " 'Полуботинки Caterpillar Ventura',\n",
       " 'Джемпер флисовый для девочек Outventure',\n",
       " 'Бра для тренинга\\xa0ANTA PROFESSIONAL SPORT',\n",
       " 'Палки треккинговые Northland',\n",
       " 'Панама Northland',\n",
       " 'Рюкзак Northland Camino, 60 л',\n",
       " 'Палатка 3-местная Outventure Dome 3',\n",
       " 'Рюкзак Northland',\n",
       " 'Стол Northland Nl',\n",
       " 'Очки для плавания Speedo',\n",
       " 'Замок велосипедный кодовый ABUS Steel-O-Chain',\n",
       " 'Велосипед горный Giant Talon 4 27.5\"',\n",
       " 'Седло для велосипеда Bontrager Boulevard',\n",
       " 'Бутсы для мальчиков adidas Copa Sense.4 Flexible',\n",
       " 'Бутсы для мальчиков Demix Quantum.3 Jr Fg',\n",
       " 'Толстовка для мальчиков Kappa',\n",
       " 'Куртка для мальчиков Northland',\n",
       " 'Худи для мальчиков PUMA Classics Logo',\n",
       " 'Спортивный костюм для мальчиков PUMA',\n",
       " 'Куртка утепленная для мальчиков Northland',\n",
       " 'Ветровка для мальчиков Outventure',\n",
       " 'Куртка утепленная для мальчиков Outventure',\n",
       " 'Спортивный костюм для мальчиков FILA',\n",
       " 'Мешок для мокрых вещей FILA',\n",
       " 'Кроссовки для мальчиков Demix Lider',\n",
       " 'Кроссовки для мальчиков GSD Want',\n",
       " 'Стул-рюкзак Tatonka FISCHERSTUHL',\n",
       " 'Велосипедки для девочек Kappa',\n",
       " 'Шорты для девочек PUMA Runtrain',\n",
       " 'Спальный мешок Outventure Soft Light +20 левосторонний',\n",
       " 'Брюки Termit',\n",
       " 'Сумка на пояс Nike',\n",
       " 'Мяч баскетбольный Demix 3х3',\n",
       " 'Худи для мальчиков Kappa',\n",
       " 'Джемпер флисовый для мальчиков Glissade',\n",
       " 'Гантель Demix 1 кг с неопреновым покрытием',\n",
       " 'Мультиключ Cyclotech CT-6',\n",
       " 'Фляжка Stern CBOT-2, 750 мл',\n",
       " 'Набор для Дартс One80 Merit (Мишень + 6 дротиков)',\n",
       " 'Велосипед горный Denton Storm 1.0 26\"',\n",
       " 'Бейсболка Everlast 1910',\n",
       " 'SUP надувной Adventum 10.4',\n",
       " 'Стул Tarifa',\n",
       " 'SUP надувной Greenhouse, 335х83х15см черный,',\n",
       " 'Бейсболка IcePeak Hamer',\n",
       " 'Купальник для девочки Joss',\n",
       " 'Электросамокат Ninebot KickScooter C8, серый',\n",
       " 'Набор мячей для большого тенниса Wilson US Open XD TBall, 3 шт',\n",
       " 'Стрессбол Wilson NBA Dribbler Bskt Version',\n",
       " 'Повязка FILA',\n",
       " 'Сумка на велосипед Cyclotech CYC-20',\n",
       " 'Газовая горелка Fire-Maple Polaris',\n",
       " 'Кухня мобильная Outventure',\n",
       " 'Аэрозоль от всех кровососущих насекомых и клещей Insectoff',\n",
       " 'Одеяло фольгированное Outventure',\n",
       " 'Гамаши Northland',\n",
       " 'Спортивный топ бра Reebok',\n",
       " 'Рюкзак велосипедный Cyclotech 01 CYC-10N, 10 л',\n",
       " 'Кроссовки для девочек FILA Rocket',\n",
       " 'Кроссовки для мальчиков GSD Beat B',\n",
       " 'Кроссовки детские Nike Star Runner 2 (Psv)',\n",
       " 'Игра \"Воздушный змей\" Torneo',\n",
       " 'Подушка надувная Outventure',\n",
       " 'Бутсы для мальчиков PUMA Ultra 4.4 FG/AG Jr',\n",
       " 'Мяч футбольный Puma Laliga 1 Accelerate Hyb',\n",
       " 'Мяч футбольный PUMA Orbita 5 Hyb',\n",
       " 'Бейсболка Kappa',\n",
       " 'Велосипед городской Stern Urban 2.0 28\", 2021',\n",
       " 'Чехлы для обуви Timson',\n",
       " 'Стельки Feet-n-Fit Sport Multi Comfort',\n",
       " 'Велосипед горный Trek Marlin 6 29\"',\n",
       " 'Бутсы для мальчиков Demix Goal 2 JR IN',\n",
       " 'Футболка для мальчиков GSD',\n",
       " 'Кеды детские Erke',\n",
       " 'Кроссовки детские Erke',\n",
       " 'Женский купальник спортивный Mad Wave WAVE',\n",
       " 'Мини-степпер Torneo Ritmo S-112',\n",
       " 'Кроссовки для девочек adidas Fortarun Daisy EL K',\n",
       " 'Джемпер футбольный для мальчиков Nike Academy 18',\n",
       " 'Футболка для мальчиков PUMA Liga Baselayer',\n",
       " 'Спортивный тейп Kinexib Sport, 9,1 м',\n",
       " 'Гриф стальной 30х1200 мм Torneo',\n",
       " 'Кеды детские Nike Air Jordan 1 Low (Gs)',\n",
       " 'Кроссовки для мальчиков Li-Ning Young Basketball',\n",
       " 'Рюкзак Northland Jester 30 л',\n",
       " 'Палатка 3-местная Northland Cove 3',\n",
       " 'Веревки-растяжки Outventure 2 х 100 см',\n",
       " 'Полуботинки Caterpillar Decisive',\n",
       " 'Рюкзак-жилет Salomon Agile 12 Set',\n",
       " 'Рюкзак Salomon Agile 12 Set',\n",
       " 'Рюкзак Salomon Trailblazer 30',\n",
       " 'Носки детские Demix, 3 пары',\n",
       " 'Очки для плавания Joss',\n",
       " 'Футболка для девочек FILA',\n",
       " 'Палатка 4-местная Bask Bonzer 4',\n",
       " 'Палатка 3-местная Bask Bonzer 3',\n",
       " 'Тент Alexika TARP 3M X 3,2M',\n",
       " 'Кольцо баскетбольное с сеткой Demix',\n",
       " 'Футбольные ворота Demix, 120 x 80 x 60 см',\n",
       " 'Ракетка для настольного тенниса BUTTERFLY Timo Boll Platin',\n",
       " 'Мобильная баскетбольная стойка Demix',\n",
       " 'Велосипед горный Stern Dynamic 1.0 26\"',\n",
       " 'Шапка Termit',\n",
       " 'Суппорт локтя Demix',\n",
       " 'Велосипед городской Giant Escape 2 City Disc 700C, 2022',\n",
       " 'Стельки Feet-n-Fit Massaging Gel',\n",
       " 'Смягчающая накладка на гриф Torneo',\n",
       " 'Круизер Street Surfing Кicktail 28\"',\n",
       " 'Набор защиты из 3-х предметов Reaction R200M',\n",
       " 'Гель энергетический с электролитами Арена «Клюква»',\n",
       " 'Футболка для мальчиков PUMA Power',\n",
       " 'Шорты плавательные для мальчиков Joss',\n",
       " 'Толстовка для мальчиков FILA',\n",
       " 'Шорты для мальчиков PUMA Fit Woven',\n",
       " 'Толстовка для мальчиков PUMA Power',\n",
       " 'Тент Outventure Cabin Sanitary',\n",
       " 'Обруч гимнастический Demix',\n",
       " 'Замок велосипедный с ключами Cyclotech CLK-2',\n",
       " 'Москитная сетка Outventure',\n",
       " 'Сумка для ледовых коньков Nordway Vita',\n",
       " 'Велосипед складной Denton Journey 20\"',\n",
       " 'Бейсболка Everlast 1910 Mesh',\n",
       " 'Бейсболка New Era 9Forty',\n",
       " 'Кружка Northland',\n",
       " 'Ложка складная Outventure',\n",
       " 'Юбка-шорты для девочек FILA',\n",
       " 'Набор мячей для большого тенниса Wilson TRINITI TBALL, 3 шт',\n",
       " 'Шорты для девочек FILA',\n",
       " 'Платье для девочек FILA',\n",
       " 'Гейтор Outventure',\n",
       " 'Чехол Wilson',\n",
       " 'Сандалии для девочек FILA Harper',\n",
       " 'Футболка для девочек GSD',\n",
       " 'Подушка Outventure',\n",
       " 'Велосипед для девочек Stern Leeloo 2.0 24\"',\n",
       " 'Набор крыльев Polisport Expander 55 Kids 20-24\"',\n",
       " 'Бутсы для мальчиков Demix Goal 2 JR TF',\n",
       " 'Бейсболка Protest',\n",
       " 'Налокотники Demix, 2 шт.',\n",
       " 'Наколенник Demix',\n",
       " 'Бутылка для воды KETTLER, 0.5 л',\n",
       " 'Крем солнцезащитный Outventure SPF50, 50 мл',\n",
       " 'Набор из 4 флаконов для косметики Outventure',\n",
       " 'Бейсболка Columbia Tech Shade II Ball Cap',\n",
       " 'Варежки Salomon Fast Wing Winter',\n",
       " 'Футболка для мальчиков Converse All Star',\n",
       " 'Рюкзак Cyclotech',\n",
       " 'Велосипед горный Stern Motion 1.0 27,5\"',\n",
       " 'Кеды PUMA Suede VTG The Never Worn',\n",
       " 'Кроссовки для мальчиков FILA Rocket',\n",
       " 'Велосипед складной Stern Compact 16 16\", 2022',\n",
       " 'Спальный мешок Outventure +3 правосторонний',\n",
       " 'Беговел детский Stern Kidster Magnesium 12\", 2022',\n",
       " 'Бейсболка Columbia Schooner Bank Cachalot III',\n",
       " 'Спальный мешок Kailas Journey II +7',\n",
       " 'Коврик самонадувающийся Kailas Star Moon II',\n",
       " 'Гамаши Tatonka Gaiter 420 HD',\n",
       " 'Воблер Rapala X-Light Crank Mid Runner 03/ROL/плавающий/1,8м, 3,5см, 4гр',\n",
       " 'Надувная лодка Challenger 3 set 295х137х43 см.',\n",
       " 'Лодка Hunterboat 290 Л',\n",
       " 'Солнцезащитные очки Polaroid',\n",
       " 'Газовый баллон Dayrex DR-101',\n",
       " 'Бейсболки Under Armour Blitzing Adjustable Cap',\n",
       " 'Мини-степпер Torneo Massage S-231',\n",
       " 'Набор велосипедных крыльев Stern 26-29\"',\n",
       " 'Брюки FILA',\n",
       " 'Самокат Roces, 145 мм',\n",
       " 'Шорты плавательные для мальчиков FILA',\n",
       " 'Футболка для мальчиков Outventure',\n",
       " 'Кроссовки для девочек Skechers Flex Blast',\n",
       " 'Звонок велосипедный Stern CR-4',\n",
       " 'Набор габаритных велосипедных фонарей Cyclotech CFL-4/CRL-3',\n",
       " 'Защита заднего переключателя Stern CDC-1',\n",
       " 'Заднее колесо Stern 20\"',\n",
       " 'Защита заднего переключателя Stern CDC-3',\n",
       " 'Фонарь велосипедный передний Cyclotech QL-233',\n",
       " 'Велосипед подростковый Trek PRECALIBER 24 7SP BOYS',\n",
       " 'Фляжка Salomon Soft Flask, 150 мл',\n",
       " 'Палатка 3-местная Outventure Cadaques 3',\n",
       " 'Коврик пенный Outventure',\n",
       " 'Комплект лыжный Atomic Redster S9 Gen S - Med SI',\n",
       " 'Палки для беговых лыж KV+ Marathon 45% Carbon',\n",
       " 'Мяч футбольный сувенирный Demix',\n",
       " 'Плавки-шорты для мальчиков adidas Fitness 3-Stripes',\n",
       " 'Капа Demix',\n",
       " 'Очки для плавания Joss Triton',\n",
       " 'Очки для плавания Mad Wave ALIEN голубой,',\n",
       " 'Сумка для ледовых коньков Nordway',\n",
       " 'Ботинки горнолыжные Head Edge LYT 130 GW',\n",
       " 'Кимоно для дзюдо детское Demix',\n",
       " 'Кроссовки для девочек Demix Sprinter Vibe Air',\n",
       " 'Шорты для мальчиков FILA',\n",
       " 'Носки PUMA Outlets, 3 пары',\n",
       " 'Рюкзак Nike',\n",
       " 'Рюкзак Northland Flow 30 л',\n",
       " 'Держатель заднего переключателя Cyclotech',\n",
       " 'Аккумулятор холода Outventure',\n",
       " 'Купальник для девочек FILA',\n",
       " 'Детский Велосипед MAXISCOO \"Air\" Deluxe Plus 14\" с дисковыми тормозами, серый матовый',\n",
       " 'Велосипед для мальчиков Stern Rocket 12\", 2021',\n",
       " 'Майка для девочек Outventure',\n",
       " 'Платье для девочек Kappa',\n",
       " 'Суппорт спины LP 901',\n",
       " 'Футболка Termit',\n",
       " 'Шлепанцы Joss Joy',\n",
       " 'Скейтборд Termit 300 - 29\"',\n",
       " 'Шорты для самбо Green Hill',\n",
       " 'Кроссовки для девочек PUMA R78 Jr',\n",
       " 'Кеды для мальчиков PUMA Smash v2 L V PS',\n",
       " 'Кроссовки для девочек Nike Star Runner 3 GS',\n",
       " 'Матрас надувной Outventure King Air Bed 203x183x22 см',\n",
       " 'Кроссовки для мальчиков Demix Everyday',\n",
       " 'Бейсболка для мальчиков FILA',\n",
       " 'Колодки для дисковых тормозов Stern APSE ADC-06',\n",
       " 'Велосипедная корзина Stern CB-1 bicycle basket',\n",
       " 'Мультитул Outventure',\n",
       " 'Кроссовки для девочек adidas Tensaur Run 2.0 CF I',\n",
       " 'Самокат 2-х колесный Street Surfing Torpedo',\n",
       " 'Велотренажер магнитный Torneo Compacta Plus B-234',\n",
       " 'Стельки Feet-n-Fit Active Support',\n",
       " 'Щитки футбольные Nike GUARD-CE',\n",
       " 'Шлепанцы FILA Mono',\n",
       " 'Худи Termit',\n",
       " 'Пояс для похудения Demix',\n",
       " 'Перчатки вратарские PUMA Ultra Grip 4 RC',\n",
       " 'Велосипед складной Stern Compact 24\"',\n",
       " 'Очки для плавания Joss Lumos',\n",
       " 'Велосипед горный Stern Energy 2.0 27.5\", 2022',\n",
       " 'Салфетка для очков Demix',\n",
       " 'Скейтборд детский Termit 100 22\"',\n",
       " 'Гетры Demix',\n",
       " 'Влажные салфетки для одежды Reloa',\n",
       " 'Маска для плавания Joss',\n",
       " 'Очки для плавания Speedo Futura Plus',\n",
       " 'Матрас надувной Intex Роял 191х76х25 см',\n",
       " 'Скакалка Demix',\n",
       " 'Набор воланов для спидминтона Torneo',\n",
       " 'Носки X-Socks Trek Outdoor, 1 пара черный/серый',\n",
       " 'Комбинированная ложка, вилка, нож Outventure',\n",
       " 'Бутсы для мальчиков Demix Exponenta 3 Jr In',\n",
       " 'Мяч футбольный Demix Hybrid FIFA Quality',\n",
       " 'Пакет',\n",
       " 'Палатка 4-местная Outventure Trenton 4',\n",
       " 'Толстовка для девочек FILA',\n",
       " 'Кеды для мальчиков PUMA Courtflex V2 Mesh V Ps',\n",
       " 'Перчатки боксерские детские Demix',\n",
       " 'Сандалии для мальчиков Outventure Cosmos',\n",
       " 'Игровой набор Torneo',\n",
       " 'Кроссовки для мальчиков Demix Atom',\n",
       " 'Спальный мешок Northland Hypnos -4 левосторонний',\n",
       " 'Носки Columbia Invisible Footbed Logo, 2 пары',\n",
       " 'Велосипед горный Stern Motion 2.0 27,5\"',\n",
       " 'Суппорт запястья LP',\n",
       " 'Спальный мешок Outventure Montreal +3 правосторонний',\n",
       " 'Эспандер кистевой Demix, 25 кг',\n",
       " 'Очки для плавания Joss Lumos Mirror',\n",
       " 'Сабо Crocs LiteRide 360 Clog',\n",
       " 'Крыло велосипедное переднее Stern CFM-2',\n",
       " 'Набор для бадминтона Torneo (2 ракетки, 2 волана, чехол)',\n",
       " 'Защита ведущих звезд Stern CDC-4',\n",
       " 'Подножка для велосипеда Stern CKS-1 24\"-28\"',\n",
       " 'Самокат Roces, 175 мм',\n",
       " 'Шлепанцы для девочек Joss Lagoon 2',\n",
       " 'Газовая лампа Fire-Maple Little Orange прозрачный/золотистый',\n",
       " 'Газовый баллон Следопыт 450 г',\n",
       " 'Лента силовая Demix',\n",
       " 'Чайник Northland 1.4 л',\n",
       " 'Фляжка Stern CBOT-4, 750 мл',\n",
       " 'Чехол Stern 02 csc-1',\n",
       " 'Набор велосипедных крыльев Stern CMS-2',\n",
       " 'Лента силовая Demix, 10-20 кг',\n",
       " 'Гамак Northland',\n",
       " 'Аккумулятор холода Outventure, 2021',\n",
       " 'Шорты для девочек Demix',\n",
       " 'Спортивный топ бра для девочек Demix',\n",
       " 'Футболка для девочек Demix',\n",
       " 'Насос электрический Bestway',\n",
       " 'Велотренажер магнитный Torneo Vita B-360',\n",
       " 'Термос Outventure, 0.5 л',\n",
       " 'Самокат детский Reaction Joy 2.0 Boy, 120 мм',\n",
       " 'Рюкзак Northland Flow 40 л',\n",
       " 'Носки Columbia Moisture Control Anklet, 2 пары',\n",
       " 'Сандалии для мальчиков Skechers Mega_Craft',\n",
       " 'Эспандер кистевой Demix, 15 кг',\n",
       " 'Диск 1.25 кг в корпусе из ПВХ Torneo',\n",
       " 'Фруктовый батончик Forsio абрикосовый с черной смородиной, 30 г',\n",
       " 'Мяч гимнастический Torneo, 75 см',\n",
       " 'Пояс для кимоно детский Demix',\n",
       " 'Бейсболка New Era 9Forty MLB New York Yankees',\n",
       " 'Кроссовки New Balance 574',\n",
       " 'Шорты для мальчиков Converse Zipper',\n",
       " 'Кроссовки для мальчиков FILA Joy 2',\n",
       " 'Очки солнцезащитные Kappa',\n",
       " 'Куртка для мальчиков FILA',\n",
       " 'Велосипед гравийный Roces Sole 1 28\"',\n",
       " 'Электросамокат HIPER Slim VX901 Black',\n",
       " 'Носки Demix, 5 пар',\n",
       " 'Набор для настольного тенниса KETTLER: 2 ракетки, 3 мяча',\n",
       " 'Полотенце махровое FILA, 140 х 70 см',\n",
       " 'Роликовые коньки Roces Ego 3x110 TIF',\n",
       " 'Тапочки коралловые Joss Auqamarine 2',\n",
       " 'Комплект для плавания Joss',\n",
       " 'Сумка Salomon Outlife Duffel 25',\n",
       " 'Камера Maxxis Ultralight, 27.5x1.75/2.4, LFVSEP48',\n",
       " 'Гиря 16 кг чугунная обрезиненная Torneo',\n",
       " 'Гантель гексагональная обрезиненная KETTLER, 1 кг',\n",
       " 'Диск 10 кг чугунный Torneo',\n",
       " 'Сумка TOPEAK Wedge Pack II',\n",
       " 'Солнцезащитные очки Uvex LGL 29 черный',\n",
       " 'Шлем велосипедный Stern',\n",
       " 'Гермомешок Germostar Pro, 25 л',\n",
       " 'Несессер Tatonka Small Travelcare',\n",
       " 'Держатель смартфона с креплением TOPEAK',\n",
       " 'Велосипед горный Polygon Premier 5 27.5\"',\n",
       " 'Носки Wilson, 2 пары серый',\n",
       " 'Велосипед горный Polygon Xtrada 6 27.5\"',\n",
       " 'Багажник TOPEAK',\n",
       " 'Переходник Fire-Maple Anaconda Adaptor',\n",
       " 'Ручки на руль Stern CGRIP-2',\n",
       " 'Велосипед горный Polygon Xtrada 6 1X11 27.5\", 2021',\n",
       " 'Багажник Stern CCAR-2',\n",
       " 'Сабо Crocs Classic',\n",
       " 'Веломаска Uvex Athletic SL',\n",
       " 'Бейсболка Columbia Coolhead Ice Cachalot',\n",
       " 'Шлем велосипедный Uvex Access черный',\n",
       " 'Гермомешок Outventure, 20 л',\n",
       " 'Заплатки самоклеющиеся для ремонта камер Stern CT-S3',\n",
       " 'Горелка газовая Следопыт Мечта путешественника',\n",
       " 'Газовая горелка Fire-Maple серебристый',\n",
       " \"Камера Stern CTUBE-26S 26'' автониппель\",\n",
       " 'Горелка газовая Следопыт GTP-N04',\n",
       " 'Адаптер под флягодержатель TOPEAK',\n",
       " 'Насос SKS Rookie Xl',\n",
       " 'Минеральная вода Forsio',\n",
       " 'Витаминная вода Forsio \"Апельсин\"',\n",
       " 'Флягодержатель Stern CBH-2/2',\n",
       " 'Ящик Plano 6203-06',\n",
       " 'Брюки для девочек Northland',\n",
       " 'Легинсы для девочек Demix',\n",
       " 'Джемпер флисовый для девочек Northland',\n",
       " 'Футболка для девочек Kappa',\n",
       " 'Легинсы для девочек Kappa',\n",
       " 'Балетки для девочек GSD Befly',\n",
       " 'Рюкзак велосипедный\\xa0Scott Commuter Evo 28',\n",
       " 'Часы Apple Watch Series 8 GPS 41mm Midnight Aluminium Case with Midnight Sport Band S/M, A2770',\n",
       " 'Фитнес-браслет Xiaomi Smart Band 7 GL (BHR6008GL)',\n",
       " 'Фитнес трекер Redmi Smart Band 2 GL Ivory M2225B1 (BHR6923GL)',\n",
       " 'Кроссовки для мальчиков Demix Atom Sl',\n",
       " 'Мяч волейбольный MIKASA V200W',\n",
       " 'Мяч волейбольный MIKASA VXT 30',\n",
       " 'Электровелосипед FURENDO E-S8 300 GT Зеленый',\n",
       " 'Байдарка Вольный Ветер \"Ангара 480 Expedition\", хаки',\n",
       " 'Очки для плавания Joss Core',\n",
       " 'Байдарка Вольный ветер Ермак 340',\n",
       " 'Тент Outventure Lounge',\n",
       " 'Портативная зарядная станция WATTICO Camp 300 Pro',\n",
       " 'Эхолот Lowrance HOOK REVEAL 7 50/200 HDI',\n",
       " 'Рукава MIKASA Sumiko',\n",
       " 'Мяч для настольного тенниса DHS D40+ 3***, 10 шт.',\n",
       " 'Ракетка для настольного тенниса Torneo Champion',\n",
       " 'Мяч массажный Skechers',\n",
       " 'Кошелек Columbia Wallace /Passcase',\n",
       " 'Матрас надувной Outventure',\n",
       " 'Бикини для девочек Joss',\n",
       " 'Рюкзак велосипедный Cyclotech CYC-15, 15 л',\n",
       " 'Термос Tatonka HOT&COLD STUFF 0.3L',\n",
       " 'Перчатки велосипедные Cyclotech 11 Nitro Light',\n",
       " 'Шорты для мальчиков Outventure',\n",
       " 'Кроссовки для мальчиков Demix Backyard Rld Mesh',\n",
       " 'Сетка волейбольная Demix',\n",
       " 'Ремни для тяги Torneo',\n",
       " 'Протеиновые панкейки Bombbar с начинкой \"Ассорти\", 40гр. х 10',\n",
       " 'Сандалии Crocs Splash Glossy Strappy',\n",
       " 'Рюкзак Outventure New Tech',\n",
       " 'Электросамокат Ninebot KickScooter F65U',\n",
       " 'Кроссовки для девочек Demix Flow 2.0 PU',\n",
       " \"Велосипед BMX Haro Shredder Pro 20'', 2022\",\n",
       " 'Электросамокат Kugoo Kugookirin A1',\n",
       " 'Палатка Alexika VICTORIA 10',\n",
       " 'Коврик надувной Outventure, 2021',\n",
       " 'Покрышка Schwalbe Lugano 700 x 20C',\n",
       " 'Шлепанцы Crocs Classic Flip',\n",
       " 'Кроссовки PUMA R78 FUTR Decon Trainers',\n",
       " 'Кеды Nike Court Borough Low 2',\n",
       " 'Велосипед складной Stern Compact 1.0 20\"',\n",
       " 'Маска защитная BRO RUSSIAN, 1 штука',\n",
       " 'Рюкзак Babolat BACKPACK PURE DRIVE',\n",
       " 'Кроссовки для мальчиков Demix Flow 2.0 PU',\n",
       " 'Очки для плавания Speedo Future Biofuse',\n",
       " 'Джемпер флисовый для мальчиков Outventure',\n",
       " 'Кимоно для дзюдо adidas Club',\n",
       " 'Сумка для мокрых вещей Joss',\n",
       " 'Носки PUMA, 3 пары',\n",
       " 'Сандалии детские Northland Nils',\n",
       " 'Шлепанцы детские Joss Garden Shoes',\n",
       " 'Бомбер утепленный для мальчиков Kappa',\n",
       " 'Ветровка для мальчиков Demix',\n",
       " 'Бомбер для мальчиков FILA',\n",
       " 'Набор люминисцентных колышков AceCamp 4 шт.',\n",
       " 'Бутылка для воды Demix, 0,8 л',\n",
       " 'Гамаши Salomon',\n",
       " 'Футболка для девочек Termit',\n",
       " 'Перчатки для фитнеса KETTLER Fitness Gloves AK-310M-G2',\n",
       " 'Колобашка Mad Wave JET',\n",
       " 'Толстовка для мальчиков PUMA Power Colorblock',\n",
       " 'Очки для плавания FILA',\n",
       " 'Куртка для девочек Northland',\n",
       " 'Куртка софтшелл для девочек Northland',\n",
       " 'Миска Northland',\n",
       " 'Кроссовки детские FILA Oakmont TR',\n",
       " 'Кроссовки детские PUMA RS-Z Core Jr',\n",
       " 'Кроссовки для мальчиков PUMA X-Ray Speed Jr',\n",
       " 'Подножка для велосипеда Stern 24-28\"',\n",
       " 'Кресло кемпинговое Northland Compact',\n",
       " 'Наколенники Rocktape Assassins, 5 мм, красный камуфляж красный',\n",
       " 'Цепная смазка для сухой погоды с тефлоном 100 мл Daytona',\n",
       " 'Плита настольная газовая Следопыт Classic',\n",
       " 'Сумка TOPEAK FrontLoader',\n",
       " 'Бейсболка Northland',\n",
       " 'Кружка Wildo Fold-A-Cup',\n",
       " 'Сумка на велосипед Topeak TopLoader',\n",
       " 'Кружка титановая Northland 350 мл',\n",
       " 'Велосипедная сумка TOPEAK',\n",
       " 'Котел аннодированный Northland',\n",
       " 'Футболка для мальчиков Nike',\n",
       " 'Шорты для мальчиков PUMA Active',\n",
       " 'Брюки для мальчиков Kappa',\n",
       " 'Кроссовки для мальчиков PUMA Anzarun Lite Jr',\n",
       " 'Сумка PUMA S Sports',\n",
       " 'Полуботинки для девочек Toread',\n",
       " 'Рюкзак 361°',\n",
       " 'Рюкзак Camel 10л',\n",
       " 'Электровелосипед Eltreco VOLTECO FLEX',\n",
       " 'Батут KETTLER Wallaroo-10Ft с внутренней сеткой, 305 см',\n",
       " 'Бассейн Bestway',\n",
       " 'Велосипед для девочек Stern Fantasy 16\", 2022',\n",
       " 'Велосипед горный Stern Energy 1.0 Sport 26\"',\n",
       " 'Седло Topeak Free SX',\n",
       " 'Палатка 3-местная Kailas X3 II Alpine',\n",
       " 'Палатка 2-местная Northland Valley 2',\n",
       " 'Спальный мешок Outventure Yukon -6 левосторонний',\n",
       " 'Коврик самонадувающийся Northland, 185 см',\n",
       " 'Роликовые коньки Reaction R200M',\n",
       " 'Худи оверсайз Demix',\n",
       " 'Сабо детские Crocs Lite Ride 360 Marbled Clog K',\n",
       " 'Тапочки коралловые для мальчиков Joss Aquashoes Jr',\n",
       " 'Солнцезащитные очки Uvex Sportstyle 225',\n",
       " 'Рюкзак\\xa0Toread Snow Ultra Light 40 л',\n",
       " 'Костюм спортивный для мальчиков PUMA Poly',\n",
       " 'Кроссовки для мальчиков GSD Simple',\n",
       " 'Бутсы для мальчиков Demix Sala Base 2 Jr',\n",
       " 'Бейсболка Columbia ROC II Ball Cap',\n",
       " 'Полуботинки для девочек Northland Flink LK PU',\n",
       " 'Лопата складная Outventure',\n",
       " 'Огниво Fire-Maple FMS-709',\n",
       " 'Пила цепная Outventure',\n",
       " 'Грелка для тела Outventure',\n",
       " 'Термоконтейнер Outventure, 32 л',\n",
       " 'Матрас надувной Outventure 203х152х22 см',\n",
       " 'Секундомер Torneo',\n",
       " 'Кеды детские Geox J Djrock Boy',\n",
       " 'Воблер DUO Realis Jerkbait, 110SP, 110 мм, суспенд., 16.2 гр.',\n",
       " 'Бейсболка для мальчиков Nike Futura',\n",
       " 'Сандалии Crocs LiteRide 360 Sandal W',\n",
       " 'Палатка 4-местная Outventure Tourist tent TWIN SKY 4',\n",
       " 'Шлепанцы Joss Energy 2',\n",
       " 'Перчатки Ziener',\n",
       " 'Спортивный костюм для девочек PUMA',\n",
       " 'Наколенники Reaction Urban',\n",
       " 'Самокат Reaction Stunt 2.0, 100 мм',\n",
       " 'Панама Columbia Bora Bora Booney',\n",
       " 'Перчатки Rukka Uotsola',\n",
       " 'Суппорт колена с опорами LP 639',\n",
       " 'Палатка 3-местная Denton SLT-3 plus',\n",
       " 'Спальный мешок Toread -2',\n",
       " 'Жилет утепленный для мальчиков Outventure',\n",
       " 'Брюки софтшелл для мальчиков Northland',\n",
       " 'Очки солнцезащитные Uvex LGL 42',\n",
       " 'Беговая дорожка KETTLER Air R1',\n",
       " 'Кроссовки для мальчиков FILA Landbuzzer Marble',\n",
       " 'Матрас надувной Air bed King',\n",
       " 'Ракетка для большого тенниса Head MX Attitude Elite',\n",
       " 'Куртка для мальчиков IcePeak Atlanta',\n",
       " 'Куртка софтшелл для мальчиков Outventure',\n",
       " 'Куртка для мальчиков Demix',\n",
       " 'Шорты пляжные для мальчиков Termit',\n",
       " 'Джемпер футбольный для мальчиков Demix Playmaker',\n",
       " 'Кроссовки для мальчиков Demix Stream 2',\n",
       " 'Кроссовки для мальчиков 361° Running',\n",
       " 'Солнцезащитные очки детские Demix',\n",
       " 'Кроссовки для мальчиков PUMA Trinity Lite JR',\n",
       " 'Самокат детский Reaction, 125 мм',\n",
       " 'Бейсболка детская Kappa',\n",
       " 'Спальный мешок Outventure Yukon T-6 правосторонний',\n",
       " 'Обруч для фитнеса KETTLER',\n",
       " 'Набор посуды Outventure',\n",
       " 'Горелка газовая Kovea',\n",
       " 'Велосипед горный Stern Dynamic 2.0 26\"',\n",
       " 'Набор велосипедных крыльев Stern CMS-3 26-29\"',\n",
       " 'Велосипед складной Stern Travel Multi 20',\n",
       " 'Чешки детские GSD',\n",
       " 'Сандалии детские Northland Blum',\n",
       " 'Женский купальник моделирующий Mad Wave SHAPE черный, синий,',\n",
       " 'Велосипед городской Bear Bike Barcelona 700C',\n",
       " 'Дождевик Outventure L-XL, 2022',\n",
       " 'Роликовые коньки детские раздвижные Reaction Galaxy',\n",
       " 'Рюкзак велосипедный Cyclotech, 18 л',\n",
       " 'Велосипед для мальчиков Stern Robot 14\", 2022',\n",
       " 'Сабо для девочек Crocs Crocband II Kids',\n",
       " 'Матрас надувной Intex 2-х уровневый с насосом 203x152x42 см',\n",
       " 'Вкладыш в спальный мешок Northland',\n",
       " 'Сумка Tatonka Check In',\n",
       " 'Кроссовки детские Safety Jogger Casual Athletic Sport',\n",
       " 'Кроссовки для мальчиков PUMA Flyer Runner Jr',\n",
       " 'Мяч баскетбольный Molten FIBA BG4500',\n",
       " 'Набор Demix: иглы, переходники, насадки',\n",
       " 'Кеды детские Converse Star Replay',\n",
       " 'Сапоги утепленные для мальчиков FILA Jaden Puff B',\n",
       " 'Шорты для мальчиков PUMA ESS Jersey',\n",
       " 'Брюки для мальчиков Converse Chuck Taylor',\n",
       " 'Коврик самонадувающийся Outventure',\n",
       " 'Кроссовки для мальчиков FILA Jaden Pu 2.0',\n",
       " 'Перчатки велосипедные Cyclotech 05 Canna',\n",
       " 'Перчатки велосипедные детские Cyclotech Urban-Kid New',\n",
       " 'Кроссовки для мальчиков PUMA F1 X-Ray Speed JR',\n",
       " 'Мяч баскетбольный Li-Ning LN BB',\n",
       " 'Кеды для мальчиков Skechers Kool Bricks',\n",
       " 'Шлепанцы детские FILA Seashell',\n",
       " 'Кеды детские Reima Stadi',\n",
       " 'Кроссовки для мальчиков Demix Sprinter Vibe Air B',\n",
       " 'Кроссовки для мальчиков FILA Fantastiq 2',\n",
       " 'Батут KETTLER Wallaroo-8Ft с внутренней сеткой, 244 см',\n",
       " 'Спальный мешок Mountain Hardwear Bozeman -1 левосторонний',\n",
       " 'Газовый баллон Kovea',\n",
       " 'Гетры CEP Run',\n",
       " 'Набор посуды Wildo Camp-A-Box',\n",
       " 'Газовый баллон Следопыт 230 г',\n",
       " 'Рюкзак Nike Brasilia 9.5',\n",
       " 'Украшение для обуви Crocs Jibbitz Breakfast',\n",
       " 'Комплект Tusa Imprex 3-D Dry: маска, трубка',\n",
       " 'Маска для плавания Joss M15',\n",
       " 'Зажим для носа Joss',\n",
       " 'Шлепанцы FILA Pool Comfort',\n",
       " 'Лонгборд Street Surfing Curve Freeride Drop Through Holy Cube 39\"',\n",
       " 'Байдарка Вольный ветер Одиссей 480',\n",
       " 'Омега-3 Optimum System, 90 капсул',\n",
       " 'Складной стул Northland',\n",
       " 'Кресло кемпинговое Toread',\n",
       " 'Костюм для мальчиков Nike Dri-FIT Academy',\n",
       " 'Мешок для обуви для мальчиков Nike',\n",
       " 'Бейсболка детская Nike',\n",
       " 'Брюки для мальчиков Nike Amplify',\n",
       " 'Спальный мешок Outventure Light +20 левосторонний',\n",
       " 'Мини-велотренажер Torneo Duo B-002',\n",
       " 'Покрышка Schwalbe Hurricane Performance 29 х 2.25',\n",
       " 'Носки FILA, 2 пары',\n",
       " ...]"
      ]
     },
     "execution_count": 51,
     "metadata": {},
     "output_type": "execute_result"
    }
   ],
   "source": [
    "# Проверяем товары где не заполнен признак product_sex\n",
    "\n",
    "prod = df_purch['product'][df_purch['product_sex'].isnull()].unique().tolist()\n",
    "prod"
   ]
  },
  {
   "cell_type": "code",
   "execution_count": 52,
   "id": "bacdb88f",
   "metadata": {},
   "outputs": [],
   "source": [
    "# Заполняем признак product_sex исходя из описания товаров\n",
    "\n",
    "df_purch['product_sex'] = df_purch['product_sex'].fillna(2)"
   ]
  },
  {
   "cell_type": "code",
   "execution_count": 53,
   "id": "cb2df489",
   "metadata": {},
   "outputs": [],
   "source": [
    "# Заполняем пропущенное значение признака цвет товара значением 'другой'\n",
    "\n",
    "df_purch['colour'] = df_purch['colour'].fillna('другой')"
   ]
  },
  {
   "cell_type": "code",
   "execution_count": 54,
   "id": "95e19572",
   "metadata": {},
   "outputs": [
    {
     "data": {
      "text/html": [
       "<div>\n",
       "<style scoped>\n",
       "    .dataframe tbody tr th:only-of-type {\n",
       "        vertical-align: middle;\n",
       "    }\n",
       "\n",
       "    .dataframe tbody tr th {\n",
       "        vertical-align: top;\n",
       "    }\n",
       "\n",
       "    .dataframe thead th {\n",
       "        text-align: right;\n",
       "    }\n",
       "</style>\n",
       "<table border=\"1\" class=\"dataframe\">\n",
       "  <thead>\n",
       "    <tr style=\"text-align: right;\">\n",
       "      <th></th>\n",
       "      <th>id</th>\n",
       "      <th>product</th>\n",
       "      <th>colour</th>\n",
       "      <th>cost</th>\n",
       "      <th>product_sex</th>\n",
       "      <th>base_sale</th>\n",
       "      <th>dt</th>\n",
       "    </tr>\n",
       "  </thead>\n",
       "  <tbody>\n",
       "    <tr>\n",
       "      <th>0</th>\n",
       "      <td>0</td>\n",
       "      <td>Велосипед горный женский Stern Mira 2.0 26\"</td>\n",
       "      <td>белый/синий</td>\n",
       "      <td>13599</td>\n",
       "      <td>0.0</td>\n",
       "      <td>1</td>\n",
       "      <td>7</td>\n",
       "    </tr>\n",
       "    <tr>\n",
       "      <th>1</th>\n",
       "      <td>0</td>\n",
       "      <td>Стол Outventure</td>\n",
       "      <td>зелёный</td>\n",
       "      <td>1499</td>\n",
       "      <td>2.0</td>\n",
       "      <td>0</td>\n",
       "      <td>37</td>\n",
       "    </tr>\n",
       "    <tr>\n",
       "      <th>2</th>\n",
       "      <td>0</td>\n",
       "      <td>Набор Outventure: стол + 4 стула</td>\n",
       "      <td>бежевый</td>\n",
       "      <td>4799</td>\n",
       "      <td>2.0</td>\n",
       "      <td>0</td>\n",
       "      <td>37</td>\n",
       "    </tr>\n",
       "    <tr>\n",
       "      <th>3</th>\n",
       "      <td>3</td>\n",
       "      <td>Бутсы мужские GSD Astro</td>\n",
       "      <td>белый</td>\n",
       "      <td>1599</td>\n",
       "      <td>1.0</td>\n",
       "      <td>0</td>\n",
       "      <td>13</td>\n",
       "    </tr>\n",
       "    <tr>\n",
       "      <th>4</th>\n",
       "      <td>3</td>\n",
       "      <td>Мяч футбольный PUMA TEAMFINAL 21.2 FIFA QUALIT...</td>\n",
       "      <td>мультицвет</td>\n",
       "      <td>7199</td>\n",
       "      <td>2.0</td>\n",
       "      <td>0</td>\n",
       "      <td>27</td>\n",
       "    </tr>\n",
       "  </tbody>\n",
       "</table>\n",
       "</div>"
      ],
      "text/plain": [
       "   id                                            product       colour   cost  \\\n",
       "0   0        Велосипед горный женский Stern Mira 2.0 26\"  белый/синий  13599   \n",
       "1   0                                    Стол Outventure      зелёный   1499   \n",
       "2   0                   Набор Outventure: стол + 4 стула      бежевый   4799   \n",
       "3   3                            Бутсы мужские GSD Astro        белый   1599   \n",
       "4   3  Мяч футбольный PUMA TEAMFINAL 21.2 FIFA QUALIT...   мультицвет   7199   \n",
       "\n",
       "   product_sex  base_sale  dt  \n",
       "0          0.0          1   7  \n",
       "1          2.0          0  37  \n",
       "2          2.0          0  37  \n",
       "3          1.0          0  13  \n",
       "4          2.0          0  27  "
      ]
     },
     "execution_count": 54,
     "metadata": {},
     "output_type": "execute_result"
    }
   ],
   "source": [
    "df_purch.head()"
   ]
  },
  {
   "cell_type": "code",
   "execution_count": 55,
   "id": "16b0d4b3",
   "metadata": {},
   "outputs": [
    {
     "name": "stdout",
     "output_type": "stream",
     "text": [
      "id\n",
      "id\n",
      "20770     569\n",
      "16910     522\n",
      "20570     420\n",
      "35091     330\n",
      "131874    326\n",
      "         ... \n",
      "165413      1\n",
      "12748       1\n",
      "165409      1\n",
      "56134       1\n",
      "89967       1\n",
      "Name: count, Length: 104989, dtype: int64 \n",
      "\n",
      "product\n",
      "product\n",
      "Брюки мужские Demix                                                                                                                    4961\n",
      "Шорты мужские Demix                                                                                                                    4650\n",
      "Футболка мужская Demix                                                                                                                 3644\n",
      "Лиф женский Joss                                                                                                                       3378\n",
      "Футболка женская Demix                                                                                                                 3252\n",
      "                                                                                                                                       ... \n",
      "Полуботинки для девочек Salomon SENSE CSWP K                                                                                              1\n",
      "Аминокислота Л-аргинин, VPLAB AAKG, спортивное питание, предтренировочный препарат, рост мышечной массы и выносливость, 90 таблеток       1\n",
      "Набор Burton: гребенка косые зубцы, слайдер                                                                                               1\n",
      "Палки для беговых лыж детские Salomon Escape ALU                                                                                          1\n",
      "Бутсы мужские adidas Predator 19.3 TF                                                                                                     1\n",
      "Name: count, Length: 23145, dtype: int64 \n",
      "\n",
      "colour\n",
      "colour\n",
      "черный                          131399\n",
      "другой                          119524\n",
      "белый                            42520\n",
      "чёрный                           37022\n",
      "синий                            35268\n",
      "                                 ...  \n",
      "черный/красный/лаймовый              1\n",
      "желтый/белый/черный                  1\n",
      "черный/серый/зеленый/голубой         1\n",
      "белый/золотой/красный                1\n",
      "черный/циан                          1\n",
      "Name: count, Length: 1694, dtype: int64 \n",
      "\n",
      "cost\n",
      "cost\n",
      "1999      25325\n",
      "2999      24683\n",
      "999       23033\n",
      "3999      20241\n",
      "3499      16270\n",
      "          ...  \n",
      "4135          1\n",
      "626           1\n",
      "5650          1\n",
      "4105          1\n",
      "174999        1\n",
      "Name: count, Length: 2402, dtype: int64 \n",
      "\n",
      "product_sex\n",
      "product_sex\n",
      "2.0    314712\n",
      "1.0    271433\n",
      "0.0    200115\n",
      "Name: count, dtype: int64 \n",
      "\n",
      "base_sale\n",
      "base_sale\n",
      "0    505657\n",
      "1    280603\n",
      "Name: count, dtype: int64 \n",
      "\n",
      "dt\n",
      "dt\n",
      "14    25630\n",
      "15    22957\n",
      "10    21650\n",
      "7     20072\n",
      "0     19979\n",
      "16    18882\n",
      "13    18828\n",
      "4     18806\n",
      "9     18677\n",
      "1     18619\n",
      "11    18611\n",
      "3     18601\n",
      "8     18017\n",
      "2     17962\n",
      "12    15818\n",
      "6     15734\n",
      "21    15267\n",
      "5     14389\n",
      "17    14077\n",
      "23    13779\n",
      "18    13414\n",
      "42    13137\n",
      "30    13103\n",
      "24    12738\n",
      "22    12365\n",
      "25    12305\n",
      "49    12299\n",
      "35    12211\n",
      "44    12148\n",
      "29    12007\n",
      "37    11986\n",
      "45    11984\n",
      "50    11793\n",
      "51    11784\n",
      "57    11644\n",
      "56    11586\n",
      "58    11514\n",
      "43    11511\n",
      "52    11118\n",
      "31    11045\n",
      "20    11001\n",
      "38    10929\n",
      "46    10925\n",
      "32    10784\n",
      "36    10620\n",
      "28    10335\n",
      "53    10310\n",
      "39    10109\n",
      "19     9978\n",
      "48     9237\n",
      "55     8807\n",
      "47     8765\n",
      "26     8658\n",
      "27     8555\n",
      "41     8521\n",
      "34     8369\n",
      "54     7819\n",
      "33     7816\n",
      "40     6675\n",
      "Name: count, dtype: int64 \n",
      "\n"
     ]
    }
   ],
   "source": [
    "# Проверяем частоту значений в признаках\n",
    "\n",
    "for column in df_purch.columns:\n",
    "    print(column)\n",
    "    print(df_purch[column].value_counts(), '\\n')"
   ]
  },
  {
   "cell_type": "code",
   "execution_count": 56,
   "id": "a537a608",
   "metadata": {},
   "outputs": [],
   "source": [
    "# Объединяем дублирующиеся значения цвета\n",
    "\n",
    "df_purch['colour'] = df_purch['colour'].replace(['чёрный'], 'черный')"
   ]
  },
  {
   "cell_type": "code",
   "execution_count": 57,
   "id": "23bb131f",
   "metadata": {},
   "outputs": [],
   "source": [
    "# Обрабатываем признаки product и colour\n",
    "\n",
    "df_purch['product'] = df_purch['product'].apply(lambda x: \" \".join(re.findall('[А-Яа-я]{3,20}', x)).lower())"
   ]
  },
  {
   "cell_type": "code",
   "execution_count": 58,
   "id": "1d49e115",
   "metadata": {},
   "outputs": [],
   "source": [
    "df_purch['colour'] = df_purch['colour'].apply(lambda x: x.split('/')[0].lower())"
   ]
  },
  {
   "cell_type": "code",
   "execution_count": 59,
   "id": "4442095d",
   "metadata": {},
   "outputs": [
    {
     "data": {
      "text/html": [
       "<div>\n",
       "<style scoped>\n",
       "    .dataframe tbody tr th:only-of-type {\n",
       "        vertical-align: middle;\n",
       "    }\n",
       "\n",
       "    .dataframe tbody tr th {\n",
       "        vertical-align: top;\n",
       "    }\n",
       "\n",
       "    .dataframe thead th {\n",
       "        text-align: right;\n",
       "    }\n",
       "</style>\n",
       "<table border=\"1\" class=\"dataframe\">\n",
       "  <thead>\n",
       "    <tr style=\"text-align: right;\">\n",
       "      <th></th>\n",
       "      <th>id</th>\n",
       "      <th>product</th>\n",
       "      <th>colour</th>\n",
       "      <th>cost</th>\n",
       "      <th>product_sex</th>\n",
       "      <th>base_sale</th>\n",
       "      <th>dt</th>\n",
       "    </tr>\n",
       "  </thead>\n",
       "  <tbody>\n",
       "    <tr>\n",
       "      <th>0</th>\n",
       "      <td>0</td>\n",
       "      <td>велосипед горный женский</td>\n",
       "      <td>белый</td>\n",
       "      <td>13599</td>\n",
       "      <td>0.0</td>\n",
       "      <td>1</td>\n",
       "      <td>7</td>\n",
       "    </tr>\n",
       "    <tr>\n",
       "      <th>1</th>\n",
       "      <td>0</td>\n",
       "      <td>стол</td>\n",
       "      <td>зелёный</td>\n",
       "      <td>1499</td>\n",
       "      <td>2.0</td>\n",
       "      <td>0</td>\n",
       "      <td>37</td>\n",
       "    </tr>\n",
       "    <tr>\n",
       "      <th>2</th>\n",
       "      <td>0</td>\n",
       "      <td>набор стол стула</td>\n",
       "      <td>бежевый</td>\n",
       "      <td>4799</td>\n",
       "      <td>2.0</td>\n",
       "      <td>0</td>\n",
       "      <td>37</td>\n",
       "    </tr>\n",
       "    <tr>\n",
       "      <th>3</th>\n",
       "      <td>3</td>\n",
       "      <td>бутсы мужские</td>\n",
       "      <td>белый</td>\n",
       "      <td>1599</td>\n",
       "      <td>1.0</td>\n",
       "      <td>0</td>\n",
       "      <td>13</td>\n",
       "    </tr>\n",
       "    <tr>\n",
       "      <th>4</th>\n",
       "      <td>3</td>\n",
       "      <td>мяч футбольный</td>\n",
       "      <td>мультицвет</td>\n",
       "      <td>7199</td>\n",
       "      <td>2.0</td>\n",
       "      <td>0</td>\n",
       "      <td>27</td>\n",
       "    </tr>\n",
       "  </tbody>\n",
       "</table>\n",
       "</div>"
      ],
      "text/plain": [
       "   id                   product      colour   cost  product_sex  base_sale  dt\n",
       "0   0  велосипед горный женский       белый  13599          0.0          1   7\n",
       "1   0                      стол     зелёный   1499          2.0          0  37\n",
       "2   0          набор стол стула     бежевый   4799          2.0          0  37\n",
       "3   3             бутсы мужские       белый   1599          1.0          0  13\n",
       "4   3            мяч футбольный  мультицвет   7199          2.0          0  27"
      ]
     },
     "execution_count": 59,
     "metadata": {},
     "output_type": "execute_result"
    }
   ],
   "source": [
    "df_purch.head()"
   ]
  },
  {
   "attachments": {},
   "cell_type": "markdown",
   "id": "f0c78c0e",
   "metadata": {},
   "source": [
    "## Оценка А/Б теста"
   ]
  },
  {
   "cell_type": "code",
   "execution_count": 102,
   "id": "76f6627c",
   "metadata": {},
   "outputs": [],
   "source": [
    "# Загружаем файлы которые содержат id клиентов участвовавших в A/B тесте\n",
    "\n",
    "with open('data/ids_first_company_positive.txt') as f:\n",
    "    positive = f.read()"
   ]
  },
  {
   "cell_type": "code",
   "execution_count": 103,
   "id": "d6a68b73",
   "metadata": {},
   "outputs": [],
   "source": [
    "elem_list = re.split(';|,| ', positive)"
   ]
  },
  {
   "cell_type": "code",
   "execution_count": 104,
   "id": "6ee63ca0",
   "metadata": {},
   "outputs": [],
   "source": [
    "positive_id = []\n",
    "\n",
    "for i in elem_list:\n",
    "    if i.isdigit():\n",
    "        positive_id.append(int(i))\n",
    "        "
   ]
  },
  {
   "cell_type": "code",
   "execution_count": 105,
   "id": "e2a321bd",
   "metadata": {},
   "outputs": [
    {
     "data": {
      "text/plain": [
       "4964"
      ]
     },
     "execution_count": 105,
     "metadata": {},
     "output_type": "execute_result"
    }
   ],
   "source": [
    "len(positive_id)"
   ]
  },
  {
   "cell_type": "code",
   "execution_count": 106,
   "id": "a306cea9",
   "metadata": {},
   "outputs": [],
   "source": [
    "with open('data/ids_first_company_negative.txt') as f:\n",
    "    negative = f.read()"
   ]
  },
  {
   "cell_type": "code",
   "execution_count": 107,
   "id": "ef7c8f95",
   "metadata": {},
   "outputs": [],
   "source": [
    "elem_list = re.split(';|,| ', negative)"
   ]
  },
  {
   "cell_type": "code",
   "execution_count": 108,
   "id": "25cece31",
   "metadata": {},
   "outputs": [],
   "source": [
    "negative_id = []\n",
    "\n",
    "for i in elem_list:\n",
    "    if i.isdigit():\n",
    "        negative_id.append(int(i))"
   ]
  },
  {
   "cell_type": "code",
   "execution_count": 109,
   "id": "c9087830",
   "metadata": {},
   "outputs": [
    {
     "data": {
      "text/plain": [
       "4961"
      ]
     },
     "execution_count": 109,
     "metadata": {},
     "output_type": "execute_result"
    }
   ],
   "source": [
    "len(negative_id)\n"
   ]
  },
  {
   "cell_type": "code",
   "execution_count": 110,
   "id": "34680918",
   "metadata": {},
   "outputs": [
    {
     "data": {
      "text/html": [
       "<div>\n",
       "<style scoped>\n",
       "    .dataframe tbody tr th:only-of-type {\n",
       "        vertical-align: middle;\n",
       "    }\n",
       "\n",
       "    .dataframe tbody tr th {\n",
       "        vertical-align: top;\n",
       "    }\n",
       "\n",
       "    .dataframe thead th {\n",
       "        text-align: right;\n",
       "    }\n",
       "</style>\n",
       "<table border=\"1\" class=\"dataframe\">\n",
       "  <thead>\n",
       "    <tr style=\"text-align: right;\">\n",
       "      <th></th>\n",
       "      <th>id</th>\n",
       "      <th>product</th>\n",
       "      <th>colour</th>\n",
       "      <th>cost</th>\n",
       "      <th>product_sex</th>\n",
       "      <th>base_sale</th>\n",
       "      <th>dt</th>\n",
       "    </tr>\n",
       "  </thead>\n",
       "  <tbody>\n",
       "    <tr>\n",
       "      <th>0</th>\n",
       "      <td>0</td>\n",
       "      <td>велосипед горный женский</td>\n",
       "      <td>белый</td>\n",
       "      <td>13599</td>\n",
       "      <td>0.0</td>\n",
       "      <td>1</td>\n",
       "      <td>7</td>\n",
       "    </tr>\n",
       "    <tr>\n",
       "      <th>1</th>\n",
       "      <td>0</td>\n",
       "      <td>стол</td>\n",
       "      <td>зелёный</td>\n",
       "      <td>1499</td>\n",
       "      <td>2.0</td>\n",
       "      <td>0</td>\n",
       "      <td>37</td>\n",
       "    </tr>\n",
       "    <tr>\n",
       "      <th>2</th>\n",
       "      <td>0</td>\n",
       "      <td>набор стол стула</td>\n",
       "      <td>бежевый</td>\n",
       "      <td>4799</td>\n",
       "      <td>2.0</td>\n",
       "      <td>0</td>\n",
       "      <td>37</td>\n",
       "    </tr>\n",
       "    <tr>\n",
       "      <th>3</th>\n",
       "      <td>3</td>\n",
       "      <td>бутсы мужские</td>\n",
       "      <td>белый</td>\n",
       "      <td>1599</td>\n",
       "      <td>1.0</td>\n",
       "      <td>0</td>\n",
       "      <td>13</td>\n",
       "    </tr>\n",
       "    <tr>\n",
       "      <th>4</th>\n",
       "      <td>3</td>\n",
       "      <td>мяч футбольный</td>\n",
       "      <td>мультицвет</td>\n",
       "      <td>7199</td>\n",
       "      <td>2.0</td>\n",
       "      <td>0</td>\n",
       "      <td>27</td>\n",
       "    </tr>\n",
       "  </tbody>\n",
       "</table>\n",
       "</div>"
      ],
      "text/plain": [
       "   id                   product      colour   cost  product_sex  base_sale  dt\n",
       "0   0  велосипед горный женский       белый  13599          0.0          1   7\n",
       "1   0                      стол     зелёный   1499          2.0          0  37\n",
       "2   0          набор стол стула     бежевый   4799          2.0          0  37\n",
       "3   3             бутсы мужские       белый   1599          1.0          0  13\n",
       "4   3            мяч футбольный  мультицвет   7199          2.0          0  27"
      ]
     },
     "execution_count": 110,
     "metadata": {},
     "output_type": "execute_result"
    }
   ],
   "source": [
    "df_purch.head()"
   ]
  },
  {
   "cell_type": "code",
   "execution_count": 111,
   "id": "7a5fe2c1",
   "metadata": {},
   "outputs": [],
   "source": [
    "# Выбираем покупки которые были совершены во время проведения первой рекламной компании\n",
    "\n",
    "df_test = df_purch[(df_purch['dt'] >= 5) & (df_purch['dt'] < 17)]"
   ]
  },
  {
   "cell_type": "code",
   "execution_count": 112,
   "id": "80758102",
   "metadata": {},
   "outputs": [],
   "source": [
    "# Группируем по id клиента, чтобы получить выручку на одного клиента\n",
    "\n",
    "arpu_group = df_test.groupby('id', as_index=False).agg({'cost':'sum'})"
   ]
  },
  {
   "cell_type": "code",
   "execution_count": 113,
   "id": "fb26380a",
   "metadata": {},
   "outputs": [
    {
     "data": {
      "text/html": [
       "<div>\n",
       "<style scoped>\n",
       "    .dataframe tbody tr th:only-of-type {\n",
       "        vertical-align: middle;\n",
       "    }\n",
       "\n",
       "    .dataframe tbody tr th {\n",
       "        vertical-align: top;\n",
       "    }\n",
       "\n",
       "    .dataframe thead th {\n",
       "        text-align: right;\n",
       "    }\n",
       "</style>\n",
       "<table border=\"1\" class=\"dataframe\">\n",
       "  <thead>\n",
       "    <tr style=\"text-align: right;\">\n",
       "      <th></th>\n",
       "      <th>id</th>\n",
       "      <th>cost</th>\n",
       "    </tr>\n",
       "  </thead>\n",
       "  <tbody>\n",
       "    <tr>\n",
       "      <th>0</th>\n",
       "      <td>0</td>\n",
       "      <td>13599</td>\n",
       "    </tr>\n",
       "    <tr>\n",
       "      <th>1</th>\n",
       "      <td>3</td>\n",
       "      <td>1599</td>\n",
       "    </tr>\n",
       "    <tr>\n",
       "      <th>2</th>\n",
       "      <td>6</td>\n",
       "      <td>17215</td>\n",
       "    </tr>\n",
       "    <tr>\n",
       "      <th>3</th>\n",
       "      <td>7</td>\n",
       "      <td>14497</td>\n",
       "    </tr>\n",
       "    <tr>\n",
       "      <th>4</th>\n",
       "      <td>9</td>\n",
       "      <td>40198</td>\n",
       "    </tr>\n",
       "    <tr>\n",
       "      <th>...</th>\n",
       "      <td>...</td>\n",
       "      <td>...</td>\n",
       "    </tr>\n",
       "    <tr>\n",
       "      <th>77141</th>\n",
       "      <td>177996</td>\n",
       "      <td>5599</td>\n",
       "    </tr>\n",
       "    <tr>\n",
       "      <th>77142</th>\n",
       "      <td>177997</td>\n",
       "      <td>15397</td>\n",
       "    </tr>\n",
       "    <tr>\n",
       "      <th>77143</th>\n",
       "      <td>177998</td>\n",
       "      <td>17794</td>\n",
       "    </tr>\n",
       "    <tr>\n",
       "      <th>77144</th>\n",
       "      <td>178001</td>\n",
       "      <td>35393</td>\n",
       "    </tr>\n",
       "    <tr>\n",
       "      <th>77145</th>\n",
       "      <td>178004</td>\n",
       "      <td>60995</td>\n",
       "    </tr>\n",
       "  </tbody>\n",
       "</table>\n",
       "<p>77146 rows × 2 columns</p>\n",
       "</div>"
      ],
      "text/plain": [
       "           id   cost\n",
       "0           0  13599\n",
       "1           3   1599\n",
       "2           6  17215\n",
       "3           7  14497\n",
       "4           9  40198\n",
       "...       ...    ...\n",
       "77141  177996   5599\n",
       "77142  177997  15397\n",
       "77143  177998  17794\n",
       "77144  178001  35393\n",
       "77145  178004  60995\n",
       "\n",
       "[77146 rows x 2 columns]"
      ]
     },
     "execution_count": 113,
     "metadata": {},
     "output_type": "execute_result"
    }
   ],
   "source": [
    "arpu_group"
   ]
  },
  {
   "cell_type": "code",
   "execution_count": 114,
   "id": "3b06142f",
   "metadata": {},
   "outputs": [],
   "source": [
    "# Создаем датафрейм с клиентами которые получили скидку во время рекламной компании\n",
    "\n",
    "positive_arpu = arpu_group.loc[arpu_group['id'].isin(positive_id), :]"
   ]
  },
  {
   "cell_type": "code",
   "execution_count": 115,
   "id": "57f5b4f0",
   "metadata": {},
   "outputs": [
    {
     "data": {
      "text/plain": [
       "4757"
      ]
     },
     "execution_count": 115,
     "metadata": {},
     "output_type": "execute_result"
    }
   ],
   "source": [
    "len(positive_arpu)"
   ]
  },
  {
   "cell_type": "code",
   "execution_count": 116,
   "id": "a8a00605",
   "metadata": {},
   "outputs": [],
   "source": [
    "# Создаем датафрейм с клиентами которые не получили скидку\n",
    "\n",
    "negative_arpu = arpu_group.loc[arpu_group['id'].isin(negative_id), :]"
   ]
  },
  {
   "cell_type": "code",
   "execution_count": 117,
   "id": "7f326581",
   "metadata": {},
   "outputs": [
    {
     "data": {
      "text/plain": [
       "4961"
      ]
     },
     "execution_count": 117,
     "metadata": {},
     "output_type": "execute_result"
    }
   ],
   "source": [
    "len(negative_arpu)"
   ]
  },
  {
   "attachments": {},
   "cell_type": "markdown",
   "id": "3eee102d",
   "metadata": {},
   "source": [
    "**Основная гипотеза**: нет статистически значимой разницы между средней выручкой на одного пользователя в тестовой и контрольной группах. \n",
    "\n",
    "**Альтернативная гипотеза**: есть статистически значимая разница между средней выручкой на одного пользователя в тестовой и контрольной группах."
   ]
  },
  {
   "cell_type": "code",
   "execution_count": 118,
   "id": "c807bbf5",
   "metadata": {},
   "outputs": [
    {
     "name": "stdout",
     "output_type": "stream",
     "text": [
      "ShapiroResult(statistic=0.5344905484876158, pvalue=1.9828463366389413e-77)\n",
      "ShapiroResult(statistic=0.4726006059543819, pvalue=4.072445867818675e-81)\n"
     ]
    }
   ],
   "source": [
    "# Проверка нормальности распределения \n",
    "\n",
    "print(stats.shapiro(positive_arpu['cost']))\n",
    "print(stats.shapiro(negative_arpu['cost']))"
   ]
  },
  {
   "cell_type": "code",
   "execution_count": 119,
   "id": "cfba726d",
   "metadata": {},
   "outputs": [
    {
     "name": "stdout",
     "output_type": "stream",
     "text": [
      "MannwhitneyuResult(statistic=13632883.5, pvalue=3.977397095679975e-40)\n",
      "Есть статистически значимая разница\n"
     ]
    }
   ],
   "source": [
    "# Т.к. распределение не является нормальным, а выборки независимы, используем критерий Манна-Уитни для проверки гипотезы о среднем\n",
    "\n",
    "mann = stats.mannwhitneyu(positive_arpu['cost'], negative_arpu['cost'])\n",
    "print(mann)\n",
    "\n",
    "if mann[1] < 0.05:\n",
    "    print('Есть статистически значимая разница')\n",
    "else:\n",
    "    print('Статистически значимой разницы нет')"
   ]
  },
  {
   "cell_type": "code",
   "execution_count": 120,
   "id": "ba2840e3",
   "metadata": {},
   "outputs": [
    {
     "name": "stdout",
     "output_type": "stream",
     "text": [
      "(-31399.0, 70993.0)\n",
      "(-24670.0, 53914.0)\n"
     ]
    }
   ],
   "source": [
    "print(get_outliers(positive_arpu['cost']))\n",
    "print(get_outliers(negative_arpu['cost']))"
   ]
  },
  {
   "cell_type": "code",
   "execution_count": 121,
   "id": "12e58155",
   "metadata": {},
   "outputs": [
    {
     "data": {
      "image/png": "[encoded data removed]",
      "text/plain": [
       "<Figure size 800x400 with 1 Axes>"
      ]
     },
     "metadata": {},
     "output_type": "display_data"
    }
   ],
   "source": [
    "fig,ax = plt.subplots()\n",
    "ax.set_xlim(0,70993.0)\n",
    "sns.histplot(x=positive_arpu['cost'], bins=300, color='#C92228', element='step')\n",
    "sns.histplot(x=negative_arpu['cost'], bins=300, color='#005AAB', element='step')\n",
    "ax.set_title('Распределение средней выручки')\n",
    "ax.set(xlabel='Выручка на одного клиента', ylabel='Кол-во')\n",
    "ax.legend(['test','control'])\n",
    "\n",
    "std_error_test= np.std(positive_arpu['cost']) / np.sqrt(len(positive_arpu['cost']))\n",
    "std_error_control = np.std(negative_arpu['cost']) / np.sqrt(len(negative_arpu['cost']))\n"
   ]
  },
  {
   "cell_type": "code",
   "execution_count": 122,
   "id": "82c9d7ec",
   "metadata": {},
   "outputs": [
    {
     "data": {
      "text/plain": [
       "<ErrorbarContainer object of 3 artists>"
      ]
     },
     "execution_count": 122,
     "metadata": {},
     "output_type": "execute_result"
    },
    {
     "data": {
      "image/png": "[encoded data removed]",
      "text/plain": [
       "<Figure size 800x400 with 1 Axes>"
      ]
     },
     "metadata": {},
     "output_type": "display_data"
    }
   ],
   "source": [
    "fig,ax = plt.subplots()\n",
    "sns.barplot(x = ['тестовая', 'контрольная'], y = [positive_arpu['cost'].mean(), \n",
    "                                                  negative_arpu['cost'].mean()], \n",
    "                                                  palette=['#C92228','#005AAB'])\n",
    "ax.bar_label(ax.containers[0], fontsize=12, label_type='center', color='white', fmt='%.0f')\n",
    "ax.bar_label(ax.containers[1], fontsize=12, label_type='center', color='white', fmt='%.0f')\n",
    "ax.set_title('Средняя выручка на одного клиента')\n",
    "ax.set(xlabel='Группа', ylabel='Выручка',  ylim=(19000, 30000))\n",
    "ax.errorbar(x = ['тестовая', 'контрольная'], y = [positive_arpu['cost'].mean(), \n",
    "                                                  negative_arpu['cost'].mean()], \n",
    "                                                  yerr = [1.96*std_error_test, 1.96*std_error_control],\n",
    "                                                  fmt='--k', linewidth=2, capsize=6, ecolor= 'black')"
   ]
  },
  {
   "cell_type": "code",
   "execution_count": 123,
   "id": "275e484b",
   "metadata": {},
   "outputs": [],
   "source": [
    "# Группируем покупки по дате и id, чтобы получить условный средний чек. \n",
    "\n",
    "bill_group = df_test.groupby(['dt','id'], as_index=False).agg({'cost':'sum'})"
   ]
  },
  {
   "cell_type": "code",
   "execution_count": 124,
   "id": "17f555d1",
   "metadata": {},
   "outputs": [
    {
     "data": {
      "text/plain": [
       "12517"
      ]
     },
     "execution_count": 124,
     "metadata": {},
     "output_type": "execute_result"
    }
   ],
   "source": [
    "positive_bill = bill_group.loc[bill_group['id'].isin(positive_id), :]\n",
    "len(positive_bill)"
   ]
  },
  {
   "cell_type": "code",
   "execution_count": 125,
   "id": "155af9d1",
   "metadata": {},
   "outputs": [
    {
     "data": {
      "text/plain": [
       "11051"
      ]
     },
     "execution_count": 125,
     "metadata": {},
     "output_type": "execute_result"
    }
   ],
   "source": [
    "negative_bill = bill_group.loc[bill_group['id'].isin(negative_id), :]\n",
    "len(negative_bill)"
   ]
  },
  {
   "attachments": {},
   "cell_type": "markdown",
   "id": "5e8e4876",
   "metadata": {},
   "source": [
    "**Основная гипотеза**: нет статистически значимой разницы между средним чеком в тестовой и контрольной группах. \n",
    "\n",
    "**Альтернативная гипотеза**: есть статистически значимая разница между средним чеком в тестовой и контрольной группах."
   ]
  },
  {
   "cell_type": "code",
   "execution_count": 126,
   "id": "9162a602",
   "metadata": {},
   "outputs": [
    {
     "name": "stdout",
     "output_type": "stream",
     "text": [
      "KstestResult(statistic=1.0, pvalue=0.0, statistic_location=12, statistic_sign=-1)\n",
      "KstestResult(statistic=1.0, pvalue=0.0, statistic_location=39, statistic_sign=-1)\n"
     ]
    }
   ],
   "source": [
    "# Проверка нормальности распределения \n",
    "\n",
    "print(stats.kstest(positive_bill['cost'], \"norm\"))\n",
    "print(stats.kstest(negative_bill['cost'], \"norm\"))"
   ]
  },
  {
   "cell_type": "code",
   "execution_count": 127,
   "id": "8a8c9b9c",
   "metadata": {},
   "outputs": [
    {
     "name": "stdout",
     "output_type": "stream",
     "text": [
      "MannwhitneyuResult(statistic=72554564.5, pvalue=7.639013623733095e-11)\n",
      "Есть статистически значимая разница\n"
     ]
    }
   ],
   "source": [
    "# В этом случае также используем критерий Манна-Уитни для проверки гипотезы о среднем чеке\n",
    "\n",
    "mann = stats.mannwhitneyu(positive_bill['cost'], negative_bill['cost'])\n",
    "print(mann)\n",
    "\n",
    "if mann[1] < 0.05:\n",
    "    print('Есть статистически значимая разница')\n",
    "else:\n",
    "    print('Статистически значимой разницы нет')"
   ]
  },
  {
   "cell_type": "code",
   "execution_count": 128,
   "id": "f0cdbd30",
   "metadata": {},
   "outputs": [
    {
     "name": "stdout",
     "output_type": "stream",
     "text": [
      "(-10974.5, 26021.5)\n",
      "(-10501.0, 24219.0)\n"
     ]
    }
   ],
   "source": [
    "print(get_outliers(positive_bill['cost']))\n",
    "print(get_outliers(negative_bill['cost']))"
   ]
  },
  {
   "cell_type": "code",
   "execution_count": 129,
   "id": "3f0408a6",
   "metadata": {},
   "outputs": [
    {
     "data": {
      "text/plain": [
       "<matplotlib.legend.Legend at 0x1d24aa70f10>"
      ]
     },
     "execution_count": 129,
     "metadata": {},
     "output_type": "execute_result"
    },
    {
     "data": {
      "image/png": "[encoded data removed]",
      "text/plain": [
       "<Figure size 800x400 with 1 Axes>"
      ]
     },
     "metadata": {},
     "output_type": "display_data"
    }
   ],
   "source": [
    "fig,ax = plt.subplots()\n",
    "ax.set_xlim(0, 26021.5)\n",
    "sns.histplot(x=negative_bill['cost'], bins=300, color='#005AAB', element='step')\n",
    "sns.histplot(x=positive_bill['cost'], bins=300, color='#C92228', element='step')\n",
    "ax.set_title('Распределение среднего чека')\n",
    "ax.set(xlabel='Средний чек на одного клиента', ylabel='Кол-во')\n",
    "ax.legend(['контрольная', 'тестовая'])"
   ]
  },
  {
   "cell_type": "code",
   "execution_count": 130,
   "id": "51ba77cb",
   "metadata": {},
   "outputs": [
    {
     "data": {
      "text/plain": [
       "<ErrorbarContainer object of 3 artists>"
      ]
     },
     "execution_count": 130,
     "metadata": {},
     "output_type": "execute_result"
    },
    {
     "data": {
      "image/png": "[encoded data removed]",
      "text/plain": [
       "<Figure size 800x400 with 1 Axes>"
      ]
     },
     "metadata": {},
     "output_type": "display_data"
    }
   ],
   "source": [
    "std_error_test= np.std(positive_bill['cost']) / np.sqrt(len(positive_bill['cost']))\n",
    "std_error_control = np.std(negative_bill['cost']) / np.sqrt(len(negative_bill['cost']))\n",
    "\n",
    "fig,ax = plt.subplots()\n",
    "sns.barplot(x = ['тестовая', 'контрольная'], y = [positive_bill['cost'].mean(), \n",
    "                                                  negative_bill['cost'].mean()], \n",
    "                                                  palette=['#C92228','#005AAB'])\n",
    "ax.bar_label(ax.containers[0], fontsize=12, label_type='center', color='white', fmt='%.0f')\n",
    "ax.bar_label(ax.containers[1], fontsize=12, label_type='center', color='white', fmt='%.0f')\n",
    "ax.set_title('Средний чек на одного клиента')\n",
    "ax.set(xlabel='Группа', ylabel='Средний чек', ylim=(9000, 11000))\n",
    "ax.errorbar(x = ['тестовая', 'контрольная'], y = [positive_bill['cost'].mean(), \n",
    "                                                  negative_bill['cost'].mean()], \n",
    "                                                  yerr = [1.96*std_error_test, 1.96*std_error_control],\n",
    "                                                  fmt='--k', linewidth=2, capsize=6, ecolor= 'black')"
   ]
  },
  {
   "cell_type": "code",
   "execution_count": 131,
   "id": "d368387c",
   "metadata": {},
   "outputs": [],
   "source": [
    "# Сгруппируем данные, чтобы получить количество покупок на одного клиента за время маркетинговой компании\n",
    "\n",
    "count_group = df_test.groupby(['id'], as_index=False).agg({'cost':'count'})"
   ]
  },
  {
   "cell_type": "code",
   "execution_count": 132,
   "id": "504fdb71",
   "metadata": {},
   "outputs": [],
   "source": [
    "positive_сount = count_group.loc[count_group['id'].isin(positive_id), :]\n",
    "negative_сount = count_group.loc[count_group['id'].isin(negative_id), :]"
   ]
  },
  {
   "attachments": {},
   "cell_type": "markdown",
   "id": "9c982030",
   "metadata": {},
   "source": [
    "**Основная гипотеза**: нет статистически значимой разницы между средним количеством купленных товаров  в тестовой и контрольной группах. \n",
    "\n",
    "**Альтернативная гипотеза**: есть статистически значимая разница между средним количеством купленных товаров в тестовой и контрольной группах."
   ]
  },
  {
   "cell_type": "code",
   "execution_count": 133,
   "id": "5673774c",
   "metadata": {},
   "outputs": [
    {
     "name": "stdout",
     "output_type": "stream",
     "text": [
      "KstestResult(statistic=0.8413447460685429, pvalue=0.0, statistic_location=1, statistic_sign=-1)\n",
      "KstestResult(statistic=0.8413447460685429, pvalue=0.0, statistic_location=1, statistic_sign=-1)\n"
     ]
    }
   ],
   "source": [
    "# Проверка нормальности распределения \n",
    "\n",
    "print(stats.kstest(positive_сount['cost'], \"norm\"))\n",
    "print(stats.kstest(negative_сount['cost'], \"norm\"))"
   ]
  },
  {
   "cell_type": "code",
   "execution_count": 134,
   "id": "b371bdce",
   "metadata": {},
   "outputs": [
    {
     "name": "stdout",
     "output_type": "stream",
     "text": [
      "MannwhitneyuResult(statistic=14503562.5, pvalue=4.042645528365477e-87)\n",
      "Есть статистически значимая разница\n"
     ]
    }
   ],
   "source": [
    "# Используем критерий Манна-Уитни\n",
    "\n",
    "mann = stats.mannwhitneyu(positive_сount['cost'], negative_сount['cost'])\n",
    "print(mann)\n",
    "\n",
    "if mann[1] < 0.05:\n",
    "    print('Есть статистически значимая разница')\n",
    "else:\n",
    "    print('Статистически значимой разницы нет')"
   ]
  },
  {
   "cell_type": "code",
   "execution_count": 135,
   "id": "25a241ff",
   "metadata": {},
   "outputs": [
    {
     "name": "stdout",
     "output_type": "stream",
     "text": [
      "(-4.0, 12.0)\n",
      "(-5.0, 11.0)\n"
     ]
    }
   ],
   "source": [
    "print(get_outliers(positive_сount['cost']))\n",
    "print(get_outliers(negative_сount['cost']))"
   ]
  },
  {
   "cell_type": "code",
   "execution_count": 136,
   "id": "19f2166e",
   "metadata": {},
   "outputs": [
    {
     "data": {
      "text/plain": [
       "<matplotlib.legend.Legend at 0x1d230201e50>"
      ]
     },
     "execution_count": 136,
     "metadata": {},
     "output_type": "execute_result"
    },
    {
     "data": {
      "image/png": "[encoded data removed]",
      "text/plain": [
       "<Figure size 800x400 with 1 Axes>"
      ]
     },
     "metadata": {},
     "output_type": "display_data"
    }
   ],
   "source": [
    "fig,ax = plt.subplots()\n",
    "ax.set_xlim(0, 12)\n",
    "sns.histplot(x=negative_сount['cost'], bins=70, color='#005AAB', element='step')\n",
    "sns.histplot(x=positive_сount['cost'], bins=70, color='#C92228', element='step')\n",
    "ax.set_title('Распределение среднего количества купленных товаров')\n",
    "ax.set(xlabel='Купленные товары', ylabel='Кол-во')\n",
    "ax.legend(['тестовая', 'контрольная'])"
   ]
  },
  {
   "cell_type": "code",
   "execution_count": 138,
   "id": "06941910",
   "metadata": {},
   "outputs": [
    {
     "data": {
      "text/plain": [
       "<ErrorbarContainer object of 3 artists>"
      ]
     },
     "execution_count": 138,
     "metadata": {},
     "output_type": "execute_result"
    },
    {
     "data": {
      "image/png": "[encoded data removed]",
      "text/plain": [
       "<Figure size 800x400 with 1 Axes>"
      ]
     },
     "metadata": {},
     "output_type": "display_data"
    }
   ],
   "source": [
    "std_error_test= np.std(positive_сount['cost']) / np.sqrt(len(positive_сount['cost']))\n",
    "std_error_control = np.std(negative_сount['cost']) / np.sqrt(len(negative_сount['cost']))\n",
    "\n",
    "fig,ax = plt.subplots()\n",
    "sns.barplot(x = ['тестовая', 'контрольная'], y = [positive_сount['cost'].mean(), \n",
    "                                                  negative_сount['cost'].mean()], \n",
    "                                                  palette=['#C92228','#005AAB'])\n",
    "ax.bar_label(ax.containers[0], fontsize=12, label_type='center', color='white', fmt='%.2f')\n",
    "ax.bar_label(ax.containers[1], fontsize=12, label_type='center', color='white', fmt='%.2f')\n",
    "ax.set_title('Среднее количество купленных товаров на одного клиента')\n",
    "ax.set(xlabel='Группа', ylabel='Кол-во', ylim=(3.5, 5.5))\n",
    "\n",
    "ax.errorbar(x = ['тестовая', 'контрольная'], y = [positive_сount['cost'].mean(), \n",
    "                                                  negative_сount['cost'].mean()], \n",
    "                                                  yerr = [1.96*std_error_test, 1.96*std_error_control],\n",
    "                                                  fmt='--k', linewidth=2, capsize=6, ecolor= 'black')"
   ]
  },
  {
   "attachments": {},
   "cell_type": "markdown",
   "id": "57eabb89",
   "metadata": {},
   "source": [
    "**Вывод**: по итогу проведенной первой маркетинговой компании средняя выручка на одного пользователя в тестовой группе выше на 25% чем в контрольной, средний чек выше на 6% и среднее количество купленных товаров одним клиентом выше на 31%. Из этих результатов можно сделать вывод, что маркетинговая компания была эффективна. "
   ]
  },
  {
   "attachments": {},
   "cell_type": "markdown",
   "id": "8218c1bf",
   "metadata": {},
   "source": [
    "## Кластеризация"
   ]
  },
  {
   "cell_type": "code",
   "execution_count": 139,
   "id": "ae2dea3e",
   "metadata": {},
   "outputs": [
    {
     "data": {
      "text/html": [
       "<div>\n",
       "<style scoped>\n",
       "    .dataframe tbody tr th:only-of-type {\n",
       "        vertical-align: middle;\n",
       "    }\n",
       "\n",
       "    .dataframe tbody tr th {\n",
       "        vertical-align: top;\n",
       "    }\n",
       "\n",
       "    .dataframe thead th {\n",
       "        text-align: right;\n",
       "    }\n",
       "</style>\n",
       "<table border=\"1\" class=\"dataframe\">\n",
       "  <thead>\n",
       "    <tr style=\"text-align: right;\">\n",
       "      <th></th>\n",
       "      <th>id</th>\n",
       "      <th>product</th>\n",
       "      <th>colour</th>\n",
       "      <th>cost</th>\n",
       "      <th>product_sex</th>\n",
       "      <th>base_sale</th>\n",
       "      <th>dt</th>\n",
       "    </tr>\n",
       "  </thead>\n",
       "  <tbody>\n",
       "    <tr>\n",
       "      <th>0</th>\n",
       "      <td>0</td>\n",
       "      <td>велосипед горный женский</td>\n",
       "      <td>белый</td>\n",
       "      <td>13599</td>\n",
       "      <td>0.0</td>\n",
       "      <td>1</td>\n",
       "      <td>7</td>\n",
       "    </tr>\n",
       "    <tr>\n",
       "      <th>1</th>\n",
       "      <td>0</td>\n",
       "      <td>стол</td>\n",
       "      <td>зелёный</td>\n",
       "      <td>1499</td>\n",
       "      <td>2.0</td>\n",
       "      <td>0</td>\n",
       "      <td>37</td>\n",
       "    </tr>\n",
       "    <tr>\n",
       "      <th>2</th>\n",
       "      <td>0</td>\n",
       "      <td>набор стол стула</td>\n",
       "      <td>бежевый</td>\n",
       "      <td>4799</td>\n",
       "      <td>2.0</td>\n",
       "      <td>0</td>\n",
       "      <td>37</td>\n",
       "    </tr>\n",
       "    <tr>\n",
       "      <th>3</th>\n",
       "      <td>3</td>\n",
       "      <td>бутсы мужские</td>\n",
       "      <td>белый</td>\n",
       "      <td>1599</td>\n",
       "      <td>1.0</td>\n",
       "      <td>0</td>\n",
       "      <td>13</td>\n",
       "    </tr>\n",
       "    <tr>\n",
       "      <th>4</th>\n",
       "      <td>3</td>\n",
       "      <td>мяч футбольный</td>\n",
       "      <td>мультицвет</td>\n",
       "      <td>7199</td>\n",
       "      <td>2.0</td>\n",
       "      <td>0</td>\n",
       "      <td>27</td>\n",
       "    </tr>\n",
       "  </tbody>\n",
       "</table>\n",
       "</div>"
      ],
      "text/plain": [
       "   id                   product      colour   cost  product_sex  base_sale  dt\n",
       "0   0  велосипед горный женский       белый  13599          0.0          1   7\n",
       "1   0                      стол     зелёный   1499          2.0          0  37\n",
       "2   0          набор стол стула     бежевый   4799          2.0          0  37\n",
       "3   3             бутсы мужские       белый   1599          1.0          0  13\n",
       "4   3            мяч футбольный  мультицвет   7199          2.0          0  27"
      ]
     },
     "execution_count": 139,
     "metadata": {},
     "output_type": "execute_result"
    }
   ],
   "source": [
    "df_purch.head()"
   ]
  },
  {
   "cell_type": "code",
   "execution_count": 140,
   "id": "72897f8a",
   "metadata": {},
   "outputs": [],
   "source": [
    "# Создаем новую таблицу с группировкой по id\n",
    "\n",
    "df_g = df_purch.groupby('id', as_index=False).agg({'cost':'sum',\n",
    "                                                   'product': pd.Series.mode,\n",
    "                                                   'colour': pd.Series.mode,\n",
    "                                                   'product_sex': pd.Series.mode,\n",
    "                                                   'base_sale':'mean',\n",
    "                                                   'dt':'max'\n",
    "                                                   })"
   ]
  },
  {
   "cell_type": "code",
   "execution_count": 141,
   "id": "13b525ac",
   "metadata": {},
   "outputs": [],
   "source": [
    "# Изменяем названия признаков\n",
    "\n",
    "dict = {'cost': 'cost_sum',\n",
    "        'product': 'product_mode',\n",
    "        'colour': 'color_mode',\n",
    "        'product_sex': 'product_sex_mode',\n",
    "        'base_sale': 'best_sale_mean',\n",
    "        'dt': 'dt_max'}\n",
    "\n",
    "df_g = df_g.rename(columns=dict)"
   ]
  },
  {
   "cell_type": "code",
   "execution_count": 142,
   "id": "899dcfcc",
   "metadata": {},
   "outputs": [
    {
     "data": {
      "text/html": [
       "<div>\n",
       "<style scoped>\n",
       "    .dataframe tbody tr th:only-of-type {\n",
       "        vertical-align: middle;\n",
       "    }\n",
       "\n",
       "    .dataframe tbody tr th {\n",
       "        vertical-align: top;\n",
       "    }\n",
       "\n",
       "    .dataframe thead th {\n",
       "        text-align: right;\n",
       "    }\n",
       "</style>\n",
       "<table border=\"1\" class=\"dataframe\">\n",
       "  <thead>\n",
       "    <tr style=\"text-align: right;\">\n",
       "      <th></th>\n",
       "      <th>id</th>\n",
       "      <th>cost_sum</th>\n",
       "      <th>product_mode</th>\n",
       "      <th>color_mode</th>\n",
       "      <th>product_sex_mode</th>\n",
       "      <th>best_sale_mean</th>\n",
       "      <th>dt_max</th>\n",
       "    </tr>\n",
       "  </thead>\n",
       "  <tbody>\n",
       "    <tr>\n",
       "      <th>0</th>\n",
       "      <td>0</td>\n",
       "      <td>19897</td>\n",
       "      <td>[велосипед горный женский, набор стол стула, с...</td>\n",
       "      <td>[бежевый, белый, зелёный]</td>\n",
       "      <td>2.0</td>\n",
       "      <td>0.333333</td>\n",
       "      <td>37</td>\n",
       "    </tr>\n",
       "    <tr>\n",
       "      <th>1</th>\n",
       "      <td>3</td>\n",
       "      <td>14596</td>\n",
       "      <td>[бутсы мужские, кеды мужские, мяч футбольный, ...</td>\n",
       "      <td>белый</td>\n",
       "      <td>1.0</td>\n",
       "      <td>0.250000</td>\n",
       "      <td>34</td>\n",
       "    </tr>\n",
       "    <tr>\n",
       "      <th>2</th>\n",
       "      <td>4</td>\n",
       "      <td>31093</td>\n",
       "      <td>роликовые коньки детские</td>\n",
       "      <td>белый</td>\n",
       "      <td>2.0</td>\n",
       "      <td>0.000000</td>\n",
       "      <td>32</td>\n",
       "    </tr>\n",
       "    <tr>\n",
       "      <th>3</th>\n",
       "      <td>6</td>\n",
       "      <td>84085</td>\n",
       "      <td>кроссовки мужские</td>\n",
       "      <td>черный</td>\n",
       "      <td>1.0</td>\n",
       "      <td>0.400000</td>\n",
       "      <td>30</td>\n",
       "    </tr>\n",
       "    <tr>\n",
       "      <th>4</th>\n",
       "      <td>7</td>\n",
       "      <td>58827</td>\n",
       "      <td>бутсы для мальчиков</td>\n",
       "      <td>красный</td>\n",
       "      <td>2.0</td>\n",
       "      <td>0.384615</td>\n",
       "      <td>49</td>\n",
       "    </tr>\n",
       "    <tr>\n",
       "      <th>...</th>\n",
       "      <td>...</td>\n",
       "      <td>...</td>\n",
       "      <td>...</td>\n",
       "      <td>...</td>\n",
       "      <td>...</td>\n",
       "      <td>...</td>\n",
       "      <td>...</td>\n",
       "    </tr>\n",
       "    <tr>\n",
       "      <th>104984</th>\n",
       "      <td>177998</td>\n",
       "      <td>20732</td>\n",
       "      <td>юбка шорты женская</td>\n",
       "      <td>белый</td>\n",
       "      <td>0.0</td>\n",
       "      <td>0.750000</td>\n",
       "      <td>30</td>\n",
       "    </tr>\n",
       "    <tr>\n",
       "      <th>104985</th>\n",
       "      <td>177999</td>\n",
       "      <td>148289</td>\n",
       "      <td>[велосипед городской, палатка местная]</td>\n",
       "      <td>черный</td>\n",
       "      <td>2.0</td>\n",
       "      <td>0.181818</td>\n",
       "      <td>49</td>\n",
       "    </tr>\n",
       "    <tr>\n",
       "      <th>104986</th>\n",
       "      <td>178001</td>\n",
       "      <td>48289</td>\n",
       "      <td>кроссовки мужские</td>\n",
       "      <td>[другой, темно-синий]</td>\n",
       "      <td>1.0</td>\n",
       "      <td>0.090909</td>\n",
       "      <td>46</td>\n",
       "    </tr>\n",
       "    <tr>\n",
       "      <th>104987</th>\n",
       "      <td>178002</td>\n",
       "      <td>11397</td>\n",
       "      <td>[бейсболка, кеды мужские, кроссовки мужские]</td>\n",
       "      <td>другой</td>\n",
       "      <td>1.0</td>\n",
       "      <td>0.000000</td>\n",
       "      <td>57</td>\n",
       "    </tr>\n",
       "    <tr>\n",
       "      <th>104988</th>\n",
       "      <td>178004</td>\n",
       "      <td>93305</td>\n",
       "      <td>кроссовки мужские</td>\n",
       "      <td>[другой, черный]</td>\n",
       "      <td>1.0</td>\n",
       "      <td>0.000000</td>\n",
       "      <td>20</td>\n",
       "    </tr>\n",
       "  </tbody>\n",
       "</table>\n",
       "<p>104989 rows × 7 columns</p>\n",
       "</div>"
      ],
      "text/plain": [
       "            id  cost_sum                                       product_mode  \\\n",
       "0            0     19897  [велосипед горный женский, набор стол стула, с...   \n",
       "1            3     14596  [бутсы мужские, кеды мужские, мяч футбольный, ...   \n",
       "2            4     31093                           роликовые коньки детские   \n",
       "3            6     84085                                  кроссовки мужские   \n",
       "4            7     58827                                бутсы для мальчиков   \n",
       "...        ...       ...                                                ...   \n",
       "104984  177998     20732                                 юбка шорты женская   \n",
       "104985  177999    148289             [велосипед городской, палатка местная]   \n",
       "104986  178001     48289                                  кроссовки мужские   \n",
       "104987  178002     11397       [бейсболка, кеды мужские, кроссовки мужские]   \n",
       "104988  178004     93305                                  кроссовки мужские   \n",
       "\n",
       "                       color_mode product_sex_mode  best_sale_mean  dt_max  \n",
       "0       [бежевый, белый, зелёный]              2.0        0.333333      37  \n",
       "1                           белый              1.0        0.250000      34  \n",
       "2                           белый              2.0        0.000000      32  \n",
       "3                          черный              1.0        0.400000      30  \n",
       "4                         красный              2.0        0.384615      49  \n",
       "...                           ...              ...             ...     ...  \n",
       "104984                      белый              0.0        0.750000      30  \n",
       "104985                     черный              2.0        0.181818      49  \n",
       "104986      [другой, темно-синий]              1.0        0.090909      46  \n",
       "104987                     другой              1.0        0.000000      57  \n",
       "104988           [другой, черный]              1.0        0.000000      20  \n",
       "\n",
       "[104989 rows x 7 columns]"
      ]
     },
     "execution_count": 142,
     "metadata": {},
     "output_type": "execute_result"
    }
   ],
   "source": [
    "df_g"
   ]
  },
  {
   "cell_type": "code",
   "execution_count": 143,
   "id": "f347c4a3",
   "metadata": {},
   "outputs": [],
   "source": [
    "# Преобразуем элементы признаков, которые состоят из списков в строку\n",
    "\n",
    "mode_columns = ['product_mode', 'color_mode', 'product_sex_mode']\n",
    "\n",
    "for column in mode_columns:\n",
    "    df_g[column] = df_g[column].apply(lambda x: x[0] if type(x) == np.ndarray else x)"
   ]
  },
  {
   "cell_type": "code",
   "execution_count": 144,
   "id": "b7c01a35",
   "metadata": {},
   "outputs": [],
   "source": [
    "# Объединяем датафрейм с данными о клиентах\n",
    "\n",
    "df = pd.merge(left=df_clients, right=df_g, on='id', how='inner')"
   ]
  },
  {
   "cell_type": "code",
   "execution_count": 145,
   "id": "2df3395d",
   "metadata": {},
   "outputs": [
    {
     "data": {
      "text/html": [
       "<div>\n",
       "<style scoped>\n",
       "    .dataframe tbody tr th:only-of-type {\n",
       "        vertical-align: middle;\n",
       "    }\n",
       "\n",
       "    .dataframe tbody tr th {\n",
       "        vertical-align: top;\n",
       "    }\n",
       "\n",
       "    .dataframe thead th {\n",
       "        text-align: right;\n",
       "    }\n",
       "</style>\n",
       "<table border=\"1\" class=\"dataframe\">\n",
       "  <thead>\n",
       "    <tr style=\"text-align: right;\">\n",
       "      <th></th>\n",
       "      <th>id</th>\n",
       "      <th>gender</th>\n",
       "      <th>age</th>\n",
       "      <th>education</th>\n",
       "      <th>city</th>\n",
       "      <th>country</th>\n",
       "      <th>personal_coef</th>\n",
       "      <th>cost_sum</th>\n",
       "      <th>product_mode</th>\n",
       "      <th>color_mode</th>\n",
       "      <th>product_sex_mode</th>\n",
       "      <th>best_sale_mean</th>\n",
       "      <th>dt_max</th>\n",
       "    </tr>\n",
       "  </thead>\n",
       "  <tbody>\n",
       "    <tr>\n",
       "      <th>0</th>\n",
       "      <td>0</td>\n",
       "      <td>0.0</td>\n",
       "      <td>36</td>\n",
       "      <td>1</td>\n",
       "      <td>1201</td>\n",
       "      <td>32</td>\n",
       "      <td>0.5072</td>\n",
       "      <td>19897</td>\n",
       "      <td>велосипед горный женский</td>\n",
       "      <td>бежевый</td>\n",
       "      <td>2.0</td>\n",
       "      <td>0.333333</td>\n",
       "      <td>37</td>\n",
       "    </tr>\n",
       "    <tr>\n",
       "      <th>1</th>\n",
       "      <td>4</td>\n",
       "      <td>0.0</td>\n",
       "      <td>35</td>\n",
       "      <td>1</td>\n",
       "      <td>1134</td>\n",
       "      <td>32</td>\n",
       "      <td>0.5072</td>\n",
       "      <td>31093</td>\n",
       "      <td>роликовые коньки детские</td>\n",
       "      <td>белый</td>\n",
       "      <td>2.0</td>\n",
       "      <td>0.000000</td>\n",
       "      <td>32</td>\n",
       "    </tr>\n",
       "    <tr>\n",
       "      <th>2</th>\n",
       "      <td>6</td>\n",
       "      <td>1.0</td>\n",
       "      <td>52</td>\n",
       "      <td>1</td>\n",
       "      <td>1188</td>\n",
       "      <td>32</td>\n",
       "      <td>0.4304</td>\n",
       "      <td>84085</td>\n",
       "      <td>кроссовки мужские</td>\n",
       "      <td>черный</td>\n",
       "      <td>1.0</td>\n",
       "      <td>0.400000</td>\n",
       "      <td>30</td>\n",
       "    </tr>\n",
       "    <tr>\n",
       "      <th>3</th>\n",
       "      <td>7</td>\n",
       "      <td>0.0</td>\n",
       "      <td>37</td>\n",
       "      <td>1</td>\n",
       "      <td>1198</td>\n",
       "      <td>32</td>\n",
       "      <td>0.5072</td>\n",
       "      <td>58827</td>\n",
       "      <td>бутсы для мальчиков</td>\n",
       "      <td>красный</td>\n",
       "      <td>2.0</td>\n",
       "      <td>0.384615</td>\n",
       "      <td>49</td>\n",
       "    </tr>\n",
       "    <tr>\n",
       "      <th>4</th>\n",
       "      <td>9</td>\n",
       "      <td>0.0</td>\n",
       "      <td>48</td>\n",
       "      <td>1</td>\n",
       "      <td>1134</td>\n",
       "      <td>32</td>\n",
       "      <td>0.5072</td>\n",
       "      <td>63290</td>\n",
       "      <td>ветровка женская</td>\n",
       "      <td>милитари</td>\n",
       "      <td>0.0</td>\n",
       "      <td>0.900000</td>\n",
       "      <td>56</td>\n",
       "    </tr>\n",
       "  </tbody>\n",
       "</table>\n",
       "</div>"
      ],
      "text/plain": [
       "   id  gender  age  education  city  country  personal_coef  cost_sum  \\\n",
       "0   0     0.0   36          1  1201       32         0.5072     19897   \n",
       "1   4     0.0   35          1  1134       32         0.5072     31093   \n",
       "2   6     1.0   52          1  1188       32         0.4304     84085   \n",
       "3   7     0.0   37          1  1198       32         0.5072     58827   \n",
       "4   9     0.0   48          1  1134       32         0.5072     63290   \n",
       "\n",
       "               product_mode color_mode  product_sex_mode  best_sale_mean  \\\n",
       "0  велосипед горный женский    бежевый               2.0        0.333333   \n",
       "1  роликовые коньки детские      белый               2.0        0.000000   \n",
       "2         кроссовки мужские     черный               1.0        0.400000   \n",
       "3       бутсы для мальчиков    красный               2.0        0.384615   \n",
       "4          ветровка женская   милитари               0.0        0.900000   \n",
       "\n",
       "   dt_max  \n",
       "0      37  \n",
       "1      32  \n",
       "2      30  \n",
       "3      49  \n",
       "4      56  "
      ]
     },
     "execution_count": 145,
     "metadata": {},
     "output_type": "execute_result"
    }
   ],
   "source": [
    "df.head()"
   ]
  },
  {
   "cell_type": "code",
   "execution_count": 146,
   "id": "bae2c5c8",
   "metadata": {},
   "outputs": [],
   "source": [
    "df = df.drop(columns=['id'])"
   ]
  },
  {
   "cell_type": "code",
   "execution_count": 147,
   "id": "edf45628",
   "metadata": {},
   "outputs": [],
   "source": [
    "num_columns = ['age', 'personal_coef','cost_sum', 'best_sale_mean','dt_max']"
   ]
  },
  {
   "cell_type": "code",
   "execution_count": 148,
   "id": "709cef3d",
   "metadata": {},
   "outputs": [],
   "source": [
    "scaler = StandardScaler()\n",
    "df[num_columns] = scaler.fit_transform(df[num_columns])"
   ]
  },
  {
   "cell_type": "code",
   "execution_count": null,
   "id": "e126bfaf",
   "metadata": {},
   "outputs": [],
   "source": [
    "# Выбираем оптимальное количество кластеров с помощью метода локтя\n",
    "\n",
    "n_clusters = list(range(2,8))\n",
    "cost = []\n",
    "\n",
    "for n in n_clusters:\n",
    "    kproto = KPrototypes(n_clusters=n, init='Cao', n_jobs=-1)\n",
    "    kproto.fit_predict(df, categorical=[0,2,3,4,7,8,9])\n",
    "    cost.append(kproto.cost_)"
   ]
  },
  {
   "cell_type": "code",
   "execution_count": null,
   "metadata": {},
   "outputs": [
    {
     "data": {
      "text/plain": [
       "<Axes: >"
      ]
     },
     "execution_count": 100,
     "metadata": {},
     "output_type": "execute_result"
    },
    {
     "data": {
      "image/png": "[encoded data removed]",
      "text/plain": [
       "<Figure size 640x480 with 1 Axes>"
      ]
     },
     "metadata": {},
     "output_type": "display_data"
    }
   ],
   "source": [
    "sns.lineplot(x=n_clusters, y=cost, color='#C92228')"
   ]
  },
  {
   "cell_type": "code",
   "execution_count": 62,
   "id": "aae8da33",
   "metadata": {},
   "outputs": [
    {
     "data": {
      "text/plain": [
       "array([1, 2, 2, ..., 1, 2, 3], dtype=uint16)"
      ]
     },
     "execution_count": 62,
     "metadata": {},
     "output_type": "execute_result"
    }
   ],
   "source": [
    "kproto = KPrototypes(n_clusters=4, init='Cao', n_jobs=-1)\n",
    "kproto.fit_predict(df, categorical=[0,2,3,4,7,8,9])"
   ]
  },
  {
   "cell_type": "code",
   "execution_count": 63,
   "id": "cc31ed28",
   "metadata": {},
   "outputs": [],
   "source": [
    "# Преобразуем числовые признаки датафрейма к двумерной таблице с помощью TSNE, для последующей визуализации\n",
    "\n",
    "tsne = TSNE(n_components=2, perplexity=40)\n",
    "df_emb = tsne.fit_transform(df[num_columns])\n",
    "data = pd.DataFrame(df_emb)"
   ]
  },
  {
   "cell_type": "code",
   "execution_count": 64,
   "id": "b48a5fb5",
   "metadata": {},
   "outputs": [
    {
     "data": {
      "text/plain": [
       "<Axes: xlabel='0', ylabel='1'>"
      ]
     },
     "execution_count": 64,
     "metadata": {},
     "output_type": "execute_result"
    },
    {
     "data": {
      "image/png": "[encoded data removed]",
      "text/plain": [
       "<Figure size 640x480 with 1 Axes>"
      ]
     },
     "metadata": {},
     "output_type": "display_data"
    }
   ],
   "source": [
    "pallete = sns.color_palette(\"dark:#005AAB\", as_cmap=True)\n",
    "sns.scatterplot(x=data[0], y=data[1], hue=kproto.labels_, palette=pallete)"
   ]
  },
  {
   "cell_type": "code",
   "execution_count": 65,
   "metadata": {},
   "outputs": [],
   "source": [
    "# Осуществляем обратное преобразование нормализованных признаков, для того чтобы их было проще интерпритировать\n",
    "\n",
    "df[num_columns] = scaler.inverse_transform(df[num_columns])\n",
    "\n",
    "num_columns.extend(['education','gender'])\n",
    "mode_cols = set(df.columns) - set(num_columns)\n",
    "\n",
    "d1 = dict.fromkeys(num_columns, 'mean')\n",
    "d2 = dict.fromkeys(mode_cols, pd.Series.mode)"
   ]
  },
  {
   "cell_type": "code",
   "execution_count": 66,
   "id": "247bf950",
   "metadata": {},
   "outputs": [
    {
     "data": {
      "text/html": [
       "<div>\n",
       "<style scoped>\n",
       "    .dataframe tbody tr th:only-of-type {\n",
       "        vertical-align: middle;\n",
       "    }\n",
       "\n",
       "    .dataframe tbody tr th {\n",
       "        vertical-align: top;\n",
       "    }\n",
       "\n",
       "    .dataframe thead th {\n",
       "        text-align: right;\n",
       "    }\n",
       "</style>\n",
       "<table border=\"1\" class=\"dataframe\">\n",
       "  <thead>\n",
       "    <tr style=\"text-align: right;\">\n",
       "      <th></th>\n",
       "      <th>cluster 1</th>\n",
       "      <th>cluster 2</th>\n",
       "      <th>cluster 3</th>\n",
       "      <th>cluster 4</th>\n",
       "    </tr>\n",
       "  </thead>\n",
       "  <tbody>\n",
       "    <tr>\n",
       "      <th>age</th>\n",
       "      <td>15.83</td>\n",
       "      <td>38.93</td>\n",
       "      <td>38.24</td>\n",
       "      <td>40.87</td>\n",
       "    </tr>\n",
       "    <tr>\n",
       "      <th>personal_coef</th>\n",
       "      <td>0.27</td>\n",
       "      <td>0.5</td>\n",
       "      <td>0.47</td>\n",
       "      <td>0.45</td>\n",
       "    </tr>\n",
       "    <tr>\n",
       "      <th>cost_sum</th>\n",
       "      <td>37977.74</td>\n",
       "      <td>28459.01</td>\n",
       "      <td>26589.76</td>\n",
       "      <td>60020.9</td>\n",
       "    </tr>\n",
       "    <tr>\n",
       "      <th>best_sale_mean</th>\n",
       "      <td>0.33</td>\n",
       "      <td>0.61</td>\n",
       "      <td>0.16</td>\n",
       "      <td>0.21</td>\n",
       "    </tr>\n",
       "    <tr>\n",
       "      <th>dt_max</th>\n",
       "      <td>39.47</td>\n",
       "      <td>44.19</td>\n",
       "      <td>23.42</td>\n",
       "      <td>50.22</td>\n",
       "    </tr>\n",
       "    <tr>\n",
       "      <th>education</th>\n",
       "      <td>0.2</td>\n",
       "      <td>0.8</td>\n",
       "      <td>0.8</td>\n",
       "      <td>0.86</td>\n",
       "    </tr>\n",
       "    <tr>\n",
       "      <th>gender</th>\n",
       "      <td>0.68</td>\n",
       "      <td>0.27</td>\n",
       "      <td>0.63</td>\n",
       "      <td>0.76</td>\n",
       "    </tr>\n",
       "    <tr>\n",
       "      <th>product_mode</th>\n",
       "      <td>кроссовки мужские</td>\n",
       "      <td>кроссовки женские</td>\n",
       "      <td>кроссовки мужские</td>\n",
       "      <td>кроссовки мужские</td>\n",
       "    </tr>\n",
       "    <tr>\n",
       "      <th>product_sex_mode</th>\n",
       "      <td>1.0</td>\n",
       "      <td>0.0</td>\n",
       "      <td>2.0</td>\n",
       "      <td>1.0</td>\n",
       "    </tr>\n",
       "    <tr>\n",
       "      <th>city</th>\n",
       "      <td>1134</td>\n",
       "      <td>1134</td>\n",
       "      <td>1134</td>\n",
       "      <td>1134</td>\n",
       "    </tr>\n",
       "    <tr>\n",
       "      <th>color_mode</th>\n",
       "      <td>черный</td>\n",
       "      <td>черный</td>\n",
       "      <td>черный</td>\n",
       "      <td>другой</td>\n",
       "    </tr>\n",
       "    <tr>\n",
       "      <th>country</th>\n",
       "      <td>32</td>\n",
       "      <td>32</td>\n",
       "      <td>32</td>\n",
       "      <td>32</td>\n",
       "    </tr>\n",
       "  </tbody>\n",
       "</table>\n",
       "</div>"
      ],
      "text/plain": [
       "                          cluster 1          cluster 2          cluster 3  \\\n",
       "age                           15.83              38.93              38.24   \n",
       "personal_coef                  0.27                0.5               0.47   \n",
       "cost_sum                   37977.74           28459.01           26589.76   \n",
       "best_sale_mean                 0.33               0.61               0.16   \n",
       "dt_max                        39.47              44.19              23.42   \n",
       "education                       0.2                0.8                0.8   \n",
       "gender                         0.68               0.27               0.63   \n",
       "product_mode      кроссовки мужские  кроссовки женские  кроссовки мужские   \n",
       "product_sex_mode                1.0                0.0                2.0   \n",
       "city                           1134               1134               1134   \n",
       "color_mode                   черный             черный             черный   \n",
       "country                          32                 32                 32   \n",
       "\n",
       "                          cluster 4  \n",
       "age                           40.87  \n",
       "personal_coef                  0.45  \n",
       "cost_sum                    60020.9  \n",
       "best_sale_mean                 0.21  \n",
       "dt_max                        50.22  \n",
       "education                      0.86  \n",
       "gender                         0.76  \n",
       "product_mode      кроссовки мужские  \n",
       "product_sex_mode                1.0  \n",
       "city                           1134  \n",
       "color_mode                   другой  \n",
       "country                          32  "
      ]
     },
     "execution_count": 66,
     "metadata": {},
     "output_type": "execute_result"
    }
   ],
   "source": [
    "d = {**d1, **d2}\n",
    "df_g = df.groupby(kproto.labels_, as_index=False).agg(d)\n",
    "df_g = df_g.round(2).T\n",
    "df_g = df_g.rename(columns={0:'cluster 1', 1:'cluster 2', 2:'cluster 3', 3:'cluster 4'})\n",
    "df_g"
   ]
  },
  {
   "cell_type": "code",
   "execution_count": 67,
   "id": "58829972",
   "metadata": {},
   "outputs": [
    {
     "data": {
      "image/png": "[encoded data removed]",
      "text/plain": [
       "<Figure size 640x480 with 1 Axes>"
      ]
     },
     "metadata": {},
     "output_type": "display_data"
    }
   ],
   "source": [
    "unique,counts = np.unique(kproto.labels_, return_counts=True)\n",
    "labels = df_g.columns.tolist()\n",
    "colors = sns.color_palette(\"light:#C92228\")\n",
    "plt.pie(counts, labels = labels, colors = colors, autopct='%.0f%%')\n",
    "plt.show()"
   ]
  },
  {
   "attachments": {},
   "cell_type": "markdown",
   "id": "dd0ce713",
   "metadata": {},
   "source": [
    "<p>Первый кластер (6% от общего количества) является самым молодым (средний возраст 16 лет), при этом 80% клиентов в нем имеют высшее образование. Состоит он преимущественно из клиентов мужского пола (68%) со средними расходами на одного клиента в 38 тысяч рублей и покупают они в основном товары предназначенные для мужчин. Наиболее популярным товаром в этой группе являются мужские кроссовки.</p>\n",
    "<p>Второй кластер (30%) состоит преимущественно из женщин (73%) и чаще всех делает покупки при наличии скидки (61%). Самый популярный товар в этой группе женские кроссовки, а цвет - черный. Средняя сумма расходов на одного клиента 28 тысяч рублей. В основном приборетают товары для женщин.</p>\n",
    "<p>Третий кластер (26%) лишь в 16% приобретает товары по скидке, средние расходы самые низкие (26 тысяч рублей) и дольше всех не делал покупок. Преимущественно приобретают универсальные товары.</p>\n",
    "<p>Четвертый кластер (38%) имеет самые большие расходы в 60 тысяч рублей, самую позднюю дату покупки. На 76% состоит из мужчин с преимущественно средним образованием (86%) и возрастом в 41 год.</p>"
   ]
  },
  {
   "attachments": {},
   "cell_type": "markdown",
   "id": "31fcaa91",
   "metadata": {},
   "source": [
    "## Модель склонности клиента к покупке определенного товара"
   ]
  },
  {
   "cell_type": "code",
   "execution_count": 52,
   "id": "b5549d86",
   "metadata": {},
   "outputs": [],
   "source": [
    "with open('data/ids_first_company_positive.txt') as f:\n",
    "    positive = f.read()\n",
    "\n",
    "elem_list = re.split(';|,| ', positive)\n",
    "\n",
    "positive_id = []\n",
    "\n",
    "for i in elem_list:\n",
    "    if i.isdigit():\n",
    "        positive_id.append(int(i))"
   ]
  },
  {
   "cell_type": "code",
   "execution_count": 53,
   "id": "ce5f3238",
   "metadata": {},
   "outputs": [
    {
     "data": {
      "text/html": [
       "<div>\n",
       "<style scoped>\n",
       "    .dataframe tbody tr th:only-of-type {\n",
       "        vertical-align: middle;\n",
       "    }\n",
       "\n",
       "    .dataframe tbody tr th {\n",
       "        vertical-align: top;\n",
       "    }\n",
       "\n",
       "    .dataframe thead th {\n",
       "        text-align: right;\n",
       "    }\n",
       "</style>\n",
       "<table border=\"1\" class=\"dataframe\">\n",
       "  <thead>\n",
       "    <tr style=\"text-align: right;\">\n",
       "      <th></th>\n",
       "      <th>id</th>\n",
       "      <th>product</th>\n",
       "    </tr>\n",
       "  </thead>\n",
       "  <tbody>\n",
       "    <tr>\n",
       "      <th>22</th>\n",
       "      <td>67</td>\n",
       "      <td>бутсы для мальчиков</td>\n",
       "    </tr>\n",
       "    <tr>\n",
       "      <th>33</th>\n",
       "      <td>92</td>\n",
       "      <td>куртка мембранная женская</td>\n",
       "    </tr>\n",
       "    <tr>\n",
       "      <th>42</th>\n",
       "      <td>105</td>\n",
       "      <td>электросамокат</td>\n",
       "    </tr>\n",
       "    <tr>\n",
       "      <th>46</th>\n",
       "      <td>122</td>\n",
       "      <td>бутылка для воды</td>\n",
       "    </tr>\n",
       "    <tr>\n",
       "      <th>70</th>\n",
       "      <td>192</td>\n",
       "      <td>кроссовки мужские</td>\n",
       "    </tr>\n",
       "    <tr>\n",
       "      <th>...</th>\n",
       "      <td>...</td>\n",
       "      <td>...</td>\n",
       "    </tr>\n",
       "    <tr>\n",
       "      <th>77109</th>\n",
       "      <td>177918</td>\n",
       "      <td>брюки женские</td>\n",
       "    </tr>\n",
       "    <tr>\n",
       "      <th>77113</th>\n",
       "      <td>177924</td>\n",
       "      <td>балетки женские</td>\n",
       "    </tr>\n",
       "    <tr>\n",
       "      <th>77122</th>\n",
       "      <td>177946</td>\n",
       "      <td>брюки женские</td>\n",
       "    </tr>\n",
       "    <tr>\n",
       "      <th>77131</th>\n",
       "      <td>177965</td>\n",
       "      <td>шорты для мальчиков</td>\n",
       "    </tr>\n",
       "    <tr>\n",
       "      <th>77138</th>\n",
       "      <td>177982</td>\n",
       "      <td>брюки мужские</td>\n",
       "    </tr>\n",
       "  </tbody>\n",
       "</table>\n",
       "<p>4757 rows × 2 columns</p>\n",
       "</div>"
      ],
      "text/plain": [
       "           id                    product\n",
       "22         67        бутсы для мальчиков\n",
       "33         92  куртка мембранная женская\n",
       "42        105             электросамокат\n",
       "46        122           бутылка для воды\n",
       "70        192          кроссовки мужские\n",
       "...       ...                        ...\n",
       "77109  177918              брюки женские\n",
       "77113  177924            балетки женские\n",
       "77122  177946              брюки женские\n",
       "77131  177965        шорты для мальчиков\n",
       "77138  177982              брюки мужские\n",
       "\n",
       "[4757 rows x 2 columns]"
      ]
     },
     "execution_count": 53,
     "metadata": {},
     "output_type": "execute_result"
    }
   ],
   "source": [
    "# Выбираем клиентов которые участвовали в первой маркетинговой компании\n",
    "\n",
    "df_first = df_purch[(df_purch['dt'] >= 5) & (df_purch['dt'] < 17)]\n",
    "product_group = df_first.groupby('id', as_index=False).agg({'product': pd.Series.mode})\n",
    "first_camp = product_group.loc[product_group['id'].isin(positive_id), :]\n",
    "first_camp['product'] = first_camp['product'].apply(lambda x: x[0] if type(x) == np.ndarray else x)\n",
    "first_camp"
   ]
  },
  {
   "cell_type": "code",
   "execution_count": 54,
   "id": "d5a6e6aa",
   "metadata": {},
   "outputs": [
    {
     "data": {
      "text/html": [
       "<div>\n",
       "<style scoped>\n",
       "    .dataframe tbody tr th:only-of-type {\n",
       "        vertical-align: middle;\n",
       "    }\n",
       "\n",
       "    .dataframe tbody tr th {\n",
       "        vertical-align: top;\n",
       "    }\n",
       "\n",
       "    .dataframe thead th {\n",
       "        text-align: right;\n",
       "    }\n",
       "</style>\n",
       "<table border=\"1\" class=\"dataframe\">\n",
       "  <thead>\n",
       "    <tr style=\"text-align: right;\">\n",
       "      <th></th>\n",
       "      <th>id</th>\n",
       "      <th>product</th>\n",
       "    </tr>\n",
       "  </thead>\n",
       "  <tbody>\n",
       "    <tr>\n",
       "      <th>0</th>\n",
       "      <td>11</td>\n",
       "      <td>кроссовки женские</td>\n",
       "    </tr>\n",
       "    <tr>\n",
       "      <th>1</th>\n",
       "      <td>13</td>\n",
       "      <td>ворота футбольные</td>\n",
       "    </tr>\n",
       "    <tr>\n",
       "      <th>2</th>\n",
       "      <td>39</td>\n",
       "      <td>бомбер мужской</td>\n",
       "    </tr>\n",
       "    <tr>\n",
       "      <th>3</th>\n",
       "      <td>49</td>\n",
       "      <td>ветровка мужская</td>\n",
       "    </tr>\n",
       "    <tr>\n",
       "      <th>4</th>\n",
       "      <td>57</td>\n",
       "      <td>кеды мужские</td>\n",
       "    </tr>\n",
       "    <tr>\n",
       "      <th>...</th>\n",
       "      <td>...</td>\n",
       "      <td>...</td>\n",
       "    </tr>\n",
       "    <tr>\n",
       "      <th>19824</th>\n",
       "      <td>177966</td>\n",
       "      <td>перчатки вратарские</td>\n",
       "    </tr>\n",
       "    <tr>\n",
       "      <th>19825</th>\n",
       "      <td>177975</td>\n",
       "      <td>куртка утепленная мужская</td>\n",
       "    </tr>\n",
       "    <tr>\n",
       "      <th>19826</th>\n",
       "      <td>177979</td>\n",
       "      <td>очиститель цепи</td>\n",
       "    </tr>\n",
       "    <tr>\n",
       "      <th>19827</th>\n",
       "      <td>177982</td>\n",
       "      <td>бейсболка</td>\n",
       "    </tr>\n",
       "    <tr>\n",
       "      <th>19828</th>\n",
       "      <td>178001</td>\n",
       "      <td>кроссовки мужские</td>\n",
       "    </tr>\n",
       "  </tbody>\n",
       "</table>\n",
       "<p>19829 rows × 2 columns</p>\n",
       "</div>"
      ],
      "text/plain": [
       "           id                    product\n",
       "0          11          кроссовки женские\n",
       "1          13          ворота футбольные\n",
       "2          39             бомбер мужской\n",
       "3          49           ветровка мужская\n",
       "4          57               кеды мужские\n",
       "...       ...                        ...\n",
       "19824  177966        перчатки вратарские\n",
       "19825  177975  куртка утепленная мужская\n",
       "19826  177979            очиститель цепи\n",
       "19827  177982                  бейсболка\n",
       "19828  178001          кроссовки мужские\n",
       "\n",
       "[19829 rows x 2 columns]"
      ]
     },
     "execution_count": 54,
     "metadata": {},
     "output_type": "execute_result"
    }
   ],
   "source": [
    "# Выбираем клиентов которые участвовали во второй маркетинговой компании\n",
    "\n",
    "df_second = df_purch[(df_purch['dt'] == 15) | (df_purch['dt'] == 45)]\n",
    "second_camp = df_second.groupby('id', as_index=False).agg({'product': pd.Series.mode})\n",
    "second_camp['product'] = second_camp['product'].apply(lambda x: x[0] if type(x) == np.ndarray else x)\n",
    "second_camp"
   ]
  },
  {
   "cell_type": "code",
   "execution_count": 55,
   "id": "2cf5d38d",
   "metadata": {},
   "outputs": [
    {
     "data": {
      "text/plain": [
       "(4757, 8)"
      ]
     },
     "execution_count": 55,
     "metadata": {},
     "output_type": "execute_result"
    }
   ],
   "source": [
    "# Объединяем таблицы с информацией о купленных продуктах с информацией о клиентах по id\n",
    "\n",
    "first_df = pd.merge(left=df_clients, right = first_camp, on='id', how='inner')\n",
    "first_df.shape"
   ]
  },
  {
   "cell_type": "code",
   "execution_count": 56,
   "id": "98be5bd4",
   "metadata": {},
   "outputs": [
    {
     "data": {
      "text/plain": [
       "(5697, 8)"
      ]
     },
     "execution_count": 56,
     "metadata": {},
     "output_type": "execute_result"
    }
   ],
   "source": [
    "second_df = pd.merge(left=df_clients, right = second_camp, on='id', how='inner')\n",
    "second_df = second_df[second_df.city == 1134]\n",
    "second_df.shape"
   ]
  },
  {
   "cell_type": "code",
   "execution_count": 57,
   "id": "6e473ef8",
   "metadata": {},
   "outputs": [],
   "source": [
    "# Объединяем датафремы\n",
    "\n",
    "train = first_df.append(second_df)"
   ]
  },
  {
   "cell_type": "code",
   "execution_count": 58,
   "id": "1082ea81",
   "metadata": {},
   "outputs": [
    {
     "data": {
      "text/plain": [
       "161"
      ]
     },
     "execution_count": 58,
     "metadata": {},
     "output_type": "execute_result"
    }
   ],
   "source": [
    "train.duplicated().sum()"
   ]
  },
  {
   "cell_type": "code",
   "execution_count": 59,
   "id": "aa17203b",
   "metadata": {},
   "outputs": [
    {
     "data": {
      "text/html": [
       "<div>\n",
       "<style scoped>\n",
       "    .dataframe tbody tr th:only-of-type {\n",
       "        vertical-align: middle;\n",
       "    }\n",
       "\n",
       "    .dataframe tbody tr th {\n",
       "        vertical-align: top;\n",
       "    }\n",
       "\n",
       "    .dataframe thead th {\n",
       "        text-align: right;\n",
       "    }\n",
       "</style>\n",
       "<table border=\"1\" class=\"dataframe\">\n",
       "  <thead>\n",
       "    <tr style=\"text-align: right;\">\n",
       "      <th></th>\n",
       "      <th>id</th>\n",
       "      <th>gender</th>\n",
       "      <th>age</th>\n",
       "      <th>education</th>\n",
       "      <th>city</th>\n",
       "      <th>country</th>\n",
       "      <th>personal_coef</th>\n",
       "      <th>product</th>\n",
       "    </tr>\n",
       "  </thead>\n",
       "  <tbody>\n",
       "    <tr>\n",
       "      <th>0</th>\n",
       "      <td>67</td>\n",
       "      <td>1.0</td>\n",
       "      <td>38</td>\n",
       "      <td>1</td>\n",
       "      <td>1168</td>\n",
       "      <td>32</td>\n",
       "      <td>0.4304</td>\n",
       "      <td>бутсы для мальчиков</td>\n",
       "    </tr>\n",
       "    <tr>\n",
       "      <th>1</th>\n",
       "      <td>92</td>\n",
       "      <td>0.0</td>\n",
       "      <td>48</td>\n",
       "      <td>1</td>\n",
       "      <td>1190</td>\n",
       "      <td>32</td>\n",
       "      <td>0.5072</td>\n",
       "      <td>куртка мембранная женская</td>\n",
       "    </tr>\n",
       "    <tr>\n",
       "      <th>2</th>\n",
       "      <td>105</td>\n",
       "      <td>1.0</td>\n",
       "      <td>33</td>\n",
       "      <td>1</td>\n",
       "      <td>1134</td>\n",
       "      <td>32</td>\n",
       "      <td>0.4304</td>\n",
       "      <td>электросамокат</td>\n",
       "    </tr>\n",
       "    <tr>\n",
       "      <th>3</th>\n",
       "      <td>122</td>\n",
       "      <td>1.0</td>\n",
       "      <td>55</td>\n",
       "      <td>1</td>\n",
       "      <td>1188</td>\n",
       "      <td>32</td>\n",
       "      <td>0.4304</td>\n",
       "      <td>бутылка для воды</td>\n",
       "    </tr>\n",
       "    <tr>\n",
       "      <th>4</th>\n",
       "      <td>192</td>\n",
       "      <td>1.0</td>\n",
       "      <td>45</td>\n",
       "      <td>1</td>\n",
       "      <td>1134</td>\n",
       "      <td>32</td>\n",
       "      <td>0.4304</td>\n",
       "      <td>кроссовки мужские</td>\n",
       "    </tr>\n",
       "    <tr>\n",
       "      <th>...</th>\n",
       "      <td>...</td>\n",
       "      <td>...</td>\n",
       "      <td>...</td>\n",
       "      <td>...</td>\n",
       "      <td>...</td>\n",
       "      <td>...</td>\n",
       "      <td>...</td>\n",
       "      <td>...</td>\n",
       "    </tr>\n",
       "    <tr>\n",
       "      <th>19821</th>\n",
       "      <td>130052</td>\n",
       "      <td>1.0</td>\n",
       "      <td>39</td>\n",
       "      <td>1</td>\n",
       "      <td>1134</td>\n",
       "      <td>32</td>\n",
       "      <td>0.4304</td>\n",
       "      <td>велосипедки мужские</td>\n",
       "    </tr>\n",
       "    <tr>\n",
       "      <th>19824</th>\n",
       "      <td>121124</td>\n",
       "      <td>0.0</td>\n",
       "      <td>38</td>\n",
       "      <td>1</td>\n",
       "      <td>1134</td>\n",
       "      <td>32</td>\n",
       "      <td>0.5072</td>\n",
       "      <td>носки пары</td>\n",
       "    </tr>\n",
       "    <tr>\n",
       "      <th>19825</th>\n",
       "      <td>97334</td>\n",
       "      <td>0.0</td>\n",
       "      <td>32</td>\n",
       "      <td>1</td>\n",
       "      <td>1134</td>\n",
       "      <td>32</td>\n",
       "      <td>0.5072</td>\n",
       "      <td>велосипедки женские</td>\n",
       "    </tr>\n",
       "    <tr>\n",
       "      <th>19826</th>\n",
       "      <td>3646</td>\n",
       "      <td>1.0</td>\n",
       "      <td>58</td>\n",
       "      <td>1</td>\n",
       "      <td>1134</td>\n",
       "      <td>32</td>\n",
       "      <td>0.4304</td>\n",
       "      <td>лента силовая</td>\n",
       "    </tr>\n",
       "    <tr>\n",
       "      <th>19828</th>\n",
       "      <td>135183</td>\n",
       "      <td>1.0</td>\n",
       "      <td>44</td>\n",
       "      <td>1</td>\n",
       "      <td>1134</td>\n",
       "      <td>32</td>\n",
       "      <td>0.4304</td>\n",
       "      <td>бриджи женские</td>\n",
       "    </tr>\n",
       "  </tbody>\n",
       "</table>\n",
       "<p>10293 rows × 8 columns</p>\n",
       "</div>"
      ],
      "text/plain": [
       "           id  gender  age  education  city  country  personal_coef  \\\n",
       "0          67     1.0   38          1  1168       32         0.4304   \n",
       "1          92     0.0   48          1  1190       32         0.5072   \n",
       "2         105     1.0   33          1  1134       32         0.4304   \n",
       "3         122     1.0   55          1  1188       32         0.4304   \n",
       "4         192     1.0   45          1  1134       32         0.4304   \n",
       "...       ...     ...  ...        ...   ...      ...            ...   \n",
       "19821  130052     1.0   39          1  1134       32         0.4304   \n",
       "19824  121124     0.0   38          1  1134       32         0.5072   \n",
       "19825   97334     0.0   32          1  1134       32         0.5072   \n",
       "19826    3646     1.0   58          1  1134       32         0.4304   \n",
       "19828  135183     1.0   44          1  1134       32         0.4304   \n",
       "\n",
       "                         product  \n",
       "0            бутсы для мальчиков  \n",
       "1      куртка мембранная женская  \n",
       "2                 электросамокат  \n",
       "3               бутылка для воды  \n",
       "4              кроссовки мужские  \n",
       "...                          ...  \n",
       "19821        велосипедки мужские  \n",
       "19824                 носки пары  \n",
       "19825        велосипедки женские  \n",
       "19826              лента силовая  \n",
       "19828             бриджи женские  \n",
       "\n",
       "[10293 rows x 8 columns]"
      ]
     },
     "execution_count": 59,
     "metadata": {},
     "output_type": "execute_result"
    }
   ],
   "source": [
    "train.drop_duplicates()"
   ]
  },
  {
   "cell_type": "code",
   "execution_count": 60,
   "id": "7c19386c",
   "metadata": {},
   "outputs": [],
   "source": [
    "# Упрощаем название товаров, для сокращения кол-ва категорий\n",
    "\n",
    "train['product'] = train['product'].apply(lambda x: x.split(' ')[0])"
   ]
  },
  {
   "cell_type": "code",
   "execution_count": 61,
   "id": "1ed15e26",
   "metadata": {},
   "outputs": [
    {
     "data": {
      "text/plain": [
       "428"
      ]
     },
     "execution_count": 61,
     "metadata": {},
     "output_type": "execute_result"
    }
   ],
   "source": [
    "train['product'].nunique()"
   ]
  },
  {
   "cell_type": "code",
   "execution_count": 95,
   "id": "cd07c84d",
   "metadata": {},
   "outputs": [
    {
     "data": {
      "text/plain": [
       "кроссовки      1892\n",
       "брюки          1119\n",
       "кеды            764\n",
       "полуботинки     382\n",
       "велосипед       368\n",
       "               ... \n",
       "дартс             1\n",
       "гидролиния        1\n",
       "пикниковый        1\n",
       "эспадрильи        1\n",
       "сидушка           1\n",
       "Name: product, Length: 428, dtype: int64"
      ]
     },
     "execution_count": 95,
     "metadata": {},
     "output_type": "execute_result"
    }
   ],
   "source": [
    "train['product'].value_counts()"
   ]
  },
  {
   "cell_type": "code",
   "execution_count": 62,
   "id": "66438090",
   "metadata": {},
   "outputs": [
    {
     "data": {
      "text/plain": [
       "(12438, 7)"
      ]
     },
     "execution_count": 62,
     "metadata": {},
     "output_type": "execute_result"
    }
   ],
   "source": [
    "# Создаем тестовый датафрейм на котором необходимо применить модель\n",
    "\n",
    "test = df_clients[(df_clients.city == 1188) & (df_clients.country == 32)]\n",
    "test.shape"
   ]
  },
  {
   "cell_type": "code",
   "execution_count": 80,
   "id": "1de3f0d5",
   "metadata": {},
   "outputs": [],
   "source": [
    "x_train = train.drop(columns=['id', 'product'])\n",
    "y_train = train['product']\n",
    "\n",
    "x_test = test.drop(columns=['id'])"
   ]
  },
  {
   "cell_type": "code",
   "execution_count": 64,
   "id": "e7176f99",
   "metadata": {},
   "outputs": [],
   "source": [
    "kf = StratifiedKFold(n_splits=3, shuffle=True, random_state=42)\n",
    "rfc = RandomForestClassifier()"
   ]
  },
  {
   "cell_type": "code",
   "execution_count": 73,
   "id": "f673c066",
   "metadata": {},
   "outputs": [
    {
     "name": "stdout",
     "output_type": "stream",
     "text": [
      "Best params:  {'n_estimators': 300, 'min_samples_split': 12, 'min_samples_leaf': 8, 'max_depth': 50, 'class_weight': None}\n",
      "Best score:  0.1740006237436589\n"
     ]
    }
   ],
   "source": [
    "# Подбираем гиперпараметры модели\n",
    "\n",
    "params = {'n_estimators' : [300, 500, 700],\n",
    "          'max_depth': np.arange(10, 60, 4),\n",
    "          'min_samples_leaf': np.arange(1, 10, 1),\n",
    "          'min_samples_split': np.arange(2, 20, 2),\n",
    "          'class_weight': ('balanced', None)}\n",
    "\n",
    "rs = RandomizedSearchCV(rfc, params, cv=kf, scoring='f1_micro', n_jobs=-1, error_score='raise')\n",
    "rs.fit(x_train, y_train)\n",
    "\n",
    "print('Best params: ', rs.best_params_)\n",
    "print('Best score: ', rs.best_score_)"
   ]
  },
  {
   "cell_type": "code",
   "execution_count": 74,
   "id": "6159c784",
   "metadata": {},
   "outputs": [
    {
     "data": {
      "text/html": [
       "<style>#sk-container-id-1 {color: black;}#sk-container-id-1 pre{padding: 0;}#sk-container-id-1 div.sk-toggleable {background-color: white;}#sk-container-id-1 label.sk-toggleable__label {cursor: pointer;display: block;width: 100%;margin-bottom: 0;padding: 0.3em;box-sizing: border-box;text-align: center;}#sk-container-id-1 label.sk-toggleable__label-arrow:before {content: \"▸\";float: left;margin-right: 0.25em;color: #696969;}#sk-container-id-1 label.sk-toggleable__label-arrow:hover:before {color: black;}#sk-container-id-1 div.sk-estimator:hover label.sk-toggleable__label-arrow:before {color: black;}#sk-container-id-1 div.sk-toggleable__content {max-height: 0;max-width: 0;overflow: hidden;text-align: left;background-color: #f0f8ff;}#sk-container-id-1 div.sk-toggleable__content pre {margin: 0.2em;color: black;border-radius: 0.25em;background-color: #f0f8ff;}#sk-container-id-1 input.sk-toggleable__control:checked~div.sk-toggleable__content {max-height: 200px;max-width: 100%;overflow: auto;}#sk-container-id-1 input.sk-toggleable__control:checked~label.sk-toggleable__label-arrow:before {content: \"▾\";}#sk-container-id-1 div.sk-estimator input.sk-toggleable__control:checked~label.sk-toggleable__label {background-color: #d4ebff;}#sk-container-id-1 div.sk-label input.sk-toggleable__control:checked~label.sk-toggleable__label {background-color: #d4ebff;}#sk-container-id-1 input.sk-hidden--visually {border: 0;clip: rect(1px 1px 1px 1px);clip: rect(1px, 1px, 1px, 1px);height: 1px;margin: -1px;overflow: hidden;padding: 0;position: absolute;width: 1px;}#sk-container-id-1 div.sk-estimator {font-family: monospace;background-color: #f0f8ff;border: 1px dotted black;border-radius: 0.25em;box-sizing: border-box;margin-bottom: 0.5em;}#sk-container-id-1 div.sk-estimator:hover {background-color: #d4ebff;}#sk-container-id-1 div.sk-parallel-item::after {content: \"\";width: 100%;border-bottom: 1px solid gray;flex-grow: 1;}#sk-container-id-1 div.sk-label:hover label.sk-toggleable__label {background-color: #d4ebff;}#sk-container-id-1 div.sk-serial::before {content: \"\";position: absolute;border-left: 1px solid gray;box-sizing: border-box;top: 0;bottom: 0;left: 50%;z-index: 0;}#sk-container-id-1 div.sk-serial {display: flex;flex-direction: column;align-items: center;background-color: white;padding-right: 0.2em;padding-left: 0.2em;position: relative;}#sk-container-id-1 div.sk-item {position: relative;z-index: 1;}#sk-container-id-1 div.sk-parallel {display: flex;align-items: stretch;justify-content: center;background-color: white;position: relative;}#sk-container-id-1 div.sk-item::before, #sk-container-id-1 div.sk-parallel-item::before {content: \"\";position: absolute;border-left: 1px solid gray;box-sizing: border-box;top: 0;bottom: 0;left: 50%;z-index: -1;}#sk-container-id-1 div.sk-parallel-item {display: flex;flex-direction: column;z-index: 1;position: relative;background-color: white;}#sk-container-id-1 div.sk-parallel-item:first-child::after {align-self: flex-end;width: 50%;}#sk-container-id-1 div.sk-parallel-item:last-child::after {align-self: flex-start;width: 50%;}#sk-container-id-1 div.sk-parallel-item:only-child::after {width: 0;}#sk-container-id-1 div.sk-dashed-wrapped {border: 1px dashed gray;margin: 0 0.4em 0.5em 0.4em;box-sizing: border-box;padding-bottom: 0.4em;background-color: white;}#sk-container-id-1 div.sk-label label {font-family: monospace;font-weight: bold;display: inline-block;line-height: 1.2em;}#sk-container-id-1 div.sk-label-container {text-align: center;}#sk-container-id-1 div.sk-container {/* jupyter's `normalize.less` sets `[hidden] { display: none; }` but bootstrap.min.css set `[hidden] { display: none !important; }` so we also need the `!important` here to be able to override the default hidden behavior on the sphinx rendered scikit-learn.org. See: https://github.com/scikit-learn/scikit-learn/issues/21755 */display: inline-block !important;position: relative;}#sk-container-id-1 div.sk-text-repr-fallback {display: none;}</style><div id=\"sk-container-id-1\" class=\"sk-top-container\"><div class=\"sk-text-repr-fallback\"><pre>RandomForestClassifier(max_depth=50, min_samples_leaf=8, min_samples_split=12,\n",
       "                       n_estimators=300)</pre><b>In a Jupyter environment, please rerun this cell to show the HTML representation or trust the notebook. <br />On GitHub, the HTML representation is unable to render, please try loading this page with nbviewer.org.</b></div><div class=\"sk-container\" hidden><div class=\"sk-item\"><div class=\"sk-estimator sk-toggleable\"><input class=\"sk-toggleable__control sk-hidden--visually\" id=\"sk-estimator-id-1\" type=\"checkbox\" checked><label for=\"sk-estimator-id-1\" class=\"sk-toggleable__label sk-toggleable__label-arrow\">RandomForestClassifier</label><div class=\"sk-toggleable__content\"><pre>RandomForestClassifier(max_depth=50, min_samples_leaf=8, min_samples_split=12,\n",
       "                       n_estimators=300)</pre></div></div></div></div></div>"
      ],
      "text/plain": [
       "RandomForestClassifier(max_depth=50, min_samples_leaf=8, min_samples_split=12,\n",
       "                       n_estimators=300)"
      ]
     },
     "execution_count": 74,
     "metadata": {},
     "output_type": "execute_result"
    }
   ],
   "source": [
    "# Обучаем модель с лучшими гиперпараметрами\n",
    "\n",
    "model = RandomForestClassifier(n_estimators=300, min_samples_split=12, min_samples_leaf=8, max_depth=50, class_weight=None)\n",
    "model.fit(x_train, y_train)"
   ]
  },
  {
   "cell_type": "code",
   "execution_count": 89,
   "id": "5b0db173",
   "metadata": {},
   "outputs": [],
   "source": [
    "model_pred = model.predict(x_test)"
   ]
  },
  {
   "cell_type": "code",
   "execution_count": 91,
   "id": "f669fc4a",
   "metadata": {},
   "outputs": [],
   "source": [
    "x_test['product'] = model_pred"
   ]
  },
  {
   "cell_type": "code",
   "execution_count": 92,
   "id": "b8bb45da",
   "metadata": {},
   "outputs": [
    {
     "data": {
      "text/html": [
       "<div>\n",
       "<style scoped>\n",
       "    .dataframe tbody tr th:only-of-type {\n",
       "        vertical-align: middle;\n",
       "    }\n",
       "\n",
       "    .dataframe tbody tr th {\n",
       "        vertical-align: top;\n",
       "    }\n",
       "\n",
       "    .dataframe thead th {\n",
       "        text-align: right;\n",
       "    }\n",
       "</style>\n",
       "<table border=\"1\" class=\"dataframe\">\n",
       "  <thead>\n",
       "    <tr style=\"text-align: right;\">\n",
       "      <th></th>\n",
       "      <th>gender</th>\n",
       "      <th>age</th>\n",
       "      <th>education</th>\n",
       "      <th>city</th>\n",
       "      <th>country</th>\n",
       "      <th>personal_coef</th>\n",
       "      <th>product</th>\n",
       "    </tr>\n",
       "  </thead>\n",
       "  <tbody>\n",
       "    <tr>\n",
       "      <th>2</th>\n",
       "      <td>1.0</td>\n",
       "      <td>52</td>\n",
       "      <td>1</td>\n",
       "      <td>1188</td>\n",
       "      <td>32</td>\n",
       "      <td>0.4304</td>\n",
       "      <td>кроссовки</td>\n",
       "    </tr>\n",
       "    <tr>\n",
       "      <th>9</th>\n",
       "      <td>1.0</td>\n",
       "      <td>53</td>\n",
       "      <td>1</td>\n",
       "      <td>1188</td>\n",
       "      <td>32</td>\n",
       "      <td>0.4304</td>\n",
       "      <td>кроссовки</td>\n",
       "    </tr>\n",
       "    <tr>\n",
       "      <th>20</th>\n",
       "      <td>1.0</td>\n",
       "      <td>21</td>\n",
       "      <td>0</td>\n",
       "      <td>1188</td>\n",
       "      <td>32</td>\n",
       "      <td>0.4688</td>\n",
       "      <td>кроссовки</td>\n",
       "    </tr>\n",
       "    <tr>\n",
       "      <th>21</th>\n",
       "      <td>1.0</td>\n",
       "      <td>35</td>\n",
       "      <td>0</td>\n",
       "      <td>1188</td>\n",
       "      <td>32</td>\n",
       "      <td>0.4688</td>\n",
       "      <td>кроссовки</td>\n",
       "    </tr>\n",
       "    <tr>\n",
       "      <th>44</th>\n",
       "      <td>0.0</td>\n",
       "      <td>37</td>\n",
       "      <td>1</td>\n",
       "      <td>1188</td>\n",
       "      <td>32</td>\n",
       "      <td>0.5072</td>\n",
       "      <td>брюки</td>\n",
       "    </tr>\n",
       "  </tbody>\n",
       "</table>\n",
       "</div>"
      ],
      "text/plain": [
       "    gender  age  education  city  country  personal_coef    product\n",
       "2      1.0   52          1  1188       32         0.4304  кроссовки\n",
       "9      1.0   53          1  1188       32         0.4304  кроссовки\n",
       "20     1.0   21          0  1188       32         0.4688  кроссовки\n",
       "21     1.0   35          0  1188       32         0.4688  кроссовки\n",
       "44     0.0   37          1  1188       32         0.5072      брюки"
      ]
     },
     "execution_count": 92,
     "metadata": {},
     "output_type": "execute_result"
    }
   ],
   "source": [
    "x_test.head()"
   ]
  },
  {
   "cell_type": "code",
   "execution_count": 94,
   "id": "93fef802",
   "metadata": {},
   "outputs": [
    {
     "data": {
      "text/plain": [
       "кроссовки    9865\n",
       "брюки        2472\n",
       "ветровка      101\n",
       "Name: product, dtype: int64"
      ]
     },
     "execution_count": 94,
     "metadata": {},
     "output_type": "execute_result"
    }
   ],
   "source": [
    "x_test['product'].value_counts()"
   ]
  }
 ],
 "metadata": {
  "kernelspec": {
   "display_name": "Python 3",
   "language": "python",
   "name": "python3"
  },
  "language_info": {
   "codemirror_mode": {
    "name": "ipython",
    "version": 3
   },
   "file_extension": ".py",
   "mimetype": "text/x-python",
   "name": "python",
   "nbconvert_exporter": "python",
   "pygments_lexer": "ipython3",
   "version": "3.11.11"
  }
 },
 "nbformat": 4,
 "nbformat_minor": 5
}
